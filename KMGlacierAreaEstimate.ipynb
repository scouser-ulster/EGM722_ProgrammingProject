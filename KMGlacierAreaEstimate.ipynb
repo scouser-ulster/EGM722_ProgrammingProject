{
 "cells": [
  {
   "cell_type": "markdown",
   "id": "91617b2a-b65e-4b09-9cd2-ce8b4de080f6",
   "metadata": {},
   "source": [
    "# GLACIER AREA CALCULATOR # \n",
    "## Introduction to the code ##\n",
    "\n",
    "The Estimated Glacier Area Calculator is a script that can be used to provide users with an estimation of glacier area change using Landsat satellite data over a multidecadal period. The interactive programming notebook created using Jupyter Lab notebook is intended to provide users with a quick and efficient way to calculate glacier area changes for entire mountain ranges. This project will primarily use the USGS Python Package to identify, download and present Landsat imagery between 1985 - 2024 at the Kenai Mountains in Alaska. The script uses several functions from geospatial packages such as Rasterio, NumPy, and a download USGS python package `(https://github.com/kapadia/usgs)`. All edits and changes to the script have been documented using commits on Github. Github was also used to fork the USGS python package to the working repository.\n"
   ]
  },
  {
   "cell_type": "code",
   "execution_count": null,
   "id": "7b030732-c4ea-4001-8c2f-b27816d32d24",
   "metadata": {},
   "outputs": [],
   "source": [
    "# List of modules required for this study\n",
    "\n",
    "# usgs will need to be downloaded to the users conda environment (using pip install usgs)\n",
    "import usgs\n",
    "from usgs import api\n",
    "import os\n",
    "import requests\n",
    "import tarfile\n",
    "import rasterio\n",
    "from rasterio.windows import from_bounds\n",
    "from rasterio.features import shapes\n",
    "import geopandas as gpd\n",
    "from shapely.geometry import shape\n",
    "import numpy as np\n",
    "import matplotlib.pyplot as plt"
   ]
  },
  {
   "cell_type": "markdown",
   "id": "92aa1780-fff2-4061-9fd4-0777fa4ff26b",
   "metadata": {},
   "source": [
    "## Getting Logged in and Set up ##"
   ]
  },
  {
   "cell_type": "markdown",
   "id": "fe45f156-314c-46bf-8411-07225af52776",
   "metadata": {},
   "source": [
    "In order for this script to work, users will require both a valid account on the USGS Earth Explorer Website (https://earthexplorer.usgs.gov/) and an authorised Api Key (This can be applied for by following the attached link https://ers.cr.usgs.gov/)."
   ]
  },
  {
   "cell_type": "code",
   "execution_count": null,
   "id": "e34fb1c7-40d7-4863-aed3-8284108cf66d",
   "metadata": {},
   "outputs": [],
   "source": [
    "# Open and read the Username and Api Key/Token for the USGS account\n",
    "with open('~/.usgs_login', 'r') as usertext: # Enter user directory\n",
    "    username = usertext.read()\n",
    "with open('~/.usgs_token', 'r') as tokentext:  # Enter user Api token\n",
    "    password = tokentext.read()\n",
    "    \n",
    "# Log in using the above information \n",
    "login = api.login(username, password, save=True)\n",
    "\n",
    "# Extract the API Key (token) separately as it will be needed to search for and download Landsat scenes\n",
    "api_key = login['data']\n",
    "print(\"Log in successful\")"
   ]
  },
  {
   "cell_type": "markdown",
   "id": "8fdd68c0-3912-4e0e-985d-248b45b085cd",
   "metadata": {},
   "source": [
    "To identify and search for the required Landsat scenes in this study the user uses the `api.scene_search()` function as this will be the primary method for getting the correct images before they are downloaded. "
   ]
  },
  {
   "cell_type": "markdown",
   "id": "dbb61ef7-5073-435b-86aa-0b29958ab6d7",
   "metadata": {},
   "source": [
    "For the scene searches in this study the user will use the following:\n",
    "- Dataset ID (dataset)\n",
    "- Latitude and Longitude (lat and lng)\n",
    "- Earth Explorer allows the user to create a bounding box to get available images that cover those areas (ll and ur - Lower left corner and Upper Right corner for the bounding box respectively)\n",
    "- Start and End date (start_date and end_date)\n",
    "- The extracted Api key (api_key)\n",
    "\n",
    "Future adaptations could include filtering image selection based on cloud coverage to ensure that images used are cloud free."
   ]
  },
  {
   "cell_type": "markdown",
   "id": "da245fc5-9ae6-49b5-bb02-fc13ed3f74be",
   "metadata": {},
   "source": [
    "The user uses `dataset_search` to identify what Landsat datasets are available and importantly the exact 'dataset' which will be used to download and extract the specific scenes needed for this study"
   ]
  },
  {
   "cell_type": "code",
   "execution_count": null,
   "id": "754893d4-0e23-4b73-900d-e891100fa5f2",
   "metadata": {},
   "outputs": [],
   "source": [
    "# Landsat imagery comes from the EarthExplorer dataset (node), search and print out all Landsat datasets in the Earth Explorer node\n",
    "satellite_avail = api.dataset_search(\"landsat\", \"EE\")\n",
    "for dataset in satellite_avail['data']:\n",
    "        print(dataset['datasetAlias']) #Prints out names of all available datasets"
   ]
  },
  {
   "cell_type": "markdown",
   "id": "ec40fd37-86bc-4fff-bc5c-f6c72781e9a0",
   "metadata": {},
   "source": [
    "All available scenes are printed above. In this project the user will use the `landsat_tm_c2_l1` (1986, 1995 and 2009) and the `landsat_ot_c2_l1` (2014 and 2024) datasets to acquire imagery of the Kenai Mountain Glaciers. The next step is to search for the Landsat images that will be used for the study. The user can get the Bounding box coordinates and landsat image information on the USGS Earth Explorer website `(https://earthexplorer.usgs.gov/)`.\n",
    "In this study, a set date has been used to get the exact image required, however the date range can be adjusted to get see the available products ether across a range of dates or on different days."
   ]
  },
  {
   "cell_type": "markdown",
   "id": "2ce991eb-8ec1-4218-a0c9-a40a95de2d58",
   "metadata": {},
   "source": [
    "## Downloading and analysing the 1986 Landsat Scene ## "
   ]
  },
  {
   "cell_type": "code",
   "execution_count": null,
   "id": "2e183f17-d2f9-444f-a882-4f5009c98be6",
   "metadata": {},
   "outputs": [],
   "source": [
    "# Use the search function to get the 'entity_id' Landsat scene used in the study\n",
    "results_1986 = api.scene_search(\n",
    "    # Landsat dataset used for 1986 image\n",
    "    dataset = \"landsat_tm_c2_l1\", \n",
    "    # The latitude of the image (Can be changed for different locations)\n",
    "    lat = 60.09345, \n",
    "    # The longtitude of the image (Can be changed for different locations)\n",
    "    lng = -151.07395, \n",
    "    # The Latitude and Longtitude of the Lower left corner of the Bounding Box in EE\n",
    "    ll = {\"longitude\" : -151.7075, \"latitude\" : 59.1140}, \n",
    "    # The Latitude and Longtitude of the Upper Right corner of the Bounding Box in EE\n",
    "    ur = {\"longitude\" : -150.1913, \"latitude\" : 59.9276},\n",
    "    # The start date of the search range\n",
    "    start_date = \"1986-09-11\", \n",
    "    # The end date of the search range\n",
    "    end_date = \"1986-09-13\", \n",
    "    # The Users Api key\n",
    "    api_key=api_key \n",
    ")\n",
    "\n",
    "# Loop through each 'scene' that appears in the results and print out the 'entity_id' which will be used in the dataset download.\n",
    "for scene in results_1986['data']['results']:\n",
    "    print(\"The Entity ID of the 1986 Landsat scene is\",(scene['entityId'])) "
   ]
  },
  {
   "cell_type": "markdown",
   "id": "bc3a80b9-53d9-4d85-807a-22cc08cca1ae",
   "metadata": {},
   "source": [
    "Now that the Entity ID is known the user can now download the Band files which will be used to build a false colour composite image of the Kenai Mountains."
   ]
  },
  {
   "cell_type": "code",
   "execution_count": null,
   "id": "96eba491-ffbe-4638-b4f4-95dd69c70c61",
   "metadata": {},
   "outputs": [],
   "source": [
    "# This cell will provide the different download options for the Landsat dataset\n",
    "api.dataset_download_options(\"landsat_tm_c2_l1\")                             "
   ]
  },
  {
   "cell_type": "markdown",
   "id": "f279fde6-3acc-46ab-be3f-323088bb53d6",
   "metadata": {},
   "source": [
    "In this study the user will use the 'Landsat Collection 2 Level-1 Product Bundle' to download all the different bands. For all downloads in this script, the user will be using the product_id that includes the download system 'ls_zip'. The product ID code with the download option will be used in the download request to download the tar file into the repository. The users downloada all of the datasets as a tarfile as when the images are download from the USGS dataset it combines all images into a single file. If images are downloaded as a zip file it doesn't allow the user to extract the file contents as all images are individually compressed.\n",
    "\n",
    "Therefore, in this project all images that are downloaded from the USGS are downloaded in the tar file format so that the user can used the tarfile module to easily extract images into the directory folder.\n",
    "\n",
    "The next cell will download the Landsat band images associated with the entity_id that was acquired from the scene search above. The download_requests functions will return a URL which can be used to download the band file folder to our chosen directory. The user will use this URL to direct our download to the 1986Data folder as a Tar file."
   ]
  },
  {
   "cell_type": "code",
   "execution_count": null,
   "id": "f926c7bb-2b14-43ce-8c3b-39e0a9dc19bf",
   "metadata": {},
   "outputs": [],
   "source": [
    "# Use the OS module to create a new folder for all the Kenai Mountains data to be stored \n",
    "# Create a '1986Data' folder to store data that belongs to this time period\n",
    "os.makedirs(\"KenaiMountains/1986Data\", exist_ok=True) \n",
    "\n",
    "# This functions will return the available download urls for the Landsat scene\n",
    "KM_1986 = api.download_request(\n",
    "    dataset=\"landsat_tm_c2_l1\", # Landsat dataset\n",
    "    entity_id=\"LT50690181986255XXX05\", # Landsat scene entity id returned from the scene search\n",
    "    product_id=\"5e83d0a0f94d7d8d\", # Product id for the Landsat Collection 1 Level 1 ls.zip\n",
    ")\n",
    "\n",
    " # Download the Landsat data using the url provided by the download_request function from the EE node\n",
    "if 'data' in KM_1986 and 'availableDownloads' in KM_1986['data']:\n",
    "    # Identifies if the above Landsat is available to be downloaded\n",
    "    KM_1986Avail = KM_1986['data']['availableDownloads'] \n",
    "    if KM_1986Avail:\n",
    "        KM1986downloadurl = KM_1986Avail[0]['url']# Use the first download url retrieved from download_request\n",
    "        KM_1986File = os.path.join(\"KenaiMountains/1986Data\", f\"LT50690181986255XXX05.tar\")# Set the file path to download into the '1986Data' folder created above\n",
    "        KM1986url = requests.get(KM1986downloadurl, stream=True)# Use the requests module to get the URL stored in the 'KM1986downloadurl' variable\n",
    "\n",
    "        # Write the downloaded file in binary mode to avoid corruption during download\n",
    "        with open(KM_1986File, \"wb\") as f: \n",
    "            # Download in 8Kb chunks to avoid issues with larger datasets (more relevant to 'landsat_ot_c2_l1' scenes\n",
    "            for chunk in KM1986url.iter_content(chunk_size=8192): \n",
    "                # Then we use .write to download the data in chunk to our chosen folder\n",
    "                if chunk:\n",
    "                    f.write(chunk)\n",
    "\n",
    "# When the download is successful it will print the following text\n",
    "# The download may take a few minutes but can be monitored by refreshing the directory folder (1986Data)\n",
    "print(\"1986 Kenai Mountain images downloaded!\")"
   ]
  },
  {
   "cell_type": "code",
   "execution_count": null,
   "id": "d1898af2-93b0-4108-b70d-306a18d7b161",
   "metadata": {},
   "outputs": [],
   "source": [
    "# Extract the Landsat images from the .tar file that we downloaded from the USGS EE node\n",
    "with tarfile.open(\"KenaiMountains/1986Data/LT50690181986255XXX05.tar\", 'r') as KM1986Tar:\n",
    "    KM1986Tar.extractall(\"KenaiMountains/1986Data\")\n",
    "\n",
    "# Text will display whenever images have been successfully extracted into the 1986Data folder\n",
    "print(\"Images have been successfully extracted\")"
   ]
  },
  {
   "cell_type": "markdown",
   "id": "72e58724-6a1a-4ee5-adc0-658e11758470",
   "metadata": {},
   "source": [
    "Now that the images for the 1986 dataset have been downloaded the user will build a false colour composite image of the Landsat scene\n",
    "\n",
    "As part of this the user is going to use Rasterio to open, read and stack the images to create a new 3D array (using NumPY). \n",
    "This stack combines the necessary band combination to create a False Colour Composite Image of the Landsat scene.\n",
    "The user will then use matplotlib to present the created False Colour Composite image to ensure that the correct bands have been used and that the stack has been successfull."
   ]
  },
  {
   "cell_type": "code",
   "execution_count": null,
   "id": "6d11ae96-5e48-46cb-b5ed-f8ad7abf3087",
   "metadata": {},
   "outputs": [],
   "source": [
    "# Use Rasterio to open the paths to the Landsat scene Band TIF files\n",
    "with rasterio.open(\"KenaiMountains/1986Data/LT05_L1TP_069018_19860912_20200917_02_T1_B4.TIF\") as KM1986_B4IMG:\n",
    "    KM86B4 = KM1986_B4IMG.read(1) # The paths are defined as B4 (NIR), B3 (Red) and B2 (Green) respectively\n",
    "with rasterio.open(\"KenaiMountains/1986Data/LT05_L1TP_069018_19860912_20200917_02_T1_B3.TIF\") as KM1986_B3IMG:\n",
    "    KM86B3 = KM1986_B3IMG.read(1)\n",
    "with rasterio.open(\"KenaiMountains/1986Data/LT05_L1TP_069018_19860912_20200917_02_T1_B2.TIF\") as KM1986_B2IMG:\n",
    "    KM86B2 = KM1986_B2IMG.read(1)\n",
    "\n",
    "# Stack bands using NumPy module to create a single 3D Array\n",
    "KM1986_FFCstack = np.dstack((KM86B4, KM86B3, KM86B2))\n",
    "\n",
    "# Print the Stacked image to show the False Colour Composite for the 1986 Landsat scene\n",
    "plt.figure(figsize=(8, 8)) # create a figure of size 8x8 (representing the page size in inches)\n",
    "plt.imshow(KM1986_FFCstack) # The figure will show the False Colour Composite Image for 1986\n",
    "plt.title(\"Kenai Mountains 1986 False Colour Composite Image\") # The Figure Title\n",
    "plt.show()"
   ]
  },
  {
   "cell_type": "markdown",
   "id": "fe3f7a9b-6f17-4a8b-99ba-d50f38a1a5f4",
   "metadata": {},
   "source": [
    "Now that the False Colour Composite Image has been successfully built. The user will save the image to the 1986Data folder so that it can be trimmed and then used for the glacier mask later in the session.\n",
    "\n",
    "The user then updates image profile for the False Colour Composite image using the NIR band as the source, this ensures that the created TIF keeps the same metadata structure as it will be used in the following steps to create a trim and Glacier mask.\n",
    "\n",
    "The metadata in the profile includes:\n",
    "- Pixel Height and Width\n",
    "- Coordinate System\n",
    "- Transformation\n",
    "- Driver/File Format\n",
    "\n",
    "The user then updates the Metadata of the new image to include:\n",
    "- The number of bands (as the NIR is a single band)\n",
    "- dtype (ensures that the image is saved as a TIF)"
   ]
  },
  {
   "cell_type": "code",
   "execution_count": null,
   "id": "808f266b-f260-455e-b6db-550bf3bf3e7e",
   "metadata": {},
   "outputs": [],
   "source": [
    "# Now that the False Colour Composite Image has been created, save the image  \n",
    "\n",
    "# First  open one of the bands to get its profile and use it as a source\n",
    "with rasterio.open('KenaiMountains/1986Data/LT05_L1TP_069018_19860912_20200917_02_T1_B4.TIF') as KM1986_source:\n",
    "    KM1986_ImgProfile = KM1986_source.profile\n",
    "\n",
    "# Update the profile for all of the bands in the False Colour Composite using the source\n",
    "KM1986_ImgProfile.update(\n",
    "    count=3,  # The count is set to 3 bands (NIR, Red and Green)\n",
    ")\n",
    "\n",
    "# Finally  save the False Colour Composite to the Kenai Mountains folder\n",
    "with rasterio.open('KenaiMountains/1986Data/KM1986_FullFCC.TIF', 'w', **KM1986_ImgProfile) as KM1986_FCCdownload:\n",
    "# Use the .write function to save the False Colour image to the Kenai Mountains 1986 folder\n",
    "# Use .transpose to change the shape of the array to match the format expected by rasterio when writing/saving the image to the folder (Bands, Width and Height respectively) \n",
    "    KM1986_FCCdownload.write(KM1986_FFCstack.transpose(2, 0, 1))  \n",
    "print(\"Image has been saved as KM1986_FullFCC.TIF\")"
   ]
  },
  {
   "cell_type": "markdown",
   "id": "a5d26e00-e07c-46c0-9178-7158ff022526",
   "metadata": {},
   "source": [
    "Now that the Full False Colour Composite Image for the 1986 Landsat scene ahs been successfully created. The user needs to trim the image so that the only area included in the Glacier Mask is the Kenai Mountains.\n",
    "\n",
    "This is useful as it prevent Glacier Ice and Snow from adjacent mountains influencing the total Glacier area for the 1986 period.\n",
    "\n",
    "To do this the user needs to adjust the bounds (extent) of the Full False Colour Composite Image to only include the Kenai Mountains.\n",
    "\n",
    "To include more area (zoom out) on the image:\n",
    "- Decrease 'left'\n",
    "- Increase 'right'\n",
    "- Decrease 'bottom'\n",
    "- Increase 'top'\n",
    "\n",
    "To include less area (Zoom in):\n",
    "- Increase 'left'\n",
    "- Decrease 'Right'\n",
    "- Increase 'bottom'\n",
    "- Decrease 'top'"
   ]
  },
  {
   "cell_type": "code",
   "execution_count": null,
   "id": "8df55b18-0c9d-4169-ba01-d3e0e749088d",
   "metadata": {},
   "outputs": [],
   "source": [
    "# Use Rasterio to get the Bounds of the full False Colour Composite Image\n",
    "with rasterio.open('KenaiMountains/1986Data/KM1986_FullFCC.TIF') as KM1986FCCsrc:\n",
    "    print(KM1986FCCsrc.bounds)"
   ]
  },
  {
   "cell_type": "code",
   "execution_count": null,
   "id": "0b0ef6a4-f7a2-41ac-92a5-21d80ed2dd9b",
   "metadata": {},
   "outputs": [],
   "source": [
    "# Define a new Bounding Box by changing the values from .bound above\n",
    "BoundingBox = {\"left\": 601185.0,\"bottom\": 6551985.0, # Values can be adjusted\n",
    "               \"right\": 734815.0,\"top\": 6700615.0} # Values can be adjusted\n",
    "\n",
    "# Open the Full False Colour Composite Image\n",
    "with rasterio.open('KenaiMountains/1986Data/KM1986_FullFCC.TIF') as KM1986Cropsrc:\n",
    "    # Use the new BoundingBox to create a trim window\n",
    "    KM1986Trim = from_bounds(BoundingBox[\"left\"], BoundingBox[\"bottom\"],\n",
    "                             BoundingBox[\"right\"], BoundingBox[\"top\"], \n",
    "                             transform=KM1986Cropsrc.transform) # transform helps convert the pixel value in the Bounding box to real coordinate on the image\n",
    "    \n",
    "    # Read the data within the trim window\n",
    "    KM1986Trim_Data = KM1986Cropsrc.read(window=KM1986Trim)\n",
    "    # Update the metadata and profile of the trimmed area\n",
    "    KM1986Trim_Transform = KM1986Cropsrc.window_transform(KM1986Trim)\n",
    "    KM1986Trim_profile = KM1986Cropsrc.profile.copy()\n",
    "    # Update the Trimmed TIF metadata to include the correct Pixel Height and Width which will update the Pixel Count\n",
    "    KM1986Trim_profile.update({\n",
    "        \"height\": KM1986Trim_Data.shape[1], # Update the Pixel Height\n",
    "        \"width\": KM1986Trim_Data.shape[2], # Update the Pixel Width\n",
    "        \"transform\": KM1986Trim_Transform # Update the Pixel Values to include Pixels within the Trim Window\n",
    "    })\n",
    "\n",
    "# Save the trimmed TIF to a new file \n",
    "with rasterio.open('KenaiMountains/1986Data/KM1986_FCC_Trim.TIF', \"w\", **KM1986Trim_profile) as dst:\n",
    "    dst.write(KM1986Trim_Data)\n",
    "\n",
    "# Display the trim to see if the study area is covered and if the trim has been successful\n",
    "# This can serve as a visual checker if the Bounding box needs to be adjusted\n",
    "plt.imshow(KM1986Trim_Data.transpose((1, 2, 0))) # .transpose reorders the image to height (1), width(2), bands(0) the expected format for matplotlib\n",
    "plt.title(\"Trimmed 1986 False Colour Composite Image\")\n",
    "plt.show()"
   ]
  },
  {
   "cell_type": "markdown",
   "id": "2164fdba-77ed-4051-a6ad-93a3d3981c5a",
   "metadata": {},
   "source": [
    "By now the user should notice that the `1986Data` folder is full and contains lots of files that are no longer required in the analysis. \n",
    "\n",
    "The next cell is a loop that will remove all of the Landsat Band files as they are no longer required in the study. If there are any issues and a step has been skipped they can be redownlaoded using the download_request cell above.\n",
    "\n",
    "The file delete will be particularly useful when we use the Landsat 8 images as they are larger. Github has a commit limit of 100mb for a single file, deleting the unnecessary image files will make commiting on GitHub easier and makes the directory folder on the notebook look a lot tidier."
   ]
  },
  {
   "cell_type": "code",
   "execution_count": null,
   "id": "6726d727-6564-4ea7-a491-e6870dcb262e",
   "metadata": {},
   "outputs": [],
   "source": [
    "# Create a loop through all files in the 1986Data folder\n",
    "for KM1986_filenames in os.listdir('KenaiMountains/1986Data'): \n",
    "    KM1986_FilePath = os.path.join('KenaiMountains/1986Data', KM1986_filenames) # The variable will loop through all of the filenames in 1986Data folder\n",
    "\n",
    "    # Identify all Files that are not the Trimmed False Colour Composite Image\n",
    "    if os.path.isfile(KM1986_FilePath) and KM1986_filenames != 'KM1986_FCC_Trim.TIF':\n",
    "        # Remove/Delete these files from the 1986Data directory\n",
    "        os.remove(KM1986_FilePath)\n",
    "print(\"Deleted the files that are no longer required (Click Refresh on folder)\")"
   ]
  },
  {
   "cell_type": "markdown",
   "id": "26e7dfc4-16d9-4d92-b009-7ca47b4d32ff",
   "metadata": {},
   "source": [
    "Now that the directory is tidy and we have the Trimmed False Colour Composite image of the Kenai Mountains in 1986. The user will create a glacier mask that will highlight all objects on the image with a Reflectance value of 0.3 in all 3 bands (the estimated reflectance value of glacier ice and snow).\n",
    "\n",
    "To do this the user will carry out a pixel based classification of the image. We do this by normalising the Landsat Bands which are datasets with Digital Values of 0-255 (as they are an 8-bit image) to 0-1. We then identify all pixels in the image that meet the reflectance threshold value to isolate glacier snow/ice.\n",
    "\n",
    "After Glacier ice and snow has been identified the user will save the glacier mask to a new file, updating the profile metadata from the False Colour Composite Trim to reflect that the new image only has 1 band."
   ]
  },
  {
   "cell_type": "code",
   "execution_count": null,
   "id": "dde1ee64-cdae-4aae-9f58-3635bde02cd9",
   "metadata": {
    "scrolled": true
   },
   "outputs": [],
   "source": [
    "# Open the Trim TIF\n",
    "with rasterio.open('KenaiMountains/1986Data/KM1986_FCC_Trim.TIF') as KM1986FCCsrc:\n",
    "    # Read and load the bands from the False colour composite image\n",
    "    KM1986_Normalised = KM1986FCCsrc.read()\n",
    "    # Store the essential metadata from the Trim image\n",
    "    KM1986_profile = KM1986FCCsrc.profile\n",
    "\n",
    "# The Landsat bands are Digitial Numbers so normalize bands from 0-255 (as they are an 8-bit image) to 0-1\n",
    "KM1986_Normalised = KM1986_Normalised.astype(np.float32) # Convert the image to a 32-bit floating point to avoid data truncation\n",
    "KM1986_Normalised /= KM1986_Normalised.max() # Normalise pixel values between 0-1 \n",
    "\n",
    "# Normalise the glacier mask to highlight all features in the image that have the set reflectance values in each respective band\n",
    "KM1986_Glacier = (KM1986_Normalised[0] > 0.3) & (KM1986_Normalised[1] > 0.3) & (KM1986_Normalised[2] > 0.3)\n",
    "\n",
    "# Redefine the glacier mask so it can be saved as new tif\n",
    "KM1986_Glacier = KM1986_Glacier.astype(np.uint8)\n",
    "\n",
    "# Update the glacier mask profile so that it only contains 1 band\n",
    "KM1986_NewProfile = KM1986Trim_profile.copy()\n",
    "KM1986_NewProfile.update(dtype='uint8', count=1)\n",
    "\n",
    "# Create a new folder to store the Glacier masks\n",
    "os.makedirs(\"KenaiMountains/GlacierMasks\", exist_ok=True) \n",
    "# Save the glacier mask to the Glacier mask folder\n",
    "with rasterio.open('KenaiMountains/GlacierMasks/KM1986_GlacierMask.TIF', 'w', **KM1986_NewProfile) as dst:\n",
    "    dst.write(KM1986_Glacier, 1) \n",
    "\n",
    "# Display the glacier mask\n",
    "plt.figure(figsize=(8, 8))\n",
    "plt.imshow(KM1986_Glacier, cmap='gray') # Display the glacier mask as a greyscale map\n",
    "plt.title('Kenai Mountains 1986 - Supervised classification of Glacier snow and ice')\n",
    "plt.show()"
   ]
  },
  {
   "cell_type": "markdown",
   "id": "6d48f1b8-5d12-4600-a789-7f0720568bce",
   "metadata": {},
   "source": [
    "Now that the user has created the Glacier mask we will finish the 1986 Landsat scene analysis by calculating the Estimated area of Glacier ice and snow."
   ]
  },
  {
   "cell_type": "code",
   "execution_count": null,
   "id": "f6f73877-f4ee-478f-adcd-8780742be879",
   "metadata": {},
   "outputs": [],
   "source": [
    "# Open the cropped Glacier mask produced in the above step\n",
    "with rasterio.open('KenaiMountains/GlacierMasks/KM1986_GlacierMask.TIF') as KM1986GlacAreasrc:\n",
    "    KM1986_GlacierMask = KM1986GlacAreasrc.read(1)  # Read the Glacier Mask band\n",
    "    transform = KM1986GlacAreasrc.transform\n",
    "    GlacPixelWidth = transform[0]     # pixel width\n",
    "    GlacPixelHeight = -transform[4]    # pixel height (The value is negative so we add an \"-\" to make it positive)\n",
    "\n",
    "# Calculate the Area per Pixel for the image\n",
    "KM1986_AreaPP = GlacPixelWidth * GlacPixelHeight  # For Landsat TM it will be 30m x 30m \n",
    "\n",
    "# Calculate how many pixels in the image have been identified as snow as per the Glacier mask above\n",
    "KM1986_GlacPixel = np.sum(KM1986_GlacierMask == 1)\n",
    "\n",
    "# Calculate the estimated area coverage of Glacier Ice and snow\n",
    "TotalGlacArea1986 = (KM1986_GlacPixel * KM1986_AreaPP) / 1e6  # Converts the value to square kilometers\n",
    "\n",
    "# Print the results\n",
    "print(f\"Estimated 1986 Glacier Area = {TotalGlacArea1986:.2f} km²\")"
   ]
  },
  {
   "cell_type": "markdown",
   "id": "a9faea1b-056c-4fde-8d8d-dba4287dce7b",
   "metadata": {},
   "source": [
    "## Downloading and analysing the 1995 Landsat Scene ##"
   ]
  },
  {
   "cell_type": "markdown",
   "id": "84753d2f-5635-42e7-8deb-685455d6e2c4",
   "metadata": {},
   "source": [
    "Now that the user haa successfully got the estimated glacier area for 1986, repeat the same process for the 1995 and 2009 dataset. "
   ]
  },
  {
   "cell_type": "code",
   "execution_count": null,
   "id": "6a3ec99d-13d6-4578-8f6c-f93abd159ed0",
   "metadata": {},
   "outputs": [],
   "source": [
    "# Use the scene_search function to get the product id of the 1995 Landsat scene\n",
    "results_1995 = api.scene_search(\n",
    "    # Landsat dataset used for 1995 image\n",
    "    dataset = \"landsat_tm_c2_l1\", \n",
    "     # The latitude of the image (Can be changed for different locations)\n",
    "    lat = 60.12735,\n",
    "    # The longtitude of the image (Can be changed for different locations)\n",
    "    lng = -151.22005, \n",
    "    # The start date of the search range (Can be changed for different locations)\n",
    "    start_date = \"1995-08-19\", \n",
    "    # The end date of the search range (Can be changed for different locations)\n",
    "    end_date = \"1995-08-21\", \n",
    "    # The Users Api key\n",
    "    api_key=api_key \n",
    ")\n",
    "# Loop through each 'scene' that appears in the results and will print out the 'entity_id' which will be used in the dataset download.\n",
    "for scene in results_1995['data']['results']:\n",
    "    print(\"The Entity ID of the 1995 Landsat scene is\",(scene['entityId'])) "
   ]
  },
  {
   "cell_type": "markdown",
   "id": "972328c6-73a1-40ec-a75f-d4abe9065ea6",
   "metadata": {},
   "source": [
    "Next the user will use the `entity_id` from the scene search. As we are using the same `product_id` to get the Landat Collection 2 Level 1 zip file. The `dataset_options` function does not need to be repreated. \n",
    "\n",
    "Similiarly to the 1986 dataset the user is going to create a 1995 folder to download the Landsat band tar file to, and then create a false colour composite image of the 1995 landsat scene."
   ]
  },
  {
   "cell_type": "code",
   "execution_count": null,
   "id": "fbf8b801-0b4d-4050-bfab-a5b24fe11c37",
   "metadata": {},
   "outputs": [],
   "source": [
    "# Use the OS module to create a folder for the Kenai Mountains 1995 images\n",
    "os.makedirs(\"KenaiMountains/1995Data\", exist_ok=True) \n",
    "\n",
    "# Return the available download URL for the Landsat 1995 scene\n",
    "KM_1995 = api.download_request( \n",
    "    dataset=\"landsat_tm_c2_l1\", # Landsat dataset\n",
    "    entity_id=\"LT50690181995232XXX01\", # Landsat scene ID\n",
    "    product_id=\"5e83d0a0f94d7d8d\", # Product ID (Landsat Band file), this will be the same the 1986 dataset as it also using Landsat TM\n",
    ")\n",
    "\n",
    " # Download the Landsat band files using the first URL from the EE node\n",
    "if 'data' in KM_1995 and 'availableDownloads' in KM_1995['data']:\n",
    "    KM_1995Avail = KM_1995['data']['availableDownloads'] # Identify available downloaded URLs\n",
    "    if KM_1995Avail:\n",
    "        KM1995downloadurl = KM_1995Avail[0]['url']  # Access the first download URL returned from download_request\n",
    "        KM_1995File = os.path.join(\"KenaiMountains/1995Data\", f\"LT50690181995232XXX01.tar\")  # Set the file download path to the 1995Data folder\n",
    "        \n",
    "        KM1995url = requests.get(KM1995downloadurl, stream=True) # Use requests module to get URL stored in the 'KM1995downloadurl' variable\n",
    "        \n",
    "        with open(KM_1995File, \"wb\") as f: # Create the file and write it in binary mode to issues downloading images\n",
    "            for chunk in KM1995url.iter_content(chunk_size=8192): # Download in 8kb chunks to prevent errors downloading Landsat Band images\n",
    "                if chunk:\n",
    "                    f.write(chunk)\n",
    "\n",
    "# Print text when the images are successfully downloaded\n",
    "print(\"1995 Kenai Mountain images have been downloaded successfully\")"
   ]
  },
  {
   "cell_type": "code",
   "execution_count": null,
   "id": "02090d2d-a5a5-4e2e-9a4b-e546e5f597c9",
   "metadata": {},
   "outputs": [],
   "source": [
    "# Extract the Landsat images from the .tar file that we downloaded from the USGS EE node\n",
    "with tarfile.open('KenaiMountains/1995Data/LT50690181995232XXX01.tar', 'r') as KM1995Tar: # Reads the downloaded tar file\n",
    "    KM1995Tar.extractall(\"KenaiMountains/1995Data\")\n",
    "\n",
    "# Display text whenever extract.all has been successfull\n",
    "print(\"Images have been successfully extracted\")"
   ]
  },
  {
   "cell_type": "markdown",
   "id": "53d54d3a-08e1-41ed-bc1e-43a05af3551a",
   "metadata": {},
   "source": [
    "Now that the images for the 1995 Landsat scene have been downloaded and extrcated we will build a false colour composite image of the Landsat scene.\n",
    "\n",
    "Use Rasterio to open, read and stack the images to create the 3D array just like the 1986 Landsat scene. \n",
    "Use matplotlib to present the created False Colour Composite image to ensure that the correct bands have been used and that the stack has been successful."
   ]
  },
  {
   "cell_type": "code",
   "execution_count": null,
   "id": "806ddc1f-dd24-4ffe-a307-9e3233f26fd9",
   "metadata": {},
   "outputs": [],
   "source": [
    "# Use rasterio to open and read the Band TIF files \n",
    "with rasterio.open(\"KenaiMountains/1995Data/LT05_L1TP_069018_19950820_20200912_02_T1_B4.TIF\") as KM1995_B4IMG:\n",
    "    KM95B4 = KM1995_B4IMG.read(1) # Band 4 (NIR)\n",
    "with rasterio.open(\"KenaiMountains/1995Data/LT05_L1TP_069018_19950820_20200912_02_T1_B3.TIF\") as KM1995_B3IMG:\n",
    "    KM95B3 = KM1995_B3IMG.read(1) # Band 3 (Red)\n",
    "with rasterio.open(\"KenaiMountains/1995Data/LT05_L1TP_069018_19950820_20200912_02_T1_B2.TIF\") as KM1995_B2IMG:\n",
    "    KM95B2 = KM1995_B2IMG.read(1) # Band 2 (Green)\n",
    "\n",
    "# Stack the bands using NumPy module to create a single 3D Array (False Colour Composite image)\n",
    "KM1995_FCCstack = np.dstack((KM95B4, KM95B3, KM95B2))\n",
    "\n",
    "# Print the array to show the false colour composite image of the 1995 Landsat scene\n",
    "plt.figure(figsize=(8, 8))\n",
    "plt.imshow(KM1995_FCCstack) # Show the False Colour Composite image\n",
    "plt.title(\"Kenai Mountains 1995 False Colour Composite Image\")\n",
    "plt.show()"
   ]
  },
  {
   "cell_type": "markdown",
   "id": "68be3833-533b-4add-b4be-e865c17092c7",
   "metadata": {},
   "source": [
    "After the False Colour Composite image has been saved the user needs to save the image to the `1995Data` folder so that it can trimmed and then used for the glacier mask."
   ]
  },
  {
   "cell_type": "markdown",
   "id": "0e21c48a-7be0-43b0-ac3b-1570550c6854",
   "metadata": {},
   "source": [
    "Similiarly to what was done for the 1986 Landsat scene, the user updates the image profile for the 1995 False Colour Composite image using the NIR band (4) as the source, this ensures that the new TIF keeps the same metadata structure as it will be used in the following steps to create a trim and Glacier mask."
   ]
  },
  {
   "cell_type": "code",
   "execution_count": null,
   "id": "b6cac7cb-bfb6-4d7e-9ac4-88f0c467ed08",
   "metadata": {},
   "outputs": [],
   "source": [
    "# Open the Band 4 TIF to use it as a source profile for the False Colour Composite image\n",
    "with rasterio.open(\"KenaiMountains/1995Data/LT05_L1TP_069018_19950820_20200912_02_T1_B4.TIF\") as KM1995_source:\n",
    "    KM1995_ImgProfile = KM1995_source.profile\n",
    "\n",
    "# Update the profile for all of the bands in the False Colour Composite\n",
    "KM1995_ImgProfile.update(\n",
    "    count=3,  # The count is set to 3 bands (NIR, Red and Green)\n",
    "    dtype=KM1995_FCCstack.dtype  # Make the saved data type to be the same as the full False Colour Composite image\n",
    ")\n",
    "\n",
    "# Save the False Colour Composite image to the 1995Data folder\n",
    "with rasterio.open('KenaiMountains/1995Data/KM1995_FullFCC.TIF', 'w', **KM1995_ImgProfile) as KM1995_FCCdownload:\n",
    "# Use .write to save the False Colour image to the 1995Data folder\n",
    "    KM1995_FCCdownload.write(KM1995_FCCstack.transpose(2, 0, 1)) # .transpose reorders the image to bands/count(2), height (0), width(1)\n",
    "print(\"Image has been saved as KM1995_FullFCC.TIF in KenaiMountains1995\")"
   ]
  },
  {
   "cell_type": "markdown",
   "id": "db7d6361-9a55-4c37-8ef8-71496818201a",
   "metadata": {},
   "source": [
    "The user needs to trim the 1995 false colour composite image so that the only area included in the Glacier Mask is the Kenai Mountains.\n",
    "The user needs to adjust the bounds (extent) of the 1995 Full False Colour Composite Image to only include the Kenai Mountains.\n",
    "The bounds for the 1995 image will be different as we are using a different image\n",
    "\n",
    "To include more area (zoom out) on the image:\n",
    "- Decrease 'left'\n",
    "- Increase 'right'\n",
    "- Decrease 'bottom'\n",
    "- Increase 'top'\n",
    "\n",
    "To include less area (Zoom in):\n",
    "- Increase 'left'\n",
    "- Decrease 'Right'\n",
    "- Increase 'bottom'\n",
    "- Decrease 'top'"
   ]
  },
  {
   "cell_type": "code",
   "execution_count": null,
   "id": "ba49d96a-5d99-4c84-89a5-df909a87d7c2",
   "metadata": {},
   "outputs": [],
   "source": [
    "# Use Rasterio to open and print the Bounds of the False Colour Composite image\n",
    "with rasterio.open('KenaiMountains/1995Data/KM1995_FullFCC.TIF') as KM1995FCCsrc:\n",
    "    print(KM1995FCCsrc.bounds)"
   ]
  },
  {
   "cell_type": "code",
   "execution_count": null,
   "id": "2ac63847-1b8f-47f5-8d0a-f9de507ff8b7",
   "metadata": {
    "scrolled": true
   },
   "outputs": [],
   "source": [
    "# Crop the 1995 TIF to define a new bounding box highlighting only the Kenai Mountains\n",
    "BoundingBox = {\"left\": 601185.0,\"bottom\": 6551985.0, # Value can be changed to alter the Bounding box\n",
    "               \"right\": 734815.0,\"top\": 6700615.0} # Value can be changed to alter the Bounding box\n",
    "\n",
    "# Open source raster for the crop (The Full False Colour Composite image)\n",
    "with rasterio.open('KenaiMountains/1995Data/KM1995_FullFCC.TIF') as KM1995Cropsrc:\n",
    "    # Define the trim window using the new bounding box \n",
    "    KM1995Trim = from_bounds(BoundingBox[\"left\"], BoundingBox[\"bottom\"], \n",
    "                             BoundingBox[\"right\"], BoundingBox[\"top\"],\n",
    "                             transform=KM1986Cropsrc.transform) # transform helps convert the pixel value in the Bounding box to real coordinate on the image\n",
    "    \n",
    "    # Read data in the source raster that is within the new Bounding box\n",
    "    KM1995Trim_Data = KM1995Cropsrc.read(window=KM1995Trim)\n",
    "    # Update the profile of the new trimmed image so that it can be saved and used in the data analysis\n",
    "    KM1995Trim_Transform = KM1995Cropsrc.window_transform(KM1995Trim)\n",
    "    KM1995Trim_profile = KM1995Cropsrc.profile.copy()\n",
    "    # Updare the Trim metadata to include updated Pixel values \n",
    "    KM1995Trim_profile.update({\n",
    "        \"height\": KM1995Trim_Data.shape[1], # Updates the Pixel Height\n",
    "        \"width\": KM1995Trim_Data.shape[2], # Updates the Pixel Width\n",
    "        \"transform\": KM1995Trim_Transform # Updates the Pixel Values to include Pixels within the Trim Window\n",
    "    })\n",
    "\n",
    "# Save the trimmed TIF and updated metadata to a new tif file\n",
    "with rasterio.open('KenaiMountains/1995Data/KM1995_FCC_Trim.TIF', \"w\", **KM1995Trim_profile) as dst:\n",
    "    dst.write(KM1995Trim_Data)\n",
    "\n",
    "# Display the trim\n",
    "# This can be used to determine if the trim has highlighted the study area\n",
    "plt.imshow(KM1995Trim_Data.transpose((1, 2, 0))) # .transpose the image to reorder the image to width(1), bands/count(2) and height (0) \n",
    "plt.title(\"Trimmed 1995 Kenai Mountains False Colour Composite Image\")\n",
    "plt.show()"
   ]
  },
  {
   "cell_type": "markdown",
   "id": "2629a5e1-e112-45dc-9da3-95245e469d74",
   "metadata": {},
   "source": [
    "As seen with the 1986 Dataset, the 1995Data is full with image files that are no longer need. To keep the folder tidy and organised we will remove all of the unneccessary files.\n",
    "\n",
    "If these are needed at a later date they can be redownloaded using the `download_request` function above"
   ]
  },
  {
   "cell_type": "code",
   "execution_count": null,
   "id": "df6b9be5-a257-424c-8b53-582ef6e05a59",
   "metadata": {},
   "outputs": [],
   "source": [
    "# Loop through all files in the 1995Data folder\n",
    "for KM1995_filenames in os.listdir('KenaiMountains/1995Data/'): \n",
    "    KM1995_FilePath = os.path.join('KenaiMountains/1995Data/', KM1995_filenames) \n",
    "\n",
    "    # Selects all files apart from the Trimmed TIF\n",
    "    if os.path.isfile(KM1995_FilePath) and KM1995_filenames != 'KM1995_FCC_Trim.TIF':\n",
    "        os.remove(KM1995_FilePath) # Deletes all selected files\n",
    "print(\"Deleted the files that are no longer required (Click Refresh on folder)\")"
   ]
  },
  {
   "cell_type": "markdown",
   "id": "302440f6-80a6-4a64-a4b1-bc9b0f15e47e",
   "metadata": {},
   "source": [
    "Now that folder is more organised, the user will calculate the total glacier area for the 1995 Landsat image. To do this the user will carry out a pixel based classification of the image.  This is done by normalising the Landsat Bands which are datasets with Digital Values of 0-255 (as they are an 8-bit image) to 0-1 (0 = not Glacier ice and snow, 1 = Glacier ice and snow). The user then will identify all pixels in the image that meet the reflectance threshold value to isolate glacier snow/ice (0.3 in all bands).\n",
    "\n",
    "After Glacier ice and snow has been identified, save the glacier mask to a new file, updating the profile metadata from the False Colour Composite Trim to reflect that the new image only has 1 band."
   ]
  },
  {
   "cell_type": "code",
   "execution_count": null,
   "id": "56f4986d-a4ae-4938-b2cd-8db53ca26f13",
   "metadata": {},
   "outputs": [],
   "source": [
    "# Open the Trimmed TIF and use it as a source profile\n",
    "with rasterio.open('KenaiMountains/1995Data/KM1995_FCC_Trim.TIF') as KM1995FCCsrc:\n",
    "    KM1995_Normalised = KM1995FCCsrc.read()\n",
    "    KM1995_profile = KM1995FCCsrc.profile\n",
    "\n",
    "# The Landsat bands are Digitial Numbers so we then will normalize bands from 0-255 to 0-1\n",
    "KM1995_Normalised = KM1995_Normalised.astype(np.float32)\n",
    "KM1995_Normalised /= KM1995_Normalised.max()\n",
    "\n",
    "# Normalise the each bands pixel value so that they are in a common range, set the reflectance value for ice and snow for each band\n",
    "KM1995_Glacier = (KM1995_Normalised[0] > 0.3) & (KM1995_Normalised[1] > 0.3) & (KM1995_Normalised[2] > 0.3)\n",
    "\n",
    "# Redefine the Glacier Mask to save it as a new TIF\n",
    "KM1995_Glacier = KM1995_Glacier.astype(np.uint8)\n",
    "\n",
    "# Update the profile so that it only has 1 band (Ice/snow)\n",
    "KM1995_NewProfile = KM1995_profile.copy()\n",
    "KM1995_NewProfile.update(dtype='uint8', count=1)\n",
    "\n",
    "# Save the Glacier mask TIF to the Glacier Mask folder\n",
    "with rasterio.open('KenaiMountains/GlacierMasks/KM1995_GlacierMask.TIF', 'w', **KM1995_NewProfile) as dst:\n",
    "    dst.write(KM1995_Glacier, 1)\n",
    "\n",
    "plt.figure(figsize=(8, 8))\n",
    "plt.imshow(KM1995_Glacier, cmap='gray') # Present the Glacier Mask is greyscale\n",
    "plt.title('Kenai Mountains 1995 - Pixel Based of Glacier snow and ice')\n",
    "plt.show()"
   ]
  },
  {
   "cell_type": "markdown",
   "id": "2a6a1726-d1b4-4f3d-97d2-79dc40527793",
   "metadata": {},
   "source": [
    "After the pixel based classification has been successfully completed, calculate the glacier area by using the known pixel size in the glacier mask and converting to a real world measurement."
   ]
  },
  {
   "cell_type": "code",
   "execution_count": null,
   "id": "7b13335d-73b1-4918-ba48-d576de14a10a",
   "metadata": {},
   "outputs": [],
   "source": [
    "# Open the Glacier mask \n",
    "with rasterio.open('KenaiMountains/GlacierMasks/KM1995_GlacierMask.TIF') as KM1995GlacAreasrc:\n",
    "    KM1995_GlacierMask = KM1995GlacAreasrc.read(1)  # Read the Glacier Mask band\n",
    "    KM1995_Transfrom = KM1995GlacAreasrc.transform\n",
    "    GlacPixelWidth = KM1995_Transfrom[0]     # pixel width\n",
    "    GlacPixelHeight = -KM1995_Transfrom[4]    # pixel height (The value is negative so we add an \"-\" to make it positive)\n",
    "\n",
    "# Calculate the Area per Pixel for the image, for Landsat TM it will be 30m x 30m \n",
    "KM1995_AreaPP = GlacPixelWidth * GlacPixelHeight  \n",
    "\n",
    "# Calculate how many pixels in the image have been identified as snow (1) in the Glacier Mask\n",
    "KM1995_GlacPixel = np.sum(KM1995_GlacierMask == 1)\n",
    "\n",
    "# Calculate the estimated area of Glacier Ice and snow in the 1995 Landsat scene\n",
    "TotalGlacArea1995 = (KM1995_GlacPixel * KM1995_AreaPP) / 1e6  # convert to square kilometers\n",
    "\n",
    "# Print the Estimated Glacier area\n",
    "print(f\"Estimated 1995 Glacier Area: {TotalGlacArea1995:.2f} km²\")"
   ]
  },
  {
   "cell_type": "markdown",
   "id": "6cd8b1b6-f93b-4b30-9807-5574d4b019e7",
   "metadata": {},
   "source": [
    "## Downloading and analysing the 2009 Landsat Scene ##"
   ]
  },
  {
   "cell_type": "markdown",
   "id": "d7394593-4f7d-4f47-a109-9f7904d43445",
   "metadata": {},
   "source": [
    "As the 2009 Landsat scene also uses the Landsat TM for the image, the steps for getting the Glacier area estimation does not change.\n",
    "\n",
    "Use the Landsat TM instead of the Landsat ETM+ based on errors with the satellite that causes data voids (stripes) on the images due to an error with the Scan Line Corrector (SLC). Using these images may lead to inaccuracies when calculating the Glacier area, so for that reason Landsat TM data has been used for this year.\n",
    "Additional information : -(https://www.usgs.gov/faqs/what-landsat-7-etm-slc-data)"
   ]
  },
  {
   "cell_type": "code",
   "execution_count": null,
   "id": "9994cd78-347f-400c-8548-e307045d11fd",
   "metadata": {},
   "outputs": [],
   "source": [
    "# Use the scene_search function to get the product id of the 2009 Landsat scene\n",
    "results_2009 = api.scene_search(\n",
    "    # Landsat dataset used for 1995 image\n",
    "    dataset = \"landsat_tm_c2_l1\",\n",
    "    # The latitude of the image\n",
    "    lat = 60.09405, \n",
    "    # The longtitude of the image\n",
    "    lng = -150.98167, \n",
    "    # The start date of the search range\n",
    "    start_date = \"2009-07-08\", \n",
    "     # The end date of the search range\n",
    "    end_date = \"2009-07-09\",\n",
    "     # The Users Api key\n",
    "    api_key=api_key\n",
    ")\n",
    "# Loop through each 'scene' that appears in the results and  print out the 'entity_id' of the Landsat scene\n",
    "for scene in results_2009['data']['results']:\n",
    "    print(\"The Entity ID of the Landsat scene is\",(scene['entityId'])) "
   ]
  },
  {
   "cell_type": "markdown",
   "id": "22f5ca1a-2aff-4c8d-b16a-c30e82d0800d",
   "metadata": {},
   "source": [
    "As the user is still using the same Landsat satellite for the image download, we do not need to get an updated `product_id` for the Collection 2 Level 1 Band files. We can use the same one as the 1986 and 1995 datasets."
   ]
  },
  {
   "cell_type": "code",
   "execution_count": null,
   "id": "a7f17bb1-c881-4c4d-bbad-5069e71dc4e6",
   "metadata": {},
   "outputs": [],
   "source": [
    "# Use OS to create a 2009Data folder for the Landsat scene band files to be downloaded into\n",
    "os.makedirs(\"KenaiMountains/2009Data\", exist_ok=True) \n",
    "\n",
    "# Return the available download URLs for the Landsat scene Band files\n",
    "KM_2009 = api.download_request(\n",
    "    dataset=\"landsat_tm_c2_l1\", # Landsat dataset\n",
    "    entity_id=\"LT50690182009190GLC00\", # Landsat scene ID (entity_id)\n",
    "    product_id=\"5e83d0a0f94d7d8d\", # Product ID (Landsat Band file), the same as the 1986 and 1995 datasets\n",
    ")\n",
    "\n",
    "# Download the Landsat scene images using the URL returned from download_request in the EE node\n",
    "if 'data' in KM_2009 and 'availableDownloads' in KM_2009['data']:\n",
    "    KM_2009Avail = KM_2009['data']['availableDownloads'] # Identifies if the above Landsat is available to be downloaded\n",
    "    if KM_2009Avail:\n",
    "        # Access the first download URL returned from download_request\n",
    "        KM2009downloadurl = KM_2009Avail[0]['url'] \n",
    "        # Set the file pathway to download into the 2009Data folder\n",
    "        KM_2009File = os.path.join(\"KenaiMountains/2009Data\", f\"LT50690182009190GLC00.tar\") \n",
    "        KM2009url = requests.get(KM2009downloadurl, stream=True) # Use requests to get the URL stored in 'KM2009downloadurl' \n",
    "        \n",
    "         # Create the file and write it in binary mode to avoid corruption during the download\n",
    "        with open(KM_2009File, \"wb\") as f:\n",
    "            for chunk in KM2009url.iter_content(chunk_size=8192): # Download the folder in 8 KB Chunks\n",
    "                if chunk:\n",
    "                    f.write(chunk)\n",
    "\n",
    "# Print text when the images are successfully downloaded\n",
    "print(\"2009 Kenai Mountain images downloaded!\") "
   ]
  },
  {
   "cell_type": "code",
   "execution_count": null,
   "id": "fbc9c3eb-6e72-4008-9b87-04c6ad9acb92",
   "metadata": {},
   "outputs": [],
   "source": [
    "# Extract the Landsat images into the 2009Data folder\n",
    "with tarfile.open(\"KenaiMountains/2009Data/LT50690182009190GLC00.tar\", 'r') as KM2009Tar:\n",
    "    KM2009Tar.extractall(\"KenaiMountains/2009Data\")\n",
    "\n",
    "# Print text if download is successfull\n",
    "print(\"Images have been successfully extracted\")"
   ]
  },
  {
   "cell_type": "markdown",
   "id": "cca6a80c-03a0-4421-8a34-6efe0f4bb158",
   "metadata": {},
   "source": [
    "After the images have been downloaded and extracted into the `2009Data` folder, build the false colour composite image of the 2009 Landsat scene.\n",
    "\n",
    "To do this the user is going to stack bands 4 (NIR), 3 (Red) and 2 (Green) and create a single 3D array using `NumPY`. "
   ]
  },
  {
   "cell_type": "code",
   "execution_count": null,
   "id": "46dd28a0-343a-4dcc-a567-cb140b76c48f",
   "metadata": {},
   "outputs": [],
   "source": [
    "# Use Rasterio to open and read the band TIF files\n",
    "with rasterio.open(\"KenaiMountains/2009Data/LT05_L1TP_069018_20090709_20200827_02_T1_B4.TIF\") as KM2009_B4IMG:\n",
    "    KM09B4 = KM2009_B4IMG.read(1) # Band 4 (NIR)\n",
    "with rasterio.open(\"KenaiMountains/2009Data/LT05_L1TP_069018_20090709_20200827_02_T1_B3.TIF\") as KM2009_B3IMG:\n",
    "    KM09B3 = KM2009_B3IMG.read(1) # Band 3 (Red)\n",
    "with rasterio.open(\"KenaiMountains/2009Data/LT05_L1TP_069018_20090709_20200827_02_T1_B2.TIF\") as KM2009_B2IMG:\n",
    "    KM09B2 = KM2009_B2IMG.read(1) # Band 2 (Green)\n",
    "\n",
    "# Stack the Landsat bands using NumPy to create a single 3D Array\n",
    "KM2009_FCCstack = np.dstack((KM09B4, KM09B3, KM09B2))\n",
    "\n",
    "# Print the stacked band array to show the 2009 false colour composite image \n",
    "plt.figure(figsize=(8, 8))\n",
    "plt.imshow(KM2009_FCCstack)\n",
    "plt.title(\"Kenai Mountains 2009 False Colour Composite Image\")\n",
    "plt.show()"
   ]
  },
  {
   "cell_type": "markdown",
   "id": "9c39e4ff-c096-438f-a2a4-7c73b10734c8",
   "metadata": {},
   "source": [
    "Now that the full false colour composite image has been built. Save the image to our file directory so that it can be trimmed to show the Kenai Mountains study area."
   ]
  },
  {
   "cell_type": "code",
   "execution_count": null,
   "id": "1b7fe98d-4499-4181-b527-55d86014a423",
   "metadata": {},
   "outputs": [],
   "source": [
    "# Open one of the bands to get its profile and use it as a source for the image\n",
    "with rasterio.open(\"KenaiMountains/2009Data/LT05_L1TP_069018_20090709_20200827_02_T1_B4.TIF\") as KM2009_source:\n",
    "    KM2009_ImgProfile = KM2009_source.profile\n",
    "\n",
    "# Update the profile for all of the bands \n",
    "# All bands will be updated using Band 4 as the source\n",
    "KM2009_ImgProfile.update(\n",
    "    count=3,  # The count is 3 as we are using 3 bands (NIR, Red and Green)\n",
    "    dtype=KM2009_FCCstack.dtype  # Set the data type to be the same as the false colour composite\n",
    ")\n",
    "\n",
    "# Save the False Colour Composite to the 2009Data folder\n",
    "with rasterio.open('KenaiMountains/2009Data/KM2009_FullFCC.TIF', 'w', **KM2009_ImgProfile) as KM2009_FCCdownload:\n",
    "# Use .write to save the image to the 2009Data folder\n",
    "    KM2009_FCCdownload.write(KM2009_FCCstack.transpose(2, 0, 1))  # .transpose reorders the image to bands/count(2), height (0), width(1)\n",
    "print(\"Image has been saved as KM2009_FullFCC.TIF in KenaiMountains1995\")"
   ]
  },
  {
   "cell_type": "markdown",
   "id": "5a315ded-5637-4a57-a40b-4cf4b9b1edcc",
   "metadata": {},
   "source": [
    "Trim the 2009 Landsat scene so that only the Kenai Mountains is visible in the image. This will be useful for providing an accuracte estimation of the glacier area for the 2009 period.\n",
    "\n",
    "To include more area (zoom out) on the image:\n",
    "- Decrease 'left'\n",
    "- Increase 'right'\n",
    "- Decrease 'bottom'\n",
    "- Increase 'top'\n",
    "\n",
    "To include less area (Zoom in):\n",
    "- Increase 'left'\n",
    "- Decrease 'Right'\n",
    "- Increase 'bottom'\n",
    "- Decrease 'top'"
   ]
  },
  {
   "cell_type": "code",
   "execution_count": null,
   "id": "4d4505c4-30e4-4f48-9b8c-abef26756eaf",
   "metadata": {},
   "outputs": [],
   "source": [
    "# Generate the Bounds of the 2009 false colour composite image\n",
    "with rasterio.open('KenaiMountains/2009Data/KM2009_FullFCC.TIF') as KM2009FCCsrc:\n",
    "    print(KM2009FCCsrc.bounds)"
   ]
  },
  {
   "cell_type": "code",
   "execution_count": null,
   "id": "37219608-91d8-4c5f-b9ae-c1d540ecca31",
   "metadata": {},
   "outputs": [],
   "source": [
    "# Define a new bounding box to highlight only the Kenai Mountains\n",
    "BoundingBox = {\"left\": 591185.0,\"bottom\": 6551985.0, # Values can be adjusted\n",
    "               \"right\": 684815.0,\"top\": 6700615.0} # Values can be adjusted\n",
    "\n",
    "# Open full false colour composite image and use it as a source\n",
    "with rasterio.open('KenaiMountains/2009Data/KM2009_FullFCC.TIF') as KM2009Cropsrc:\n",
    "    # Define a trim window using the new bounding box\n",
    "    KM2009Trim = from_bounds(BoundingBox[\"left\"], BoundingBox[\"bottom\"], \n",
    "                             BoundingBox[\"right\"], BoundingBox[\"top\"],\n",
    "                             transform=KM1986Cropsrc.transform) # transform helps convert the pixel value in the Bounding box to real coordinate on the image\n",
    "    \n",
    "    # Read the data within the trim window on the full false colour composite image\n",
    "    KM2009Trim_Data = KM2009Cropsrc.read(window=KM2009Trim)\n",
    "    \n",
    "    # Update the profile of the trimmed image so it can be saved and used in the data analysis\n",
    "    KM2009Trim_Transform = KM2009Cropsrc.window_transform(KM2009Trim)\n",
    "    KM2009Trim_profile = KM2009Cropsrc.profile.copy()\n",
    "    KM2009Trim_profile.update({\n",
    "        \"height\": KM2009Trim_Data.shape[1],  # Updates the Pixel Height\n",
    "        \"width\": KM2009Trim_Data.shape[2],  # Updates the Pixel Width\n",
    "        \"transform\": KM2009Trim_Transform  # Updates the Pixel Values to include Pixels within the Trim Window\n",
    "    })\n",
    "\n",
    "# Save the trimmed raster as a TIF file in the 2009Data folder\n",
    "with rasterio.open('KenaiMountains/2009Data/KM2009_FCC_Trim.TIF', \"w\", **KM2009Trim_profile) as dst:\n",
    "    dst.write(KM2009Trim_Data)\n",
    "\n",
    "# Display the trim \n",
    "# Use the plt.show() to check if the trimmed boundary is satisfactory for the glacier mask analysis\n",
    "plt.imshow(KM2009Trim_Data.transpose((1, 2, 0))) # .transpose reorders the image to height (1), width(2), bands(0) the expected format for matplotlib\n",
    "plt.title(\"Trimmed 2009 Kenai Mountains Image\")\n",
    "plt.show()"
   ]
  },
  {
   "cell_type": "markdown",
   "id": "6443b37c-4152-4a1b-84a2-7cb66acd5e09",
   "metadata": {},
   "source": [
    "After the image has been saved, delete the unneccessary files and tidy up the 2009Data folder. If the files are needed at a later date they can be redownloaded following the steps above."
   ]
  },
  {
   "cell_type": "code",
   "execution_count": null,
   "id": "17488d7a-ff82-44ac-94ae-37f89c712c27",
   "metadata": {},
   "outputs": [],
   "source": [
    " # Create a loop that goes through all of the filenames in the 2009Data folder\n",
    "for KM2009_filenames in os.listdir('KenaiMountains/2009Data'): \n",
    "    KM2009_FilePath = os.path.join('KenaiMountains/2009Data', KM2009_filenames)\n",
    "\n",
    "    # Select all files in the folder apart from the Trimmed TIF\n",
    "    if os.path.isfile(KM2009_FilePath) and KM2009_filenames != 'KM2009_FCC_Trim.TIF':\n",
    "        os.remove(KM2009_FilePath) # Remove selected files\n",
    "print(\"Deleted the files that are no longer required (Click Refresh on folder)\")"
   ]
  },
  {
   "cell_type": "markdown",
   "id": "7c74b0cd-4b61-4a73-8a6b-d11a702523fd",
   "metadata": {},
   "source": [
    "Now that folder is more organised, we will calculate the total glacier area for the 1995 Landsat image. To do this we will carry out a pixel based classification of the image. We do this by normalising the Landsat Bands which are datasets with Digital Values of 0-255 (as they are an 8-bit image) to 0-1 (0 = not Glacier ice and snow, 1 = Glacier ice and snow). We then identify all pixels in the image that meet the reflectance threshold value to isolate glacier snow/ice (0.3 in all bands).\n",
    "\n",
    "After Glacier ice and snow has been identified we will save the glacier mask to a new file, updating the profile metadata from the False Colour Composite Trim to reflect that the new image only has 1 band."
   ]
  },
  {
   "cell_type": "code",
   "execution_count": null,
   "id": "abc87ef6-6dd1-49fa-8362-58ffa60129ba",
   "metadata": {},
   "outputs": [],
   "source": [
    "# Open the Trimmed TIF and use it as a source profile\n",
    "with rasterio.open('KenaiMountains/2009Data/KM2009_FCC_Trim.TIF') as KM2009FCCsrc:\n",
    "    KM2009_Normalised = KM2009FCCsrc.read()\n",
    "    KM2009_profile = KM2009FCCsrc.profile\n",
    "\n",
    "# The Landsat bands are Digitial Numbers so we then will normalize bands from 0-255 to 0-1\n",
    "KM2009_Normalised = KM2009_Normalised.astype(np.float32)\n",
    "KM2009_Normalised /= KM2009_Normalised.max()\n",
    "\n",
    "# Normalise the each bands pixel value so that they are in a common range, set the reflectance value for ice and snow for each band\n",
    "KM2009_Glacier = (KM2009_Normalised[0] > 0.2) & (KM2009_Normalised[1] > 0.2) & (KM2009_Normalised[2] > 0.3)\n",
    "\n",
    "# Redefine the Glacier Mask to save it as a new TIF\n",
    "KM2009_Glacier = KM2009_Glacier.astype(np.uint8)\n",
    "\n",
    "# Update the profile so that it only has 1 band (Ice/snow)\n",
    "KM2009_NewProfile = KM2009_profile.copy()\n",
    "KM2009_NewProfile.update(dtype='uint8', count=1)\n",
    "\n",
    "# Save the Glacier mask TIF to the Glacier Mask folder\n",
    "with rasterio.open('KenaiMountains/GlacierMasks/KM2009_GlacierMask.TIF', 'w', **KM2009_NewProfile) as dst:\n",
    "    dst.write(KM2009_Glacier, 1)\n",
    "\n",
    "# Display the Glacier mask after it has been processed and saved.\n",
    "plt.figure(figsize=(8, 8))\n",
    "plt.imshow(KM2009_Glacier, cmap='gray') # Present the Glacier Mask is greyscale\n",
    "plt.title('Kenai Mountains 2009 - Pixel Based of Glacier snow and ice')\n",
    "plt.show()"
   ]
  },
  {
   "cell_type": "markdown",
   "id": "ba694a08-5988-4cb9-8bd9-e77c5497da91",
   "metadata": {},
   "source": [
    "After the pixel based classification has been successfully completed, calculate the glacier area by using the known pixel size in the glacier mask and converting to a real world measurement."
   ]
  },
  {
   "cell_type": "code",
   "execution_count": null,
   "id": "f10e502e-3024-4aa4-a39a-1ad9a94653db",
   "metadata": {},
   "outputs": [],
   "source": [
    "# Open the Glacier Mask for 2009\n",
    "with rasterio.open('KenaiMountains/GlacierMasks/KM2009_GlacierMask.TIF') as KM2009GlacAreasrc:\n",
    "    KM2009_GlacierMask = KM2009GlacAreasrc.read(1)  # Read the Glacier Mask band\n",
    "    KM2009_Transfrom = KM2009GlacAreasrc.transform\n",
    "    GlacPixelWidth = KM2009_Transfrom[0]     # pixel width\n",
    "    GlacPixelHeight = -KM2009_Transfrom[4]    # pixel height (The value is negative so we add an \"-\" to make it positive)\n",
    "\n",
    "# Calculate the Area per Pixel for the image, for Landsat TM it will be 30m x 30m \n",
    "KM2009_AreaPP = GlacPixelWidth * GlacPixelHeight  \n",
    "\n",
    "# Calculate how many pixels in the image have been identified as snow/ice in the Glacier mask\n",
    "KM2009_GlacPixel = np.sum(KM2009_GlacierMask == 1)\n",
    "\n",
    "# Calculate the estimated area coverage of Glacier Ice and snow\n",
    "TotalGlacArea2009 = (KM2009_GlacPixel * KM2009_AreaPP) / 1e6  # convert the value to square kilometers\n",
    "\n",
    "# Print the Estimated Glacier area\n",
    "print(f\"Estimated 2009 Glacier Area: {TotalGlacArea2009:.2f} km²\")"
   ]
  },
  {
   "cell_type": "markdown",
   "id": "ea766ee5-cc94-4fdf-b8eb-e6698cdc7651",
   "metadata": {},
   "source": [
    "## Downloading and analysing the 2014 Landsat Scene ##"
   ]
  },
  {
   "cell_type": "markdown",
   "id": "5770cce3-7cc4-41e7-92c8-fc709c45a9eb",
   "metadata": {},
   "source": [
    "For the 2014 and 2024 Datasets the code slightly changes. The user uses the `landsat_ot_c2_l1` dataset which is the Landsat OLI/TIRS satellite for the scenes.\n",
    "\n",
    "The code is mostly the same, but the user will carry out the normalisation sooner in the code as the more modern satellite has larger images so the format needs to be changed to be presented using Rasterio and Matplotlib."
   ]
  },
  {
   "cell_type": "code",
   "execution_count": null,
   "id": "a92f8f02-2eb1-441e-b8be-37d2d0821641",
   "metadata": {},
   "outputs": [],
   "source": [
    "# Use the scene_search function to get the product id of the 2014 Landsat scene\n",
    "results_2014 = api.scene_search(\n",
    "     # Landsat dataset used for 2014 image\n",
    "    dataset = \"landsat_ot_c2_l1\", \n",
    "     # The latitude of the image\n",
    "    lat = 60.09334,\n",
    "    # The longtitude of the image\n",
    "    lng = -150.97721, \n",
    "    # The start date of the search range\n",
    "    start_date = \"2014-09-24\", \n",
    "    # The end date of the search range\n",
    "    end_date = \"2014-09-26\", \n",
    "    # The Users Api key\n",
    "    api_key=api_key \n",
    ")\n",
    "\n",
    "# Loop through each 'scene' that appears in the results and  print out the 'entity_id' of the Landsat scene\n",
    "for scene in results_2014['data']['results']:\n",
    "    print(\"The Entity ID of the Landsat scene is\",(scene['entityId'])) "
   ]
  },
  {
   "cell_type": "markdown",
   "id": "5abadb14-0653-40ef-8723-30dfafd72fc9",
   "metadata": {},
   "source": [
    "For the 2014 and 2024 scenes, the user is downloading them from the `landsat_ot_c2_l1` dataset. The `product_id` for the Collection 2 Level 1 Band Files will be different, so print the options again to get the correct download `product_id`"
   ]
  },
  {
   "cell_type": "code",
   "execution_count": null,
   "id": "f360a909-8df8-4806-8c78-f0c076e80602",
   "metadata": {},
   "outputs": [],
   "source": [
    "# This cell will provide the different download options for the Landsat dataset\n",
    "api.dataset_download_options(\"landsat_ot_c2_l1\")                             "
   ]
  },
  {
   "cell_type": "markdown",
   "id": "fa354ffc-2445-4e22-a11a-80ec1045c7e0",
   "metadata": {},
   "source": [
    "The download for the Landsat OLI/TIRS images will take a few minutes to download as the folder contains larger and more images. "
   ]
  },
  {
   "cell_type": "code",
   "execution_count": null,
   "id": "0008cd77-1f2a-4901-9475-de754e791ee3",
   "metadata": {},
   "outputs": [],
   "source": [
    "# Use OS to create a 2009Data folder for the Landsat scene band files to be downloaded into\n",
    "os.makedirs(\"KenaiMountains/2014Data\", exist_ok=True) \n",
    "\n",
    "# Return the available download URLs for the Landsat scene Band files\n",
    "KM_2014 = api.download_request(\n",
    "    dataset=\"landsat_ot_c2_l1\", # Landsat dataset\n",
    "    entity_id=\"LC80690182014268LGN01\", # Landsat scene ID (entity_id)\n",
    "    product_id=\"5e81f14f92acf9ef\", # Product ID (Landsat Band file)\n",
    ")\n",
    "\n",
    "# Download the Landsat scene images using the URL returned from download_request in the EE node\n",
    "if 'data' in KM_2014 and 'availableDownloads' in KM_2014['data']:\n",
    "    KM_2014Avail = KM_2014['data']['availableDownloads'] # Identify if the Landsat images are available to be downloaded\n",
    "    if KM_2014Avail:\n",
    "           # Access the first download URL returned from download_request\n",
    "        KM2014downloadurl = KM_2014Avail[0]['url'] \n",
    "          # Set the file pathway to download into the 2014Data folder\n",
    "        KM_2014File = os.path.join(\"KenaiMountains/2014Data\", f\"LC80690182014268LGN01.tar\") \n",
    "        KM2014url = requests.get(KM2014downloadurl, stream=True)# Use requests to get the URL stored in 'KM2014downloadurl' \n",
    "        \n",
    "         # Create the file and write it in binary mode to avoid corruption during the download\n",
    "        with open(KM_2014File, \"wb\") as f:\n",
    "            for chunk in KM2014url.iter_content(chunk_size=8192):# Download the folder in 8 KB Chunks\n",
    "                if chunk:\n",
    "                    f.write(chunk)\n",
    "\n",
    "# Print text when the images are successfully downloaded\n",
    "# Download may take a few minutes (folder is approximately 1GB)\n",
    "print(\"2014 Kenai Mountain images downloaded!\") "
   ]
  },
  {
   "cell_type": "markdown",
   "id": "52be4483-8c0f-4e27-b130-90709429433a",
   "metadata": {},
   "source": [
    "After the images have been downloaded and extracted into the `2014Data` folder, build the false colour composite image of the 2014 Landsat scene.\n",
    "\n",
    "Stack bands 5 (NIR), 4 (Red) and 3 (Green) and create a single 3D array using `NumPY`. "
   ]
  },
  {
   "cell_type": "code",
   "execution_count": null,
   "id": "a7c81cc9-f65d-4e04-ad8d-0dfbeec0e547",
   "metadata": {},
   "outputs": [],
   "source": [
    "# Extract the Landsat images into the 2014Data folder\n",
    "with tarfile.open('KenaiMountains/2014Data/LC80690182014268LGN01.tar', 'r') as KM2014Tar:\n",
    "    KM2014Tar.extractall('KenaiMountains/2014Data')\n",
    "\n",
    "# Print text when extraction has been successfull\n",
    "print(\"Images have been successfully extracted\")"
   ]
  },
  {
   "cell_type": "code",
   "execution_count": null,
   "id": "56751be3-86e3-48fc-b86e-73e3f281dace",
   "metadata": {},
   "outputs": [],
   "source": [
    "# Use Rasterio to open and read the band TIF files\n",
    "with rasterio.open('KenaiMountains/2014Data/LC08_L1TP_069018_20140925_20200910_02_T1_B5.TIF') as KM2014_B5IMG:\n",
    "    KM14B5 = KM2014_B5IMG.read(1) # Band 5 (NIR)\n",
    "with rasterio.open('KenaiMountains/2014Data/LC08_L1TP_069018_20140925_20200910_02_T1_B4.TIF') as KM2014_B4IMG:\n",
    "    KM14B4 = KM2014_B4IMG.read(1) # Band 4 (Red)\n",
    "with rasterio.open('KenaiMountains/2014Data/LC08_L1TP_069018_20140925_20200910_02_T1_B3.TIF') as KM2014_B3IMG:\n",
    "    KM14B3 = KM2014_B3IMG.read(1) # Band 3 (Green)\n",
    "\n",
    "# Stack the Landsat bands using NumPy to create a single 3D Array\n",
    "KM2014_FFCstack = np.dstack((KM14B5, KM14B4, KM14B3))\n",
    "\n",
    "# Normalise the bands in the false colour composite image as the image is to large to print using matplotlib\n",
    "KM2014_Normalised = KM2014_FFCstack.astype(np.float32)\n",
    "KM2014_Normalised /= KM2014_Normalised.max()\n",
    "\n",
    "# Print the stacked band array to show the 2014 false colour composite image \n",
    "plt.figure(figsize=(8, 8))\n",
    "plt.imshow(KM2014_Normalised)\n",
    "plt.title(\"Kenai Mountains 2014 False Colour Composite Image\")\n",
    "plt.show()"
   ]
  },
  {
   "cell_type": "code",
   "execution_count": null,
   "id": "ba8617b2-0a43-4ce4-a8c7-e83ce9e3f27a",
   "metadata": {},
   "outputs": [],
   "source": [
    "# Open one of the bands (NIR) to get its profile and use it as a source for the image\n",
    "with rasterio.open('KenaiMountains/2014Data/LC08_L1TP_069018_20140925_20200910_02_T1_B5.TIF') as KM2014_source:\n",
    "    KM2014_ImgProfile = KM2014_source.profile\n",
    "\n",
    "# Update the profile for all of the bands \n",
    "# All bands will be updated using Band 5 as the source\n",
    "KM2014_ImgProfile.update(\n",
    "    count=3,  # The count is set to 3 bands (NIR, Red and Green)\n",
    "    dtype=KM2014_Normalised.dtype  # Set the data type to be the same as the false colour composite\n",
    ")\n",
    "\n",
    "# Save the False Colour Composite to the 2014Data folder\n",
    "with rasterio.open('KenaiMountains/2014Data/KM2014_FullFCC.TIF', 'w', **KM2014_ImgProfile) as KM2014_FCCdownload:\n",
    "# Use .write to save the image to the 2009Data folder\n",
    "    KM2014_FCCdownload.write(KM2014_Normalised.transpose(2, 0, 1))   # .transpose reorders the image to bands/count(2), height (0), width(1)\n",
    "print(\"Image has been saved as KM2014_FullFCC.TIF in KenaiMountain2014\")"
   ]
  },
  {
   "cell_type": "markdown",
   "id": "b3f39add-0695-4729-90e5-709dfa7a1c2e",
   "metadata": {},
   "source": [
    "Trim the 2014 Landsat scene so that only the Kenai Mountains is visible in the image. This will be useful for providing an accuracte estimation of the glacier area for the 2014 period.\n",
    "\n",
    "To include more area (zoom out) on the image:\n",
    "- Decrease 'left'\n",
    "- Increase 'right'\n",
    "- Decrease 'bottom'\n",
    "- Increase 'top'\n",
    "\n",
    "To include less area (Zoom in):\n",
    "- Increase 'left'\n",
    "- Decrease 'Right'\n",
    "- Increase 'bottom'\n",
    "- Decrease 'top'"
   ]
  },
  {
   "cell_type": "code",
   "execution_count": null,
   "id": "c8ff3359-5247-4fb8-800a-5c665c467c06",
   "metadata": {},
   "outputs": [],
   "source": [
    "# Use Rasterio to get the current bounds for the 2014 false colour composite tif\n",
    "with rasterio.open('KenaiMountains/2014Data/KM2014_FullFCC.TIF') as KM2014FCCsrc:\n",
    "    print(KM2014FCCsrc.bounds)"
   ]
  },
  {
   "cell_type": "code",
   "execution_count": null,
   "id": "a7c2aed0-6e29-4a35-8d86-b28bb625d65d",
   "metadata": {},
   "outputs": [],
   "source": [
    "# Define a new bounding box to highlight only the Kenai Mountains\n",
    "BoundingBox = {\"left\": 601185.0,\"bottom\": 6551985.0, # Value can be adjusted\n",
    "               \"right\": 694815.0,\"top\": 6700615.0} # Value can be adjusted\n",
    "\n",
    "# Open full false colour composite image and use it as a source\n",
    "with rasterio.open('KenaiMountains/2014Data/KM2014_FullFCC.TIF') as KM2014Cropsrc:\n",
    "    # Define a trim window using the new bounding box\n",
    "    KM2014Trim = from_bounds(BoundingBox[\"left\"], BoundingBox[\"bottom\"],\n",
    "                             BoundingBox[\"right\"], BoundingBox[\"top\"], \n",
    "                             transform=KM2014Cropsrc.transform)  # transform helps convert the pixel value in the Bounding box to real coordinate on the image\n",
    "    \n",
    "    # Read the data within the trim window on the full false colour composite image\n",
    "    KM2014Trim_Data = KM2014Cropsrc.read(window=KM2014Trim)\n",
    "    \n",
    "     # Update the profile of the trimmed image so it can be saved and used in the data analysis\n",
    "    KM2014Trim_Transform = KM2014Cropsrc.window_transform(KM2014Trim)\n",
    "    KM2014Trim_profile = KM2014Cropsrc.profile.copy()\n",
    "    KM2014Trim_profile.update({\n",
    "        \"height\": KM2014Trim_Data.shape[1], # Updates the Pixel Height\n",
    "        \"width\": KM2014Trim_Data.shape[2], # Updates the Pixel Width\n",
    "        \"transform\": KM2014Trim_Transform # Updates the Pixel Values to include Pixels within the Trim Window\n",
    "    })\n",
    "\n",
    "# Save the trimmed raster as a TIF file in the 2014Data folder\n",
    "with rasterio.open('KenaiMountains/2014Data/KM2014_FCC_Trim.TIF', \"w\", **KM2014Trim_profile) as dst:\n",
    "    dst.write(KM2014Trim_Data)\n",
    "\n",
    "# Display the trim \n",
    "# Use the plt.show() to check if the trimmed boundary is satisfactory for the glacier mask analysis\n",
    "plt.imshow(KM2014Trim_Data.transpose((1, 2, 0))) # .transpose reorders the image to height (1), width(2), bands(0) the expected format for matplotlib\n",
    "plt.title(\"Trimmed 2014 Kenai Mountains Image\")\n",
    "plt.show()"
   ]
  },
  {
   "cell_type": "markdown",
   "id": "9e574ca7-c6c9-4d2e-bfe0-fcd3bbffaddd",
   "metadata": {},
   "source": [
    "After the image has been saved, remove the unneccessary files and tidy up the `2014Data` folder. If the files are needed at a later date they can be redownloaded following the steps above."
   ]
  },
  {
   "cell_type": "code",
   "execution_count": null,
   "id": "30933b5e-2cfd-4ea8-b9a8-54f06302d07a",
   "metadata": {},
   "outputs": [],
   "source": [
    " # Create a loop that goes through all of the filenames in the 2014Data folder\n",
    "for KM2014_filenames in os.listdir('KenaiMountains/2014Data'): \n",
    "    KM2014_FilePath = os.path.join('KenaiMountains/2014Data', KM2014_filenames) \n",
    "\n",
    "    # Select all files in the folder apart from the Trimmed TIF\n",
    "    if os.path.isfile(KM2014_FilePath) and KM2014_filenames !='KM2014_FCC_Trim.TIF':\n",
    "        os.remove(KM2014_FilePath) # Remove selected files\n",
    "print(\"Deleted the files that are no longer required (Click Refresh on folder)\")"
   ]
  },
  {
   "cell_type": "markdown",
   "id": "5589154b-3a56-440e-b840-99b20e60734c",
   "metadata": {},
   "source": [
    "Now that folder is more organised, calculate the total glacier area for the 2014 Landsat image. To do this the user will carry out a pixel based classification of the image. This is done by using the normalised Landsat Bands and then identifying all pixels in the image that meet the reflectance threshold value to isolate glacier snow/ice (0.3 in all bands).\n",
    "\n",
    "After Glacier ice and snow has been identified, save the glacier mask to a new file and then updating the profile metadata from the False Colour Composite Trim to reflect that the new image only has 1 band."
   ]
  },
  {
   "cell_type": "code",
   "execution_count": null,
   "id": "5535b739-e9c1-47d6-8a83-e38715389deb",
   "metadata": {},
   "outputs": [],
   "source": [
    "# Open the Trimmed TIF and use it as a source profile\n",
    "with rasterio.open('KenaiMountains/2014Data/KM2014_FCC_Trim.TIF') as KM2014FCCsrc:\n",
    "    KM2014_Normalised = KM2014FCCsrc.read()\n",
    "    KM2014_profile = KM2014FCCsrc.profile\n",
    "\n",
    "# As bands have already been normalised this step is not repeated\n",
    "# Normalise the each bands pixel value so that they are in a common range, set the reflectance value for ice and snow for each band\n",
    "KM2014_Glacier = (KM2014_Normalised[0] > 0.3) & (KM2014_Normalised[1] > 0.3) & (KM2014_Normalised[2] > 0.3)\n",
    "\n",
    "# Redefine the Glacier Mask to save it as a new TIF\n",
    "KM2014_Glacier = KM2014_Glacier.astype(np.uint8)\n",
    "\n",
    "# Update the profile so that it only has 1 band (Ice/snow)\n",
    "KM2014_NewProfile = KM2014_profile.copy()\n",
    "KM2014_NewProfile.update(dtype='uint8', count=1)\n",
    "\n",
    "# Save the Glacier mask TIF to the Glacier Mask folder\n",
    "with rasterio.open('KenaiMountains/GlacierMasks/KM2014_GlacierMask.TIF', 'w', **KM2014_NewProfile) as dst:\n",
    "    dst.write(KM2014_Glacier, 1)\n",
    "\n",
    "# Display the Glacier mask after it has been processed and saved.\n",
    "plt.figure(figsize=(8, 8))\n",
    "plt.imshow(KM2014_Glacier, cmap='gray') # Present the Glacier Mask is greyscale\n",
    "plt.title('Kenai Mountains 2014 - Pixel Based of Glacier snow and ice')\n",
    "plt.show()"
   ]
  },
  {
   "cell_type": "markdown",
   "id": "696e7588-2039-4a71-aee1-02dc4c7c63d5",
   "metadata": {},
   "source": [
    "After the pixel based classification has been successfully completed, calculate the glacier area by using the known pixel size in the glacier mask and converting to a real world measurement (km²)."
   ]
  },
  {
   "cell_type": "code",
   "execution_count": null,
   "id": "0363456a-e82d-468d-a080-8bdd75398ae1",
   "metadata": {},
   "outputs": [],
   "source": [
    "# Open the Glacier Mask for 2014\n",
    "with rasterio.open('KenaiMountains/GlacierMasks/KM2014_GlacierMask.TIF') as KM2014GlacAreasrc:\n",
    "    KM2014_GlacierMask = KM2014GlacAreasrc.read(1)  # Read the Glacier Mask band\n",
    "    KM2014_Transfrom = KM2014GlacAreasrc.transform\n",
    "    GlacPixelWidth = KM2014_Transfrom[0]     # pixel width\n",
    "    GlacPixelHeight = -KM2014_Transfrom[4]    # pixel height (The value is negative so we add an \"-\" to make it positive)\n",
    "\n",
    "# Calculate the Area per Pixel for the image, for Landsat OLI/TIRS it will be 30m x 30m \n",
    "KM2014_AreaPP = GlacPixelWidth * GlacPixelHeight \n",
    "\n",
    "# Calculate how many pixels in the image have been identified as snow/ice in the Glacier mask\n",
    "KM2014_GlacPixel = np.sum(KM2014_GlacierMask == 1)\n",
    "\n",
    "# Calculate the estimated area coverage of Glacier Ice and snow\n",
    "TotalGlacArea2014 = (KM2014_GlacPixel * KM2014_AreaPP) / 1e6  #  convert the value to square kilometers\n",
    "\n",
    "# Print the Estimated Glacier area\n",
    "print(f\"Estimated 2014 Glacier Area: {TotalGlacArea2014:.2f} km²\")"
   ]
  },
  {
   "cell_type": "markdown",
   "id": "5556dba6-8c27-4506-9951-fc2ae8f71080",
   "metadata": {},
   "source": [
    "## Downloading and analysing the 2024 Landsat Scene ##"
   ]
  },
  {
   "cell_type": "markdown",
   "id": "0c154cce-5b89-4a39-aa1d-c392ea9cfe15",
   "metadata": {},
   "source": [
    "For the 2024 Dataset the code is the same as the 2014 analysis. Use the `landsat_ot_c2_l1` dataset which is the Landsat OLI/TIRS satellite for the scene."
   ]
  },
  {
   "cell_type": "code",
   "execution_count": null,
   "id": "24732f02-fe9f-475f-b32f-dacc15e14099",
   "metadata": {},
   "outputs": [],
   "source": [
    "# Use the scene_search function to get the product id of the 2024 Landsat scene\n",
    "results_2024 = api.scene_search(\n",
    "    # Landsat dataset used for 2024 image\n",
    "    dataset = \"landsat_ot_c2_l1\", \n",
    "    # The latitude of the image\n",
    "    lat = 60.09328, \n",
    "    # The longtitude of the image\n",
    "    lng = -149.48212, \n",
    "    # The start date of the search range\n",
    "    start_date = \"2024-08-20\",\n",
    "    # The end date of the search range\n",
    "    end_date = \"2024-08-20\", \n",
    "    # The Users Api key\n",
    "    api_key=api_key \n",
    ")\n",
    "\n",
    "# Loop through each 'scene' that appears in the results and  print out the 'entity_id' of the Landsat scene\n",
    "for scene in results_2024['data']['results']:\n",
    "    print(\"The Entity ID of the Landsat scene is\",(scene['entityId'])) "
   ]
  },
  {
   "cell_type": "markdown",
   "id": "8e627dd4-97f8-4cc4-ae91-eb91d79652ae",
   "metadata": {},
   "source": [
    "The user will be using the same `product_id` as the 2014 analysis as they are extracting images from the same satellite dataset."
   ]
  },
  {
   "cell_type": "code",
   "execution_count": null,
   "id": "9ea0dde2-3d8d-4f48-8744-723df9aa780d",
   "metadata": {},
   "outputs": [],
   "source": [
    "# Use OS to create a 2009Data folder for the Landsat scene band files to be downloaded into\n",
    "os.makedirs(\"KenaiMountains/2024Data\", exist_ok=True) \n",
    "\n",
    "# Return the available download URLs for the Landsat scene Band files\n",
    "KM_2024 = api.download_request(\n",
    "    dataset=\"landsat_ot_c2_l1\", # Landsat dataset\n",
    "    entity_id=\"LC90680182024233LGN00\", # Landsat scene ID (entity_id)\n",
    "    product_id=\"5e81f14f92acf9ef\", # Product ID (Landsat Band file), the same as the 2014 dataset\n",
    ")\n",
    "\n",
    "# Download the Landsat scene images using the URL returned from download_request in the EE node\n",
    "if 'data' in KM_2024 and 'availableDownloads' in KM_2024['data']:\n",
    "    KM_2024Avail = KM_2024['data']['availableDownloads']# Identify if the Landsat images are available to be downloaded\n",
    "    if KM_2024Avail:\n",
    "        # Access the first download URL returned from download_request\n",
    "        KM2024downloadurl = KM_2024Avail[0]['url'] \n",
    "         # Set the file pathway to download into the 2014Data folder\n",
    "        KM_2024File = os.path.join(\"KenaiMountains/2024Data\", f\"LC90680182024233LGN00.tar\") \n",
    "        KM2024url = requests.get(KM2024downloadurl, stream=True) # Use requests to get the URL stored in 'KM2024downloadurl' \n",
    "\n",
    "        # Create the file and write it in binary mode to avoid corruption during the download\n",
    "        with open(KM_2024File, \"wb\") as f: \n",
    "            for chunk in KM2024url.iter_content(chunk_size=8192): # Download the folder in 8 KB Chunk\n",
    "                if chunk:\n",
    "                    f.write(chunk)\n",
    "\n",
    "# Print text when the images are successfully downloaded\n",
    "# Download may take a few minutes (folder is approximately 1GB)\n",
    "print(\"2024 Kenai Mountain images downloaded!\") "
   ]
  },
  {
   "cell_type": "code",
   "execution_count": null,
   "id": "4750c249-ec2c-4170-9c9a-ca41cac624b2",
   "metadata": {},
   "outputs": [],
   "source": [
    "# Extract the Landsat images into the 2024Data folder\n",
    "with tarfile.open('KenaiMountains/2024Data/LC90680182024233LGN00.tar', 'r') as KM2024Tar:\n",
    "    KM2024Tar.extractall('KenaiMountains/2024Data')\n",
    "\n",
    "# Print text when extraction has been successfull\n",
    "print(\"Images have been successfully extracted\")"
   ]
  },
  {
   "cell_type": "markdown",
   "id": "9c93f81f-21da-4c47-af4f-e31b8785b7b0",
   "metadata": {},
   "source": [
    "After the images have been downloaded and extracted into the `2024Data` folder, the user is going to build the false colour composite image of the 2024 Landsat scene.\n",
    "\n",
    "To do this, stack bands 5 (NIR), 4 (Red) and 3 (Green) and create a single 3D array using `NumPY`. "
   ]
  },
  {
   "cell_type": "code",
   "execution_count": null,
   "id": "aa0217a0-c76e-4ce7-a34a-2cf035f1df98",
   "metadata": {},
   "outputs": [],
   "source": [
    "# Use Rasterio to open and read the band TIF files\n",
    "with rasterio.open('KenaiMountains/2024Data/LC09_L1TP_068018_20240820_20240820_02_T1_B5.TIF') as KM2024_B5IMG:\n",
    "    KM24B5 = KM2024_B5IMG.read(1) # Band 5 (NIR)\n",
    "with rasterio.open('KenaiMountains/2024Data/LC09_L1TP_068018_20240820_20240820_02_T1_B4.TIF') as KM2024_B4IMG:\n",
    "    KM24B4 = KM2024_B4IMG.read(1) # Band 4 (Red)\n",
    "with rasterio.open('KenaiMountains/2024Data/LC09_L1TP_068018_20240820_20240820_02_T1_B3.TIF') as KM2024_B3IMG:\n",
    "    KM24B3 = KM2024_B3IMG.read(1) # Band 3 (Green)\n",
    "\n",
    "# Stack the Landsat bands using NumPy to create a single 3D Array\n",
    "KM2024_falsecolourstack = np.dstack((KM24B5, KM24B4, KM24B3))\n",
    "\n",
    "# Normalise the bands in the false colour composite image as the image is to large to print using matplotlib\n",
    "KM2024_Normalised = KM2024_falsecolourstack.astype(np.float32)\n",
    "KM2024_Normalised /= KM2024_Normalised.max()\n",
    "\n",
    "# Print the stacked band array to show the 2024 false colour composite image\n",
    "plt.figure(figsize=(8, 8))\n",
    "plt.imshow(KM2024_Normalised)\n",
    "plt.title(\"Kenai Mountains 2024 False Colour Composite Image\")\n",
    "plt.show()"
   ]
  },
  {
   "cell_type": "code",
   "execution_count": null,
   "id": "930e2ecc-2f21-4223-8b54-d63b80178448",
   "metadata": {},
   "outputs": [],
   "source": [
    "# Open one of the bands (NIR) to get its profile and use it as a source for the image\n",
    "with rasterio.open('KenaiMountains/2024Data/LC09_L1TP_068018_20240820_20240820_02_T1_B5.TIF') as KM2024_source:\n",
    "    KM2024_ImgProfile = KM2024_source.profile\n",
    "\n",
    "# Update the profile for all of the bands \n",
    "# All bands will be updated using Band 5 as the source\n",
    "KM2024_ImgProfile.update(\n",
    "    count=3,  #  The count is set to 3 as we are using 3 bands (NIR, Red and Green)\n",
    "    dtype=KM2024_Normalised.dtype  #  Set the data type to be the same as the false colour composite\n",
    ")\n",
    "\n",
    "# Save the False Colour Composite to the 2024Data folder\n",
    "with rasterio.open('KenaiMountains/2024Data/KM2024_FullFCC.TIF', 'w', **KM2024_ImgProfile) as KM2024_FCCdownload:\n",
    "# Use .write to save the image to the 2009Data folder\n",
    "    KM2024_FCCdownload.write(KM2024_Normalised.transpose(2, 0, 1))   # .transpose reorders the image to bands/count(2), height (0), width(1)\n",
    "print(\"Image has been saved as KM2024_FullFCC.TIF in KenaiMountain2014\")"
   ]
  },
  {
   "cell_type": "markdown",
   "id": "d47b5303-2d85-4674-a9f4-2d6b1d47a38d",
   "metadata": {},
   "source": [
    "Now the user can trim the 2024 Landsat scene so that only the Kenai Mountains is visible in the image. This will be useful for providing an accuracte estimation of the glacier area for the 2024 period.\n",
    "\n",
    "To include more area (zoom out) on the image:\n",
    "- Decrease 'left'\n",
    "- Increase 'right'\n",
    "- Decrease 'bottom'\n",
    "- Increase 'top'\n",
    "\n",
    "To include less area (Zoom in):\n",
    "- Increase 'left'\n",
    "- Decrease 'Right'\n",
    "- Increase 'bottom'\n",
    "- Decrease 'top'"
   ]
  },
  {
   "cell_type": "code",
   "execution_count": null,
   "id": "ab98addd-a1b7-4f3d-aab8-9da5ca9f425a",
   "metadata": {},
   "outputs": [],
   "source": [
    "# Use Rasterio to get the current bounds for the 2024 false colour composite tif\n",
    "with rasterio.open('KenaiMountains/2024Data/KM2024_FullFCC.TIF') as KM2024FCCsrc:\n",
    "    print(KM2024FCCsrc.bounds)"
   ]
  },
  {
   "cell_type": "code",
   "execution_count": null,
   "id": "29b00ed0-3e16-4812-9bdf-fd0a0a81dc04",
   "metadata": {},
   "outputs": [],
   "source": [
    "# Define a new bounding box to highlight only the Kenai Mountains\n",
    "BoundingBox = {\"left\": 191185.0,\"bottom\": 6561985.0,\n",
    "               \"right\": 374815.0,\"top\": 6690615.0}\n",
    "\n",
    "# Open full false colour composite image and use it as a source\n",
    "with rasterio.open('KenaiMountains/2024Data/KM2024_FullFCC.TIF') as KM2024Cropsrc:\n",
    "    # Define a trim window using the new bounding box\n",
    "    KM2024Trim = from_bounds(BoundingBox[\"left\"], BoundingBox[\"bottom\"], \n",
    "                             BoundingBox[\"right\"], BoundingBox[\"top\"],\n",
    "                             transform=KM2024Cropsrc.transform)  # transform helps convert the pixel value in the Bounding box to real coordinate on the image\n",
    "    \n",
    "    # Read the data within the trim window on the full false colour composite image\n",
    "    KM2024Trim_Data = KM2024Cropsrc.read(window=KM2024Trim)\n",
    "    \n",
    "    # Update the profile of the trimmed image so it can be saved and used in the data analysis\n",
    "    KM2024Trim_Transform = KM2024Cropsrc.window_transform(KM2024Trim)\n",
    "    KM2024Trim_profile = KM2024Cropsrc.profile.copy()\n",
    "    KM2024Trim_profile.update({\n",
    "        \"height\": KM2024Trim_Data.shape[1], # Updates the Pixel Height\n",
    "        \"width\": KM2024Trim_Data.shape[2], # Updates the Pixel Width\n",
    "        \"transform\": KM2024Trim_Transform # Updates the Pixel Values to include Pixels within the Trim Window\n",
    "    })\n",
    "\n",
    "# Save the trimmed raster as a TIF file in the 2024Data folder\n",
    "with rasterio.open('KenaiMountains/2024Data/KM2024_FCC_Trim.TIF', \"w\", **KM2024Trim_profile) as dst:\n",
    "    dst.write(KM2024Trim_Data)\n",
    "\n",
    "# Display the trim \n",
    "# Use the plt.show() to check if the trimmed boundary is satisfactory for the glacier mask analysis\n",
    "plt.imshow(KM2024Trim_Data.transpose((1, 2, 0))) # .transpose reorders the image to height (1), width(2), bands(0) the expected format for matplotlib\n",
    "plt.title(\"Cropped 2024 Kenai Mountains Image\")\n",
    "plt.show()"
   ]
  },
  {
   "cell_type": "markdown",
   "id": "0f690523-7d8f-4507-9df4-c368142b415e",
   "metadata": {},
   "source": [
    "After the image has been saved, the user can delete the unneccessary files and tidy up the `2024Data` folder. If the files are needed at a later date they can be redownloaded following the steps above."
   ]
  },
  {
   "cell_type": "code",
   "execution_count": null,
   "id": "0f0462d3-ffca-4d4e-a008-7a08c55f66d3",
   "metadata": {},
   "outputs": [],
   "source": [
    "# Create a loop that goes through all of the filenames in the 2024Data folder\n",
    "for KM2024_filenames in os.listdir('KenaiMountains/2024Data'): \n",
    "    KM2024_FilePath = os.path.join('KenaiMountains/2024Data', KM2024_filenames)\n",
    "\n",
    "     # Select all files in the folder apart from the Trimmed TIF\n",
    "    if os.path.isfile(KM2024_FilePath) and KM2024_filenames !='KM2024_FCC_Trim.TIF':\n",
    "        os.remove(KM2024_FilePath) # Remove selected files\n",
    "print(\"Deleted the files that are no longer required (Click Refresh on folder)\")"
   ]
  },
  {
   "cell_type": "markdown",
   "id": "db13c768-da2d-4c6e-8ce5-6140fd5c083f",
   "metadata": {},
   "source": [
    "Now that folder is more organised, calculate the total glacier area for the 2024 Landsat image. To do this the user will carry out a pixel based classification of the image. This can be done by using the normalised Landsat Bands and then identifying all pixels in the image that meet the reflectance threshold value to isolate glacier snow/ice (0.3 in all bands).\n",
    "\n",
    "After Glacier ice and snow has been identified the user will save the glacier mask to a new file, updating the profile metadata from the False Colour Composite Trim to reflect that the new image only has 1 band."
   ]
  },
  {
   "cell_type": "code",
   "execution_count": null,
   "id": "32bd8c0b-9e31-43de-bba2-7488cead16ca",
   "metadata": {},
   "outputs": [],
   "source": [
    "# Open the Trimmed TIF and use it as a source profile\n",
    "with rasterio.open('KenaiMountains/2024Data/KM2024_FCC_Trim.TIF') as KM2024FCCsrc:\n",
    "    KM2024_Normalised = KM2024FCCsrc.read()\n",
    "    KM2024_profile = KM2024FCCsrc.profile\n",
    "\n",
    "# As bands have already been normalised this step is not repeated\n",
    "# Normalise the each bands pixel value so that they are in a common range, set the reflectance value for ice and snow for each band\n",
    "KM2024_Glacier = (KM2024_Normalised[0] > 0.3) & (KM2024_Normalised[1] > 0.3) & (KM2024_Normalised[2] > 0.3)\n",
    "\n",
    "# Redefine the Glacier Mask to save it as a new TIF\n",
    "KM2024_Glacier = KM2024_Glacier.astype(np.uint8)\n",
    "\n",
    "# Update the profile so that it only has 1 band (Ice/snow)\n",
    "KM2024_NewProfile = KM2024_profile.copy()\n",
    "KM2024_NewProfile.update(dtype='uint8', count=1)\n",
    "\n",
    "# Save the Glacier mask TIF to the Glacier Mask folder\n",
    "with rasterio.open('KenaiMountains/GlacierMasks/KM2024_GlacierMask.TIF', 'w', **KM2024_NewProfile) as dst:\n",
    "    dst.write(KM2024_Glacier, 1)\n",
    "\n",
    "# Display the Glacier mask after it has been processed and saved.\n",
    "plt.figure(figsize=(8, 8))\n",
    "plt.imshow(KM2024_Glacier, cmap='gray') # Present the Glacier Mask is greyscale\n",
    "plt.title('Kenai Mountains 2024 - Pixel Based of Glacier snow and ice')\n",
    "plt.show()"
   ]
  },
  {
   "cell_type": "markdown",
   "id": "62e22d56-8570-402d-8705-8177a9f35779",
   "metadata": {},
   "source": [
    "After the pixel based classification has been successfully completed, calculate the glacier area by using the known pixel size in the glacier mask and converting to a real world measurement (km²)."
   ]
  },
  {
   "cell_type": "code",
   "execution_count": null,
   "id": "a173697d-e874-462f-b6f0-f3b23f24d30f",
   "metadata": {},
   "outputs": [],
   "source": [
    "# Open the Glacier Mask for 2024\n",
    "with rasterio.open('KenaiMountains/GlacierMasks/KM2024_GlacierMask.TIF') as KM2024GlacAreasrc:\n",
    "    KM2024_GlacierMask = KM2024GlacAreasrc.read(1)  # Read the Glacier Mask band\n",
    "    KM2024_Transfrom = KM2024GlacAreasrc.transform\n",
    "    GlacPixelWidth = KM2024_Transfrom[0]     # pixel width\n",
    "    GlacPixelHeight = -KM2024_Transfrom[4]   # pixel height (The value is negative so we add an \"-\" to make it positive)\n",
    "\n",
    "# Calculate the Area per Pixel for the image, for Landsat OLI/TIRS it will be 30m x 30m \n",
    "KM2024_AreaPP = GlacPixelWidth * GlacPixelHeight \n",
    "\n",
    "# Calculate how many pixels in the image have been identified as snow/ice in the Glacier mask\n",
    "KM2024_GlacPixel = np.sum(KM2024_GlacierMask == 1)\n",
    "\n",
    "# Calculate the estimated area coverage of Glacier Ice and snow\n",
    "TotalGlacArea2024 = (KM2024_GlacPixel * KM2024_AreaPP) / 1e6   # convert the value to square kilometerss\n",
    "\n",
    "# Print the Estimated Glacier area\n",
    "print(f\"Estimated 2024 Glacier Area: {TotalGlacArea2024:.2f} km²\")"
   ]
  },
  {
   "cell_type": "markdown",
   "id": "eb6c3644-7f51-48f9-858a-7cfc6ad8235f",
   "metadata": {},
   "source": [
    "### Log out of the usgs account ###"
   ]
  },
  {
   "cell_type": "markdown",
   "id": "a61bf41d-e87d-421c-ba2e-ed9ecba6d103",
   "metadata": {},
   "source": [
    "The next important step after the user has acquired the results for all of the Landsat scenes is to log out out of the `usgs.api` portal. Logging out prevents future issues regarding the api authorisation if the script is revisited at a later date.\n",
    "\n",
    "To prevent future errors of this manner, log out of the USGS account"
   ]
  },
  {
   "cell_type": "code",
   "execution_count": null,
   "id": "698529b7-ce26-4c4a-8b3f-a60c2d2e5928",
   "metadata": {},
   "outputs": [],
   "source": [
    "# Logs out the existing USGS account for the script\n",
    "# Ensure you log out using this cell whenever you are finished to prevent any issues revisiting or adapting the script\n",
    "api.logout()\n",
    "print(\"Log out successfull!\")"
   ]
  },
  {
   "cell_type": "markdown",
   "id": "140f8d8d-6b9c-43a1-b227-dc6938c9fed9",
   "metadata": {},
   "source": [
    "### Summary of Results ### \n",
    "After the user has got their results from the glacier masks. They can be presented in a table to show the glacier area for each year used in the analysis"
   ]
  },
  {
   "cell_type": "code",
   "execution_count": null,
   "id": "17d584c7-36a3-42f5-b8ea-892d3aab36fe",
   "metadata": {},
   "outputs": [],
   "source": [
    "# Define what data is going to be included in the summary table \n",
    "Table_Data = {\n",
    "    # Insert the Date of each image used in the analysis\n",
    "    'Date of Image' : [\"1986-09-12\", \"1995-08-09\",\n",
    "                       \"2009-07-09\", \"2014-09-26\",\n",
    "                       \"2024-08-20\"],\n",
    "    # Insert the Total Glacier area measurments for each image\n",
    "    'Glacier Area (km²)': [TotalGlacArea1986, TotalGlacArea1995,\n",
    "                           TotalGlacArea2009, TotalGlacArea2014,\n",
    "                           TotalGlacArea2024]\n",
    "}\n",
    "\n",
    "# Using gpd from geopandas, create a Dataframe for the table data\n",
    "Table_Dataframe = gpd.GeoDataFrame(Table_Data)\n",
    "\n",
    "# Print the table and rounds the Glacier area measurements to 2 decimal points\n",
    "print(Table_Dataframe.round(2))"
   ]
  },
  {
   "cell_type": "markdown",
   "id": "4d2e87a6-70b5-4675-a451-393de6e76e57",
   "metadata": {},
   "source": [
    "## Explanation of the Results ##\n",
    "\n",
    "As seen in the Summary table it appears that the Glacier Area of the Kenai Mountains increased between 1986 - 2009 and then decreased between 2009 - 2024. Overall the Glacier area of the Kenai Mountains increased between 1986 - 2024. \n",
    "These results are irregular and are likely caused by the pixel-based classification which has detectedfeatures in the false colour composite images and has incorrectly identified them as snow (cloud coverage). The below section includes future adaptations of the code that can be used to improve the reliability and accuracy of the results from this study, as well as adaptations that can be applied to this code for future studies."
   ]
  },
  {
   "cell_type": "markdown",
   "id": "0c874761-b42a-4e16-8a37-da54e4912823",
   "metadata": {},
   "source": [
    "### Future Adaptations of the Code ###\n",
    "\n",
    "Future versions of this code can includes the following to make the analysis more accurate:-\n",
    "- Increasing the gamma of the trimmed false colour composite images to improve the visibility of cloud covers in each scene. Additionally, incerasing the gamma makes the scene appear brighter and easier to interpret in a visual analysis.\n",
    "- Applying a NDSI (Normalised Difference Snow Index) as opposed to the normalisation used in this study. This will increase the relability of the Glacier mask results as the normalisation method selects all features that has the set reflectance value. This may include clouds in the image or other objects that aren't snow or ice. This may explain why the results of the study appear to be more irregular as it would be expected for glacier area to decrease overtime.\n",
    "- Selecting cloud free imagery to provide better visibility of glacier snow and ice.\n",
    "- Creating a more accurate Bounding Box, future versions could include creating a consistent bounding box for all images as some scenes will include other feature detected as glacier ice and snow is not apart of the Kenai Mountains study area.\n",
    "- Generating a shapefile using the imported `shapely` to generate a shapefile which can display the identified glacier area on GIS and Remote Sensing software such as ArcGIS, QGIS, ArcMap, etc.\n",
    "- Future versions of the script could make the process of analysing each landsat image easier by bulk downloading and processing images rather than processing each image separately."
   ]
  }
 ],
 "metadata": {
  "kernelspec": {
   "display_name": "Python 3 (ipykernel)",
   "language": "python",
   "name": "python3"
  },
  "language_info": {
   "codemirror_mode": {
    "name": "ipython",
    "version": 3
   },
   "file_extension": ".py",
   "mimetype": "text/x-python",
   "name": "python",
   "nbconvert_exporter": "python",
   "pygments_lexer": "ipython3",
   "version": "3.9.22"
  }
 },
 "nbformat": 4,
 "nbformat_minor": 5
}
