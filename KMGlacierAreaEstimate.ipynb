{
 "cells": [
  {
   "cell_type": "markdown",
   "id": "91617b2a-b65e-4b09-9cd2-ce8b4de080f6",
   "metadata": {},
   "source": [
    "### GLACIER AREA CALCULATOR ### \n",
    "\n",
    "This project will primarily use the USGS Python Package to identify, download and present Landsat imagery between 1985 - 2024 at the Kenai Mountains in Alaska.\n"
   ]
  },
  {
   "cell_type": "markdown",
   "id": "c614b627-b149-4f9b-b677-855a44f7bf72",
   "metadata": {},
   "source": [
    "##  TO DO LIST FOR THE STUDY  ## \n",
    "\n",
    "---AFTER LANDSAT DONE-----\n",
    "- Create a table and shapefile with the results"
   ]
  },
  {
   "cell_type": "code",
   "execution_count": 8,
   "id": "7b030732-c4ea-4001-8c2f-b27816d32d24",
   "metadata": {},
   "outputs": [],
   "source": [
    "# List of modules required for this study\n",
    "\n",
    "# usgs will need to be downloaded to the users conda environment (using pip install usgs)\n",
    "import usgs\n",
    "from usgs import api\n",
    "import os\n",
    "import requests\n",
    "import tarfile\n",
    "import rasterio\n",
    "from rasterio.windows import from_bounds\n",
    "import numpy as np\n",
    "import matplotlib.pyplot as plt"
   ]
  },
  {
   "cell_type": "markdown",
   "id": "92aa1780-fff2-4061-9fd4-0777fa4ff26b",
   "metadata": {},
   "source": [
    "## Getting Logged in and Set up ##"
   ]
  },
  {
   "cell_type": "markdown",
   "id": "fe45f156-314c-46bf-8411-07225af52776",
   "metadata": {},
   "source": [
    "In order for this script to work, users will require both a valid account on the USGS Earth Explorer Website (https://earthexplorer.usgs.gov/) and an authorised Api Key (This can be applied for by following the attached link https://ers.cr.usgs.gov/)."
   ]
  },
  {
   "cell_type": "code",
   "execution_count": 25,
   "id": "e34fb1c7-40d7-4863-aed3-8284108cf66d",
   "metadata": {},
   "outputs": [
    {
     "name": "stdout",
     "output_type": "stream",
     "text": [
      "Log in successful\n"
     ]
    }
   ],
   "source": [
    "# Open and read the Username and Api Key/Token for the USGS account\n",
    "with open('C:/Users/couse/.usgs_user', 'r') as usertext: # Enter user directory\n",
    "    username = usertext.read()\n",
    "with open('C:/Users/couse/.usgs_token', 'r') as tokentext:  # Enter user Api token\n",
    "    password = tokentext.read()\n",
    "    \n",
    "# Log in using the above information \n",
    "login = api.login(username, password, save=True)\n",
    "\n",
    "# Extract the API Key (token) separately as it will be needed to search for and download Landsat scenes\n",
    "api_key = login['data']\n",
    "print(\"Log in successful\")"
   ]
  },
  {
   "cell_type": "markdown",
   "id": "8fdd68c0-3912-4e0e-985d-248b45b085cd",
   "metadata": {},
   "source": [
    "To identify and search for the required Landsat scenes in this study we are going to use the api.scene_search() function as this will be the primary method for getting the correct images before we download them. "
   ]
  },
  {
   "cell_type": "markdown",
   "id": "dbb61ef7-5073-435b-86aa-0b29958ab6d7",
   "metadata": {},
   "source": [
    "For the scene searches in this study we are going to use the following:\n",
    "- Dataset ID (dataset)\n",
    "- Latitude and Longitude (lat and lng)\n",
    "- Earth Explorer allows us to create a bounding box to get available images that cover those areas (ll and ur - Lower left corner and Upper Right corner for the bounding box respectively)\n",
    "- Start and End date (start_date and end_date)\n",
    "- The extracted Api key (api_key)\n",
    "\n",
    "Future adaptations could include filtering image selection based on cloud coverage to ensure that images used are cloud free."
   ]
  },
  {
   "cell_type": "markdown",
   "id": "da245fc5-9ae6-49b5-bb02-fc13ed3f74be",
   "metadata": {},
   "source": [
    "We are going to use dataset_search to identify what Landsat datasets are available and importantly the exact 'dataset' which we will use to download and extract the specific scenes needed for this study"
   ]
  },
  {
   "cell_type": "code",
   "execution_count": 75,
   "id": "754893d4-0e23-4b73-900d-e891100fa5f2",
   "metadata": {},
   "outputs": [
    {
     "name": "stdout",
     "output_type": "stream",
     "text": [
      "esat_etm_nopan\n",
      "esat_etm_pan\n",
      "ortho_mosaic_etm\n",
      "geos_5_fp_it\n",
      "geos_5_it\n",
      "lima\n",
      "landsat_mss_c2_l1\n",
      "landsat_tm_c2_l1\n",
      "landsat_tm_c2_l2\n",
      "landsat_ba_tile_c2\n",
      "landsat_dswe_tile_c2\n",
      "landsat_fsca_tile_c2\n",
      "landsat_fsca_tile_stat_c2\n",
      "landsat_ard_tile_c2\n",
      "landsat_etm_c2_l1\n",
      "landsat_etm_c2_l2\n",
      "landsat_ot_c2_l1\n",
      "landsat_ot_c2_l2\n",
      "landsat_band_files_c2_l1\n",
      "landsat_band_files_c2_l2\n",
      "lima_mosaic\n",
      "merra_2_c2\n",
      "ortho_mss_scene\n",
      "mss_film\n",
      "rbv_film\n",
      "sys_etm\n",
      "esat_tm\n",
      "tm_film\n",
      "ortho_mosaic\n",
      "viirs_atmos\n"
     ]
    }
   ],
   "source": [
    "# Landsat imagery comes from the EarthExplorer dataset (node), we will do a search and print out all Landsat datasets in the Earth Explorer node\n",
    "satellite_avail = api.dataset_search(\"landsat\", \"EE\")\n",
    "for dataset in satellite_avail['data']:\n",
    "        print(dataset['datasetAlias']) #Prints out names of all available datasets"
   ]
  },
  {
   "cell_type": "markdown",
   "id": "ec40fd37-86bc-4fff-bc5c-f6c72781e9a0",
   "metadata": {},
   "source": [
    "All available scenes are printed above. In this project we are going to use the 'landsat_tm_c2_l1' (1986, 1995 and 2009) and the 'landsat_ot_c2_l1' (2014 and 2024) datasets to acquire imagery of the Kenai Mountain Glaciers. The next step is to search for the Landsat images that will be used for the study. You can get the Bounding box coordinates and landsat image information on the USGS Earth Explorer website (https://earthexplorer.usgs.gov/).\n",
    "In this study, a set date has been used to get the exact image required, however the date range can be adjusted to get see the available products ether across a range of dates or on different days."
   ]
  },
  {
   "cell_type": "markdown",
   "id": "2ce991eb-8ec1-4218-a0c9-a40a95de2d58",
   "metadata": {},
   "source": [
    "## Downloading and analysing the 1986 Landsat Scene ## "
   ]
  },
  {
   "cell_type": "code",
   "execution_count": null,
   "id": "2e183f17-d2f9-444f-a882-4f5009c98be6",
   "metadata": {},
   "outputs": [],
   "source": [
    "# In this cell we will use the search function to get the 'entity_id' Landsat scene used in the study\n",
    "results_1986 = api.scene_search(\n",
    "    # Landsat dataset used for 1986 image\n",
    "    dataset = \"landsat_tm_c2_l1\", \n",
    "    # The latitude of the image (Can be changed for different locations)\n",
    "    lat = 60.09345, \n",
    "    # The longtitude of the image (Can be changed for different locations)\n",
    "    lng = -151.07395, \n",
    "    # The Latitude and Longtitude of the Lower left corner of the Bounding Box in EE\n",
    "    ll = {\"longitude\" : -151.7075, \"latitude\" : 59.1140}, \n",
    "    # The Latitude and Longtitude of the Upper Right corner of the Bounding Box in EE\n",
    "    ur = {\"longitude\" : -150.1913, \"latitude\" : 59.9276},\n",
    "    # The start date of the search range\n",
    "    start_date = \"1986-09-11\", \n",
    "    # The end date of the search range\n",
    "    end_date = \"1986-09-13\", \n",
    "    # The Users Api key\n",
    "    api_key=api_key \n",
    ")\n",
    "# Loop through each 'scene' that appears in the results and will print out the 'entity_id' which will be used in the dataset download.\n",
    "for scene in results_1986['data']['results']:\n",
    "    print(\"The Entity ID of the 1986 Landsat scene is\",(scene['entityId'])) "
   ]
  },
  {
   "cell_type": "markdown",
   "id": "bc3a80b9-53d9-4d85-807a-22cc08cca1ae",
   "metadata": {},
   "source": [
    "Now that the Entity ID is known we can now download the Band files which we will use to build a false colour composite image of the Kenai Mountains."
   ]
  },
  {
   "cell_type": "code",
   "execution_count": null,
   "id": "96eba491-ffbe-4638-b4f4-95dd69c70c61",
   "metadata": {},
   "outputs": [],
   "source": [
    "# This cell will provide the different download options for the Landsat dataset\n",
    "api.dataset_download_options(\"landsat_tm_c2_l1\")                             "
   ]
  },
  {
   "cell_type": "markdown",
   "id": "f279fde6-3acc-46ab-be3f-323088bb53d6",
   "metadata": {},
   "source": [
    "In this study we are going to use the 'Landsat Collection 2 Level-1 Product Bundle' to download all the different bands. For all downloads we are using the product_id that incldues the downlaod system 'ls_zip'. The product ID code with the downlaod option will be used in the download request to download the tar file into the repository. We are download all of the datasets as a tarfile as when the images are download from the USGS dataset it combines all images into a single file. If images are downloaded as a zip file it doesn't allow the user to extract the file contents as all images are individually compressed.\n",
    "\n",
    "Therefore, in this project all images that are downloaded from the USGS are downloaded in the tar file format so that the user can used the tarfile module to easily extract images into the directory folder.\n",
    "\n",
    "The next cell will download the Landsat band images associated with the entity_id that we got from the scene search above. The download_requests functions will return a URL which can be used to download the band file folder to our chosen directory. We will use this URL to direct our download to the 1986Data folder as a Tar file."
   ]
  },
  {
   "cell_type": "code",
   "execution_count": null,
   "id": "f926c7bb-2b14-43ce-8c3b-39e0a9dc19bf",
   "metadata": {},
   "outputs": [],
   "source": [
    "# We use the OS module to create a new folder for all the Kenai Mountains data to be stored \n",
    "# We also create a '1986Data' folder to store data that belongs to this time period\n",
    "os.makedirs(\"KenaiMountains/1986Data\", exist_ok=True) \n",
    "\n",
    "# This functions will return the available download urls for the Landsat scene\n",
    "KM_1986 = api.download_request(\n",
    "    dataset=\"landsat_tm_c2_l1\", # Landsat dataset\n",
    "    entity_id=\"LT50690181986255XXX05\", # Landsat scene entity id returned from the scene search\n",
    "    product_id=\"5e83d0a0f94d7d8d\", # Product id for the Landsat Collection 1 Level 1 ls.zip\n",
    ")\n",
    "\n",
    " # Download the Landsat data using the url provided by the download_request function from the EE node\n",
    "if 'data' in KM_1986 and 'availableDownloads' in KM_1986['data']:\n",
    "    # Identifies if the above Landsat is available to be downloaded\n",
    "    KM_1986Avail = KM_1986['data']['availableDownloads'] \n",
    "    if KM_1986Avail:\n",
    "        KM1986downloadurl = KM_1986Avail[0]['url']# Use the first download url retrieved from download_request\n",
    "        KM_1986File = os.path.join(\"KenaiMountains/1986Data\", f\"LT50690181986255XXX05.tar\")# Set the file path to download into the '1986Data' folder created above\n",
    "        KM1986url = requests.get(KM1986downloadurl, stream=True)# Use the requests module to get the URL stored in the 'KM1986downloadurl' variable\n",
    "\n",
    "        # Write the downloaded file in binary mode to avoid corruption during download\n",
    "        with open(KM_1986File, \"wb\") as f: \n",
    "            # Download in 8Kb chunks to avoid issues with larger datasets (more relevant to 'landsat_ot_c2_l1' scenes\n",
    "            for chunk in KM1986url.iter_content(chunk_size=8192): \n",
    "                # Then we use .write to download the data in chunk to our chosen folder\n",
    "                if chunk:\n",
    "                    f.write(chunk)\n",
    "\n",
    "# When download is successful it will print the following text\n",
    "# The download may take a few minutes but can be monitored by refreshing the directory folder (1986Data)\n",
    "print(\"1986 Kenai Mountain images downloaded!\")"
   ]
  },
  {
   "cell_type": "code",
   "execution_count": null,
   "id": "d1898af2-93b0-4108-b70d-306a18d7b161",
   "metadata": {},
   "outputs": [],
   "source": [
    "# We extract the Landsat images from the .tar file that we downloaded from the USGS EE node\n",
    "with tarfile.open(\"KenaiMountains/1986Data/LT50690181986255XXX05.tar\", 'r') as KM1986Tar:\n",
    "    KM1986Tar.extractall(\"KenaiMountains/1986Data\")\n",
    "\n",
    "# Text will display whenever images have been successfully extracted into the 1986Data folder\n",
    "print(\"Images have been successfully extracted\")"
   ]
  },
  {
   "cell_type": "markdown",
   "id": "72e58724-6a1a-4ee5-adc0-658e11758470",
   "metadata": {},
   "source": [
    "Now that the images for the 1986 dataset have been downloaded we will build a false colour composite image of the Landsat scene\n",
    "\n",
    "As part of this we are going to use Rasterio to open, read and stack the images to create a new 3D array (using NumPY). \n",
    "This stack combines the necessary band combination to create a False Colour Composite Image of the Landsat scene.\n",
    "We then use matplotlib to present the created False Colour Composite image to ensure that the correct bands have been used and thqt the stack has been successful."
   ]
  },
  {
   "cell_type": "code",
   "execution_count": null,
   "id": "6d11ae96-5e48-46cb-b5ed-f8ad7abf3087",
   "metadata": {},
   "outputs": [],
   "source": [
    "# We use Rasterio to open the paths to the Landsat scene Band TIF files\n",
    "with rasterio.open(\"KenaiMountains/1986Data/LT05_L1TP_069018_19860912_20200917_02_T1_B4.TIF\") as KM1986_B4IMG:\n",
    "    KM86B4 = KM1986_B4IMG.read(1) # The paths are defined as B4 (NIR), B3 (Red) and B2 (Green) respectively\n",
    "with rasterio.open(\"KenaiMountains/1986Data/LT05_L1TP_069018_19860912_20200917_02_T1_B3.TIF\") as KM1986_B3IMG:\n",
    "    KM86B3 = KM1986_B3IMG.read(1)\n",
    "with rasterio.open(\"KenaiMountains/1986Data/LT05_L1TP_069018_19860912_20200917_02_T1_B2.TIF\") as KM1986_B2IMG:\n",
    "    KM86B2 = KM1986_B2IMG.read(1)\n",
    "\n",
    "# We stack bands using NumPy module to create a single 3D Array\n",
    "KM1986_FFCstack = np.dstack((KM86B4, KM86B3, KM86B2))\n",
    "\n",
    "# Print the Stacked image to show the False Colour Composite for the 1986 Landsat scene\n",
    "plt.figure(figsize=(8, 8)) # create a figure of size 8x8 (representing the page size in inches)\n",
    "plt.imshow(KM1986_FFCstack) # The figure will show the False Colour Composite Image for 1986\n",
    "plt.title(\"Kenai Mountains 1986 False Colour Composite Image\") # The Figure Title\n",
    "plt.show()"
   ]
  },
  {
   "cell_type": "markdown",
   "id": "fe3f7a9b-6f17-4a8b-99ba-d50f38a1a5f4",
   "metadata": {},
   "source": [
    "Now that the False Colour Composite Image has been successfully built. We will save the image to the 1986Data folder so that it can be trimmed and then used for the glacier mask later in the session.\n",
    "\n",
    "We update image profile for the False Colour Composite image using the NIR band as the source, this ensures that the created TIF keeps the same metadata structure as it will be used in the following steps to create a trim and Glacier mask.\n",
    "\n",
    "The metadata in the profile includes:\n",
    "- Pixel Height and Width\n",
    "- Coordinate System\n",
    "- Transformation\n",
    "- Driver/File Format\n",
    "\n",
    "We then update the Metadata of the new image to include:\n",
    "- The number of bands (as the NIR is a single band)\n",
    "- dtype (ensures that the image is saved as a TIF)"
   ]
  },
  {
   "cell_type": "code",
   "execution_count": null,
   "id": "808f266b-f260-455e-b6db-550bf3bf3e7e",
   "metadata": {},
   "outputs": [],
   "source": [
    "# Now that the False Colour Composite Image has been created, we will need to save the image  \n",
    "\n",
    "# First we will open one of the bands to get its profile and use it as a source\n",
    "with rasterio.open('KenaiMountains/1986Data/LT05_L1TP_069018_19860912_20200917_02_T1_B4.TIF') as KM1986_source:\n",
    "    KM1986_ImgProfile = KM1986_source.profile\n",
    "\n",
    "# We then update the profile for all of the bands in the False Colour Composite using the source\n",
    "KM1986_ImgProfile.update(\n",
    "    count=3,  # The count is set to 3 as we are using 3 bands (NIR, Red and Green)\n",
    ")\n",
    "\n",
    "# Finally we save the False Colour Composite to the Kenai Mountains folder\n",
    "with rasterio.open('KenaiMountains/1986Data/KM1986_FullFCC.TIF', 'w', **KM1986_ImgProfile) as KM1986_FCCdownload:\n",
    "# We then use the .write function to save the False Colour image to the Kenai Mountains 1986 folder\n",
    "# We use .transpose to chnage the shape of the array to match the format expected by rasterio when writing/saving the image to the folder (Bands, Rows and Columns respectively) \n",
    "    KM1986_FCCdownload.write(KM1986_FFCstack.transpose(2, 0, 1))  \n",
    "print(\"Image has been saved as KM1986_FullFCC.TIF\")"
   ]
  },
  {
   "cell_type": "markdown",
   "id": "a5d26e00-e07c-46c0-9178-7158ff022526",
   "metadata": {},
   "source": [
    "Now that the Full False Colour Composite Image for the 1986 Landsat scene ahs been successfully created. We need to trim the image so that the only area included in the Glacier Mask is the Kenai Mountains.\n",
    "\n",
    "This is useful as it prevent Glacier Ice and Snow from adjacent mountains influencing the total Glacier area for the 1986 period.\n",
    "\n",
    "To do this we need to adjust the bounds (extent) of the Full False Colour Composite Image to only include the Kenai Mountains.\n",
    "\n",
    "To include more area (zoom out) on the image:\n",
    "- Decrease 'left'\n",
    "- Increase 'right'\n",
    "- Decrease 'bottom'\n",
    "- Increase 'top'\n",
    "\n",
    "To include less area (Zoom in):\n",
    "- Increase 'left'\n",
    "- Decrease 'Right'\n",
    "- Increase 'bottom'\n",
    "- Decrease 'top'"
   ]
  },
  {
   "cell_type": "code",
   "execution_count": null,
   "id": "8df55b18-0c9d-4169-ba01-d3e0e749088d",
   "metadata": {},
   "outputs": [],
   "source": [
    "# Use Rasterio to get the Bounds of the full False Colour Composite Image\n",
    "with rasterio.open('KenaiMountains/1986Data/KM1986_FullFCC.TIF') as KM1986FCCsrc:\n",
    "    print(KM1986FCCsrc.bounds)"
   ]
  },
  {
   "cell_type": "code",
   "execution_count": null,
   "id": "0b0ef6a4-f7a2-41ac-92a5-21d80ed2dd9b",
   "metadata": {},
   "outputs": [],
   "source": [
    "# Define a new Bounding Box by changing the values from .bound above\n",
    "BoundingBox = {\"left\": 601185.0,\"bottom\": 6551985.0, # Values can be adjusted\n",
    "               \"right\": 734815.0,\"top\": 6700615.0} # Values can be adjusted\n",
    "\n",
    "# Open the Full False Colour Composite Image\n",
    "with rasterio.open('KenaiMountains/1986Data/KM1986_FullFCC.TIF') as KM1986Cropsrc:\n",
    "    # Use the new BoundingBox to create a trim window\n",
    "    KM1986Trim = from_bounds(BoundingBox[\"left\"], BoundingBox[\"bottom\"], BoundingBox[\"right\"], BoundingBox[\"top\"], transform=KM1986Cropsrc.transform) # transform helps convert the pixel value in the Bounding box to real coordinate on the image\n",
    "    \n",
    "    # Read the data within the trim window\n",
    "    KM1986Trim_Data = KM1986Cropsrc.read(window=KM1986Trim)\n",
    "    # Update the metadata and profile of the trimmed area\n",
    "    KM1986Trim_Transform = KM1986Cropsrc.window_transform(KM1986Trim)\n",
    "    KM1986Trim_profile = KM1986Cropsrc.profile.copy()\n",
    "    # Update the Trimmed TIF metadata to include the correct Pixel Height and Width which will update the Pixel Count\n",
    "    KM1986Trim_profile.update({\n",
    "        \"height\": KM1986Trim_Data.shape[1], # Update the Pixel Height\n",
    "        \"width\": KM1986Trim_Data.shape[2], # Update the Pixel Width\n",
    "        \"transform\": KM1986Trim_Transform # Update the Pixel Values to include Pixels within the Trim Window\n",
    "    })\n",
    "\n",
    "# Save the trimmed TIF to a new file \n",
    "with rasterio.open('KenaiMountains/1986Data/KM1986_FCC_Trim.TIF', \"w\", **KM1986Trim_profile) as dst:\n",
    "    dst.write(KM1986Trim_Data)\n",
    "\n",
    "# Display the trim to see if the study area is covered and if the trim has been successful\n",
    "# This can serve as a visual checker if the Bounding box needs to be adjusted\n",
    "plt.imshow(KM1986Trim_Data.transpose((1, 2, 0))) # .transpose reorders the image to height (1), width(2), bands(0) the expected format for matplotlib\n",
    "plt.title(\"Trimmed 1986 False Colour Composite Image\")\n",
    "plt.show()"
   ]
  },
  {
   "cell_type": "markdown",
   "id": "2164fdba-77ed-4051-a6ad-93a3d3981c5a",
   "metadata": {},
   "source": [
    "By now you should notice that the 1986Data folder is full and contains lots of files that are no longer required in the analysis. \n",
    "\n",
    "The next cell is a loop that will remove all of the Landsat Band files as they are no longer required in the study. If there are any issues and a step has been skipped they can be redownlaoded using the download_request cell above.\n",
    "\n",
    "The file delete will be particularly useful when we use the Landsat 8 images as they are larger. Github has a commit limit of 100mb for a single file, deleting the unnecessary image files will make commiting on GitHub easier and makes the directory folder on the notebook look a lot tidier."
   ]
  },
  {
   "cell_type": "code",
   "execution_count": null,
   "id": "6726d727-6564-4ea7-a491-e6870dcb262e",
   "metadata": {},
   "outputs": [],
   "source": [
    "# Create a loop through all files in the 1986Data folder\n",
    "for KM1986_filenames in os.listdir('KenaiMountains/1986Data'): \n",
    "    KM1986_FilePath = os.path.join('KenaiMountains/1986Data', KM1986_filenames) # The variable will loop through all of the filenames in 1986Data folder\n",
    "\n",
    "    # Identify all Files that are not the Trimmed False Colour Composite Image\n",
    "    if os.path.isfile(KM1986_FilePath) and KM1986_filenames != 'KM1986_FCC_Trim.TIF':\n",
    "        # Remove/Delete these files from the 1986Data directory\n",
    "        os.remove(KM1986_FilePath)\n",
    "print(\"Deleted the files that are no longer required (Click Refresh on folder)\")"
   ]
  },
  {
   "cell_type": "markdown",
   "id": "26e7dfc4-16d9-4d92-b009-7ca47b4d32ff",
   "metadata": {},
   "source": [
    "Now that the directory is tidy and we have the Trimmed False Colour Composite image of the Kenai Mountains in 1986. We will create a glacier mask that will highlight all objects on the image with a Reflectance value of 0.3 in all 3 bands (the estimated reflectance value of glacier ice and snow).\n",
    "\n",
    "To do this we normalise the Landsat Bands which are datasets with Digital Values of 0-255 (as they are an 8-bit image) to 0-1 (0 = not Glacier ice and snow, 1 = Glacier ice and snow).\n",
    "We then define this by identifying all pixels in the image that meet the correct reflectance value.\n",
    "\n",
    "After Glacier ice and snow has been identified we will save the glacier mask to a new file, updating the profile metadata from the False Colour Composite Trim to reflect that the new image only has 1 band."
   ]
  },
  {
   "cell_type": "code",
   "execution_count": null,
   "id": "dde1ee64-cdae-4aae-9f58-3635bde02cd9",
   "metadata": {
    "scrolled": true
   },
   "outputs": [],
   "source": [
    "# Open the Trim TIF\n",
    "with rasterio.open('KenaiMountains/1986Data/KM1986_FCC_Trim.TIF') as KM1986FCCsrc:\n",
    "    # Read and load the bands from the False colour composite image\n",
    "    KM1986_Normalised = KM1986FCCsrc.read()\n",
    "    # Store the essential metadata from the Trim image\n",
    "    KM1986_profile = KM1986FCCsrc.profile\n",
    "\n",
    "# The Landsat bands are Digitial Numbers so we then will normalize bands from 0-255 (as they are an 8-bit image) to 0-1\n",
    "KM1986_Normalised = KM1986_Normalised.astype(np.float32) # Convert the image to a 32-bit floating point to avoid data truncation\n",
    "KM1986_Normalised /= KM1986_Normalised.max() # Normalise pixel values between 0-1 \n",
    "\n",
    "# Define the glacier mask to highlight all features in the image that have the set reflectance values in each respective band\n",
    "KM1986_Glacier = (KM1986_Normalised[0] > 0.3) & (KM1986_Normalised[1] > 0.3) & (KM1986_Normalised[2] > 0.3)\n",
    "\n",
    "# Redefine the glacier mask so it can be saved as new tif\n",
    "KM1986_Glacier = KM1986_Glacier.astype(np.uint8)\n",
    "\n",
    "# Update the glacier mask profile so that it only contains 1 band\n",
    "KM1986_NewProfile = KM1986Trim_profile.copy()\n",
    "KM1986_NewProfile.update(dtype='uint8', count=1)\n",
    "\n",
    "# Save the glacier mask to the 1986Data file\n",
    "with rasterio.open('KenaiMountains/1986Data/KM1986_GlacierMask.TIF', 'w', **KM1986_NewProfile) as dst:\n",
    "    dst.write(KM1986_Glacier, 1) \n",
    "\n",
    "# Display the glacier mask\n",
    "plt.figure(figsize=(8, 8))\n",
    "plt.imshow(KM1986_Glacier, cmap='gray') # Display the glacier mask as a greyscale map\n",
    "plt.title('Kenai Mountains 1986 - Supervised classification of Glacier snow and ice')\n",
    "plt.show()"
   ]
  },
  {
   "cell_type": "code",
   "execution_count": null,
   "id": "f6f73877-f4ee-478f-adcd-8780742be879",
   "metadata": {},
   "outputs": [],
   "source": [
    "# Open the cropped Glacier mask produced in the above step\n",
    "with rasterio.open('KenaiMountains/1986Data/KM1986_GlacierMask.TIF') as KM1986GlacAreasrc:\n",
    "    KM1986_GlacierMask = KM1986GlacAreasrc.read(1)  # Read first band\n",
    "    transform = KM1986GlacAreasrc.transform\n",
    "    GlacPixelWidth = transform[0]     # pixel width\n",
    "    GlacPixelHeight = -transform[4]    # pixel height (The value is negative so we add an \"-\" to make it positive)\n",
    "\n",
    "# Calculate the Area per Pixel for the image\n",
    "KM1986_AreaPP = GlacPixelWidth * GlacPixelHeight  # For Landsat TM it will be 30m x 30m \n",
    "\n",
    "# Calculate how many pixels in the image have been identified as snow as per the Glacier mask above\n",
    "KM1986_GlacPixel = np.sum(KM1986_GlacierMask == 1)\n",
    "\n",
    "# Calculate the estimated area coverage of Glacier Ice and snow\n",
    "TotalGlacArea1986 = (KM1986_GlacPixel * KM1986_AreaPP) / 1e6  # convert to square kilometers\n",
    "\n",
    "# Print the results\n",
    "print(f\"Estimated 1986 Glacier Area = {TotalGlacArea1986:.2f} km²\")"
   ]
  },
  {
   "cell_type": "markdown",
   "id": "a9faea1b-056c-4fde-8d8d-dba4287dce7b",
   "metadata": {},
   "source": [
    "## Downloading and analysing the 1995 Landsat Scene ##"
   ]
  },
  {
   "cell_type": "markdown",
   "id": "84753d2f-5635-42e7-8deb-685455d6e2c4",
   "metadata": {},
   "source": [
    "Now that we have successfully got the estimated glacier area for 1986 we repeat the same process for the 1995 and 2009 dataset. "
   ]
  },
  {
   "cell_type": "code",
   "execution_count": null,
   "id": "6a3ec99d-13d6-4578-8f6c-f93abd159ed0",
   "metadata": {},
   "outputs": [],
   "source": [
    "# Use the scene_search function to get the product id of the 1995 Landsat scene\n",
    "results_1995 = api.scene_search(\n",
    "    # Landsat dataset used for 1995 image\n",
    "    dataset = \"landsat_tm_c2_l1\", \n",
    "     # The latitude of the image (Can be changed for different locations)\n",
    "    lat = 60.12735,\n",
    "    # The longtitude of the image (Can be changed for different locations)\n",
    "    lng = -151.22005, \n",
    "    # The start date of the search range (Can be changed for different locations)\n",
    "    start_date = \"1995-08-19\", \n",
    "    # The end date of the search range (Can be changed for different locations)\n",
    "    end_date = \"1995-08-21\", \n",
    "    # The Users Api key\n",
    "    api_key=api_key \n",
    ")\n",
    "# Loop through each 'scene' that appears in the results and will print out the 'entity_id' which will be used in the dataset download.\n",
    "for scene in results_1995['data']['results']:\n",
    "    print(\"The Entity ID of the 1995 Landsat scene is\",(scene['entityId'])) "
   ]
  },
  {
   "cell_type": "markdown",
   "id": "972328c6-73a1-40ec-a75f-d4abe9065ea6",
   "metadata": {},
   "source": [
    "Next we will use the entity_id from the scene search. As we are using the same product_id to get the Landat Collection 2 Level 1 zip file we don't need to use the dataset options function. \n",
    "\n",
    "Similiarly to the 1986 dataset we ar going to create a 1995 folder to download the Landsat band tar file to, and then create a false colour composite image of the 1995 landsat scene."
   ]
  },
  {
   "cell_type": "code",
   "execution_count": null,
   "id": "fbf8b801-0b4d-4050-bfab-a5b24fe11c37",
   "metadata": {},
   "outputs": [],
   "source": [
    "# Use the OS module to create a folder for the Kenai Mountains 1995 images\n",
    "os.makedirs(\"KenaiMountains/1995Data\", exist_ok=True) \n",
    "\n",
    "# Return the available download URL for the Landsat 1995 scene\n",
    "KM_1995 = api.download_request( \n",
    "    dataset=\"landsat_tm_c2_l1\", # Landsat dataset\n",
    "    entity_id=\"LT50690181995232XXX01\", # Landsat scene ID\n",
    "    product_id=\"5e83d0a0f94d7d8d\", # Product ID (Landsat Band file), this will be the same the 1986 dataset as it also using Landsat TM\n",
    ")\n",
    "\n",
    " # Download the Landsat band files using the first URL from the EE node\n",
    "if 'data' in KM_1995 and 'availableDownloads' in KM_1995['data']:\n",
    "    KM_1995Avail = KM_1995['data']['availableDownloads'] # Identify available downloaded URLs\n",
    "    if KM_1995Avail:\n",
    "        KM1995downloadurl = KM_1995Avail[0]['url']  # Access the first download URL returned from download_request\n",
    "        KM_1995File = os.path.join(\"KenaiMountains/1995Data\", f\"LT50690181995232XXX01.tar\")  # Set the file download path to the 1995Data folder\n",
    "        \n",
    "        KM1995url = requests.get(KM1995downloadurl, stream=True) # Use requests module to get URL stored in the 'KM1986downloadurl' variable\n",
    "        \n",
    "        with open(KM_1995File, \"wb\") as f: # Create the file and write it in binary mode to issues downloading images\n",
    "            for chunk in KM1995url.iter_content(chunk_size=8192): # Download in 8kb chunks to prvent errors downloading Landsat Band images\n",
    "                if chunk:\n",
    "                    f.write(chunk)\n",
    "\n",
    "# Print text when the images are successfully downloaded\n",
    "print(\"1995 Kenai Mountain images have been downloaded successfully\")"
   ]
  },
  {
   "cell_type": "code",
   "execution_count": null,
   "id": "02090d2d-a5a5-4e2e-9a4b-e546e5f597c9",
   "metadata": {},
   "outputs": [],
   "source": [
    "# We extract the Landsat images from the .tar file that we downloaded from the USGS EE node\n",
    "with tarfile.open('KenaiMountains/1995Data/LT50690181995232XXX01.tar', 'r') as KM1995Tar: # Reads the downloaded tar file\n",
    "    KM1995Tar.extractall(\"KenaiMountains/1995Data\")\n",
    "\n",
    "# Display text whenever extract.all has been successful\n",
    "print(\"Images have been successfully extracted\")"
   ]
  },
  {
   "cell_type": "markdown",
   "id": "53d54d3a-08e1-41ed-bc1e-43a05af3551a",
   "metadata": {},
   "source": [
    "Now that the images for the 1995 Landsat scene have been downloaded and extrcated we will build a false colour composite image of the Landsat scene.\n",
    "\n",
    "We use Rasterio to open, read and stack the images to create the 3D array just like the 1986 Landsat scene. \n",
    "We use matplotlib to present the created False Colour Composite image to ensure that the correct bands have been used and that the stack has been successful."
   ]
  },
  {
   "cell_type": "code",
   "execution_count": null,
   "id": "806ddc1f-dd24-4ffe-a307-9e3233f26fd9",
   "metadata": {},
   "outputs": [],
   "source": [
    "# Use rasterio to open and read the Band TIF files \n",
    "with rasterio.open(\"KenaiMountains/1995Data/LT05_L1TP_069018_19950820_20200912_02_T1_B4.TIF\") as KM1995_B4IMG:\n",
    "    KM95B4 = KM1995_B4IMG.read(1) # Band 4 (NIR)\n",
    "with rasterio.open(\"KenaiMountains/1995Data/LT05_L1TP_069018_19950820_20200912_02_T1_B3.TIF\") as KM1995_B3IMG:\n",
    "    KM95B3 = KM1995_B3IMG.read(1) # Band 3 (Red)\n",
    "with rasterio.open(\"KenaiMountains/1995Data/LT05_L1TP_069018_19950820_20200912_02_T1_B2.TIF\") as KM1995_B2IMG:\n",
    "    KM95B2 = KM1995_B2IMG.read(1) # Band 2 (Green)\n",
    "\n",
    "# Stack the bands using NumPy module to create a single 3D Array (False Colour Composite image)\n",
    "KM1995_FCCstack = np.dstack((KM95B4, KM95B3, KM95B2))\n",
    "\n",
    "# Print the array to show the False Colour Composite image of the 1995 Landsat scene\n",
    "plt.figure(figsize=(8, 8))\n",
    "plt.imshow(KM1995_FCCstack)\n",
    "plt.title(\"Kenai Mountains 1995 False Colour Composite Image\")\n",
    "plt.show()"
   ]
  },
  {
   "cell_type": "markdown",
   "id": "68be3833-533b-4add-b4be-e865c17092c7",
   "metadata": {},
   "source": [
    "After the False Colour Composite image has been saved we need to save the image to the 1995Data folder so that it can trimmed and then used for the glacier mask."
   ]
  },
  {
   "cell_type": "markdown",
   "id": "0e21c48a-7be0-43b0-ac3b-1570550c6854",
   "metadata": {},
   "source": [
    "Similiarly to what we did for the 1986 Landsat scene, we update the image profile for the 1995 False Colour Composite image using the NIR band (4) as the source, this ensures that the new TIF keeps the same metadata structure as it will be used in the following steps to create a trim and Glacier mask."
   ]
  },
  {
   "cell_type": "code",
   "execution_count": null,
   "id": "b6cac7cb-bfb6-4d7e-9ac4-88f0c467ed08",
   "metadata": {},
   "outputs": [],
   "source": [
    "# Open the Band 4 TIF to use it as a source profile for the False Colour Composite image\n",
    "with rasterio.open(\"KenaiMountains/1995Data/LT05_L1TP_069018_19950820_20200912_02_T1_B4.TIF\") as KM1995_source:\n",
    "    KM1995_ImgProfile = KM1995_source.profile\n",
    "\n",
    "# Update the profile for all of the bands in the False Colour Composite\n",
    "KM1995_ImgProfile.update(\n",
    "    count=3,  # The count is set to 3 as we are using 3 bands (NIR, Red and Green)\n",
    "    dtype=KM1995_FCCstack.dtype  # Make the saved data type to be the same as the previously created False Colour Composite image\n",
    ")\n",
    "\n",
    "# Save the False Colour Composite image to the 1995Data folder\n",
    "with rasterio.open('KenaiMountains/1995Data/KM1995_FullFCC.TIF', 'w', **KM1995_ImgProfile) as KM1995_FCCdownload:\n",
    "# We then use the .write function to save the False Colour image to the Kenai Mountains 1986 folder\n",
    "# We use .transpose to chnage the shape of the array to match the format expected by rasterio when writing/saving the image to the folder (Bands, Rows and Columns respectively) \n",
    "    KM1995_FCCdownload.write(KM1995_falsecolourstack.transpose(2, 0, 1))  \n",
    "print(\"Image has been saved as KM1995_FullFCC.TIF in KenaiMountains1995\")"
   ]
  },
  {
   "cell_type": "markdown",
   "id": "db7d6361-9a55-4c37-8ef8-71496818201a",
   "metadata": {},
   "source": [
    "We need to trim the 1995 false colour composite image so that the only area included in the Glacier Mask is the Kenai Mountains.\n",
    "We need to adjust the bounds (extent) of the 1995 Full False Colour Composite Image to only include the Kenai Mountains.\n",
    "The bounds for the 1995 image will be different as we are using a differnt image"
   ]
  },
  {
   "cell_type": "code",
   "execution_count": null,
   "id": "ba49d96a-5d99-4c84-89a5-df909a87d7c2",
   "metadata": {},
   "outputs": [],
   "source": [
    "# Use Rasterio to open and print the Bounds of the False Colour Composite image\n",
    "with rasterio.open('KenaiMountains1995/KM1995_FullFCC.TIF') as KM1995FCCsrc:\n",
    "    print(KM1995FCCsrc.bounds)"
   ]
  },
  {
   "cell_type": "code",
   "execution_count": null,
   "id": "2ac63847-1b8f-47f5-8d0a-f9de507ff8b7",
   "metadata": {},
   "outputs": [],
   "source": [
    "# In order to crop the TIF we are going ot define a new bounding box to highlight only the Kenai Mountains in the Image\n",
    "BoundingBox = {\"left\": 601185.0,\"bottom\": 6551985.0,\"right\": 734815.0,\"top\": 6700615.0}\n",
    "\n",
    "# Open source raster for the crop\n",
    "with rasterio.open('KenaiMountains/1995Data/KM1995_FullFCC.TIF') as KM1995Cropsrc:\n",
    "    # We then define a crop window using the bounding box above\n",
    "    KM1995Trim = from_bounds(BoundingBox[\"left\"], BoundingBox[\"bottom\"], BoundingBox[\"right\"], BoundingBox[\"top\"], transform=KM1986Cropsrc.transform)\n",
    "    \n",
    "    # Read data within the created boudning box window\n",
    "    KM1995Trim_Data = KM1995Cropsrc.read(window=KM1995Trim)\n",
    "    \n",
    "    # Update the profile of the new trimmed image so that it can be saved and used in the data analysis\n",
    "    KM1995Trim_Transform = KM1995Cropsrc.window_transform(KM1995Trim)\n",
    "    KM1995Trim_profile = KM1995Cropsrc.profile.copy()\n",
    "    KM1995Trim_profile.update({\n",
    "        \"height\": KM1995Trim_Data.shape[1],\n",
    "        \"width\": KM1995Trim_Data.shape[2],\n",
    "        \"transform\": KM1995Trim_Transform\n",
    "    })\n",
    "\n",
    "# Save the cropped image and metadata to a new TIF\n",
    "with rasterio.open('KenaiMountains/1995Data/KM1995_FCC_Trim.TIF', \"w\", **KM1995Trim_profile) as dst:\n",
    "    dst.write(KM1995Trim_Data)\n",
    "\n",
    "# Display the trim so that we can be satisfied that the study area is covered\n",
    "plt.imshow(KM1995Trim_Data.transpose((1, 2, 0)))\n",
    "plt.title(\"Cropped 1995 Kenai Mountains False Colour Composite Image\")\n",
    "plt.show()"
   ]
  },
  {
   "cell_type": "code",
   "execution_count": null,
   "id": "df6b9be5-a257-424c-8b53-582ef6e05a59",
   "metadata": {},
   "outputs": [],
   "source": [
    "# The KenaiMountains1986 folder is rather full and messy so we will delete all the unneccessary files that we no longer need\n",
    "# The only file we need from here on is the exported False Colour Composite so the rest can be deleted to make the GitHub commits easier\n",
    "# This will be useful when it comes to using more modern Landsat datasets as the files will be over 100mb which causes issues in the GitHub commit\n",
    "\n",
    "for KM1995_filenames in os.listdir('KenaiMountains/1995Data/'): \n",
    "    KM1995_FilePath = os.path.join('KenaiMountains/1995Data/', KM1995_filenames) # We create a variable that loops through all of the filenames in the KenaiMountains1986 folder\n",
    "    \n",
    "    if os.path.isfile(KM1995_FilePath) and KM1995_filenames != 'KM1995_FCC_Trim.TIF':\n",
    "        os.remove(KM1995_FilePath)\n",
    "print(\"Deleted the files that are no longer required (Click Refresh on folder)\")"
   ]
  },
  {
   "cell_type": "code",
   "execution_count": null,
   "id": "56f4986d-a4ae-4938-b2cd-8db53ca26f13",
   "metadata": {},
   "outputs": [],
   "source": [
    "#First we will open the TIF\n",
    "with rasterio.open('KenaiMountains/1995Data/KM1995_FCC_Trim.TIF') as KM1995FCCsrc:\n",
    "    KM1995_Normalised = KM1995FCCsrc.read()\n",
    "    KM1995_profile = KM1995FCCsrc.profile\n",
    "\n",
    "# The Landsat bands are Digitial Numbers so we then will normalize bands from 0-255 (as they are an 8-bit image) to 0-1\n",
    "KM1995_Normalised = KM1995_Normalised.astype(np.float32)\n",
    "KM1995_Normalised /= KM1995_Normalised.max()\n",
    "\n",
    "\n",
    "KM1995_Glacier = (KM1995_Normalised[0] > 0.3) & (KM1995_Normalised[1] > 0.3) & (KM1995_Normalised[2] > 0.3)\n",
    "\n",
    "# We the redefine the new cropped pxiel based classification before we calculate the area\n",
    "# This will save the mask produced by the above code to a new TIF which we will use to calculate the area of Glacier snow and ice\n",
    "KM1995_Glacier = KM1995_Glacier.astype(np.uint8)\n",
    "\n",
    "KM1995_NewProfile = KM1995_profile.copy()\n",
    "KM1995_NewProfile.update(dtype='uint8', count=1)\n",
    "\n",
    "with rasterio.open('KenaiMountains/1995Data/KM1995_GlacierMask.TIF', 'w', **KM1995_NewProfile) as dst:\n",
    "    dst.write(KM1995_Glacier, 1)\n",
    "\n",
    "plt.figure(figsize=(8, 8))\n",
    "plt.imshow(KM1995_Glacier, cmap='gray')\n",
    "plt.title('Kenai Mountains 1995 - Pixel Based of Glacier snow and ice')\n",
    "plt.show()"
   ]
  },
  {
   "cell_type": "code",
   "execution_count": null,
   "id": "7b13335d-73b1-4918-ba48-d576de14a10a",
   "metadata": {},
   "outputs": [],
   "source": [
    "# Open the cropped Glacier mask produced in the above step\n",
    "with rasterio.open('KenaiMountains/1995Data/KM1995_GlacierMask.TIF') as KM1995GlacAreasrc:\n",
    "    KM1995_GlacierMask = KM1995GlacAreasrc.read(1)  # Read first band of the Glacier Mask\n",
    "    KM1995_Transfrom = KM1995GlacAreasrc.transform\n",
    "    GlacPixelWidth = KM1995_Transfrom[0]     # pixel width\n",
    "    GlacPixelHeight = -KM1995_Transfrom[4]    # pixel height (The value is negative so we add an \"-\" to make it positive)\n",
    "\n",
    "# Calculate the Area per Pixel for the image\n",
    "KM1995_AreaPP = GlacPixelWidth * GlacPixelHeight  # For Landsat TM it will be 30m x 30m \n",
    "\n",
    "# Calculate how many pixels in the image have been identified as snow as per the Glacier mask above\n",
    "KM1995_GlacPixel = np.sum(KM1995_GlacierMask == 1)\n",
    "\n",
    "# Calculate the estimated area coverage of Glacier Ice and snow\n",
    "TotalGlacArea1995 = (KM1995_GlacPixel * KM1995_AreaPP) / 1e6  # convert to square kilometers\n",
    "\n",
    "print(f\"Estimated 1995 Glacier Area: {TotalGlacArea1995:.2f} km²\")"
   ]
  },
  {
   "cell_type": "markdown",
   "id": "6cd8b1b6-f93b-4b30-9807-5574d4b019e7",
   "metadata": {},
   "source": [
    "## Downloading and analysing the 2009 Landsat Scene ##"
   ]
  },
  {
   "cell_type": "code",
   "execution_count": null,
   "id": "9994cd78-347f-400c-8548-e307045d11fd",
   "metadata": {},
   "outputs": [],
   "source": [
    "# In this cell we will use the search function to get the product id of the imager used in the study\n",
    "results_2009 = api.scene_search(\n",
    "    dataset = \"landsat_tm_c2_l1\", #Landsat dataset used for 1986 image\n",
    "    lat = 60.09405, # The latitude of the image\n",
    "    lng = -150.98167, # The longtitude of the image\n",
    "    start_date = \"2009-07-08\", # The start date of the search range\n",
    "    end_date = \"2009-07-09\", # The end date of the search range\n",
    "    api_key=api_key # The Users Api key\n",
    ")\n",
    "#The next lines of script will loop through each 'scene' that appears in the results and will print out the 'entity ID' which will be used in the dataset downlaod.\n",
    "for scene in results_2009['data']['results']:\n",
    "    print(\"The Entity ID of the Landsat scene is\",(scene['entityId'])) "
   ]
  },
  {
   "cell_type": "code",
   "execution_count": null,
   "id": "a7f17bb1-c881-4c4d-bbad-5069e71dc4e6",
   "metadata": {},
   "outputs": [],
   "source": [
    "# The below code will download the Landsat Satellite images which we identified in the Scene Search above\n",
    "# We will use the OS module to create a new folder for the Landsat images to be downloaded into\n",
    "# The download url returned in the download_request will be used via the requests module\n",
    "# The images will downloaded as a tar file as this file type is supported by the api\n",
    "\n",
    "os.makedirs(\"KenaiMountains2009\", exist_ok=True) # This will create a new folder for the Kenai Mountains 1986 images\n",
    "\n",
    "KM_2009 = api.download_request( # This functions will return the available download urls for the Landsat scene\n",
    "    dataset=\"landsat_tm_c2_l1\", # Landsat dataset\n",
    "    entity_id=\"LT50690182009190GLC00\", # Landsat scene ID\n",
    "    product_id=\"5e83d0a0f94d7d8d\", # Product ID (Landsat Band file), this will be the same the 1986 dataset as it also using Landsat TM\n",
    ")\n",
    "\n",
    " # The below code will download the Landsat data using the url provided by the download_request function from the EE node\n",
    "if 'data' in KM_2009 and 'availableDownloads' in KM_2009['data']:\n",
    "    KM_2009Avail = KM_2009['data']['availableDownloads'] # Identifies if the above Landsat is available to be downloaded\n",
    "    if KM_2009Avail:\n",
    "        KM2009downloadurl = KM_2009Avail[0]['url'] # We access the first download url retrieved from download_request\n",
    "        KM_2009File = os.path.join(\"KenaiMountains2009\", f\"LT50690182009190GLC00.tar\") # We set a file pathway for the download into the new Kenai Mountains 1986 folder created above\n",
    "        KM2009url = requests.get(KM2009downloadurl, stream=True) # We use the requests module to request the url stored in the 'KM1986downloadurl' variable\n",
    "        \n",
    "        with open(KM_2009File, \"wb\") as f: # We are telling the code to overwrite or create the file and write it in binary mode to avoid corruption as we are downloading images\n",
    "            for chunk in KM2009url.iter_content(chunk_size=8192): # To avoid causing issues downloading larger sets of data we download the folder in 8 KB Chunks\n",
    "                if chunk:\n",
    "                    f.write(chunk)\n",
    "\n",
    "# The download may take some time but you will see the download progress in the newly creaated 'KenaiMountains1986' folder (click refresh on the folder)\n",
    "print(\"2009 Kenai Mountain images downloaded!\") # The text will display whenever the download has been completed"
   ]
  },
  {
   "cell_type": "code",
   "execution_count": null,
   "id": "fbc9c3eb-6e72-4008-9b87-04c6ad9acb92",
   "metadata": {},
   "outputs": [],
   "source": [
    "# We will extract the Landsat images from the scene we have just downloaded into the same folder\n",
    "with tarfile.open(\"KenaiMountains2009/LT50690182009190GLC00.tar\", 'r') as KM2009Tar:\n",
    "    KM2009Tar.extractall(\"KenaiMountains2009\")\n",
    "\n",
    "print(\"Images have been successfully extracted\")"
   ]
  },
  {
   "cell_type": "code",
   "execution_count": null,
   "id": "46dd28a0-343a-4dcc-a567-cb140b76c48f",
   "metadata": {},
   "outputs": [],
   "source": [
    "# In this cell we will build the False Colour Composite image of the 1986 Landsat scene\n",
    "# The bands we are going to need are B4, B3 and B2 (NIR, Red and Green respectively)\n",
    "# After we build the Landsat scene we are going to save the new image to the 'KenaiMountains1986' folder\n",
    "\n",
    "#First we are going to use the rasterio module to open the paths to the Band TIF files in the folder they are saved to\n",
    "with rasterio.open(\"KenaiMountains2009/LT05_L1TP_069018_20090709_20200827_02_T1_B4.TIF\") as KM2009_B4IMG:\n",
    "    KM09B4 = KM2009_B4IMG.read(1)\n",
    "with rasterio.open(\"KenaiMountains2009/LT05_L1TP_069018_20090709_20200827_02_T1_B3.TIF\") as KM2009_B3IMG:\n",
    "    KM09B3 = KM2009_B3IMG.read(1)\n",
    "with rasterio.open(\"KenaiMountains2009/LT05_L1TP_069018_20090709_20200827_02_T1_B2.TIF\") as KM2009_B2IMG:\n",
    "    KM09B2 = KM2009_B2IMG.read(1)\n",
    "\n",
    "# We will stack the newly defined bands using the NumPy module to create a single 3D Array\n",
    "KM2009_falsecolourstack = np.dstack((KM09B4, KM09B3, KM09B2))\n",
    "\n",
    "# Then the created 3D array will be printed to show the False Colour Composite image of the selected Landsat scene for 1986\n",
    "plt.figure(figsize=(8, 8))\n",
    "plt.imshow(KM2009_falsecolourstack)\n",
    "plt.title(\"Kenai Mountains 2009 False Colour Composite Image\")\n",
    "plt.show()"
   ]
  },
  {
   "cell_type": "code",
   "execution_count": null,
   "id": "1b7fe98d-4499-4181-b527-55d86014a423",
   "metadata": {},
   "outputs": [],
   "source": [
    "# Now that the False Colour Composite Image has been created, we will need to save the image  \n",
    "\n",
    "# First we will open one of the bands to get its profile and use it as a source\n",
    "with rasterio.open(\"KenaiMountains2009/LT05_L1TP_069018_20090709_20200827_02_T1_B4.TIF\") as KM2009_source:\n",
    "    KM2009_ImgProfile = KM2009_source.profile\n",
    "\n",
    "# We then update the profile for all of the bands in the False Colour Composite using the source\n",
    "KM2009_ImgProfile.update(\n",
    "    count=3,  # The count is set to 3 as we are using 3 bands (NIR, Red and Green)\n",
    "    dtype=KM2009_falsecolourstack.dtype  # We set that data type to be the same as the created False Colour Composite\n",
    ")\n",
    "\n",
    "# Finally we save the False Colour Composite to the Kenai Mountains folder\n",
    "with rasterio.open('KenaiMountains2009/KM2009_FullFCC.TIF', 'w', **KM2009_ImgProfile) as KM2009_FCCdownload:\n",
    "# We then use the .write function to save the False Colour image to the Kenai Mountains 2009 folder\n",
    "    \n",
    "# We use .transpose to chnage the shape of the array to match the format expected by rasterio when writing/saving the image to the folder (Bands, Rows and Columns respectively) \n",
    "    KM2009_FCCdownload.write(KM2009_falsecolourstack.transpose(2, 0, 1))  \n",
    "print(\"Image has been saved as KM2009_FullFCC.TIF in KenaiMountains1995\")"
   ]
  },
  {
   "cell_type": "code",
   "execution_count": null,
   "id": "17488d7a-ff82-44ac-94ae-37f89c712c27",
   "metadata": {},
   "outputs": [],
   "source": [
    "# The KenaiMountains1986 folder is rather full and messy so we will delete all the unneccessary files that we no longer need\n",
    "# The only file we need from here on is the exported False Colour Composite so the rest can be deleted to make the GitHub commits easier\n",
    "# This will be useful when it comes to using more modern Landsat datasets as the files will be over 100mb which causes issues in the GitHub commit\n",
    "\n",
    "for KM2009_filenames in os.listdir('KenaiMountains2009'): \n",
    "    KM2009_FilePath = os.path.join('KenaiMountains2009', KM2009_filenames) # We create a variable that loops through all of the filenames in the KenaiMountains1986 folder\n",
    "    \n",
    "    if os.path.isfile(KM2009_FilePath) and KM2009_filenames != 'KM2009_FullFCC.TIF':\n",
    "        os.remove(KM2009_FilePath)\n",
    "print(\"Deleted the files that are no longer required (Click Refresh on folder)\")"
   ]
  },
  {
   "cell_type": "code",
   "execution_count": null,
   "id": "4d4505c4-30e4-4f48-9b8c-abef26756eaf",
   "metadata": {},
   "outputs": [],
   "source": [
    "with rasterio.open('KenaiMountains2009/KM2009_FullFCC.TIF') as KM2009FCCsrc:\n",
    "    print(KM2009FCCsrc.bounds)"
   ]
  },
  {
   "cell_type": "code",
   "execution_count": null,
   "id": "37219608-91d8-4c5f-b9ae-c1d540ecca31",
   "metadata": {},
   "outputs": [],
   "source": [
    "### ADJUST BOUNDING BOX DIMENSIONS ####\n",
    "\n",
    "\n",
    "# In order to crop the TIF we are going ot define a new bounding box to highlight only the Kenai Mountains in the Image\n",
    "BoundingBox = {\"left\": 601185.0,\"bottom\": 6551985.0,\"right\": 734815.0,\"top\": 6700615.0}\n",
    "\n",
    "# Open source raster for the crop\n",
    "with rasterio.open('KenaiMountains2009/KM2009_FullFCC.TIF') as KM2009Cropsrc:\n",
    "    # We then define a crop window using the bounding box above\n",
    "    KM2009Trim = from_bounds(BoundingBox[\"left\"], BoundingBox[\"bottom\"], BoundingBox[\"right\"], BoundingBox[\"top\"], transform=KM1986Cropsrc.transform)\n",
    "    \n",
    "    # Read data within the created boudning box window\n",
    "    KM2009Trim_Data = KM2009Cropsrc.read(window=KM2009Trim)\n",
    "    \n",
    "    # Update the profile of the new trimmed image so that it can be saved and used in the data analysis\n",
    "    KM2009Trim_Transform = KM2009Cropsrc.window_transform(KM2009Trim)\n",
    "    KM2009Trim_profile = KM2009Cropsrc.profile.copy()\n",
    "    KM2009Trim_profile.update({\n",
    "        \"height\": KM2009Trim_Data.shape[1],\n",
    "        \"width\": KM2009Trim_Data.shape[2],\n",
    "        \"transform\": KM2009Trim_Transform\n",
    "    })\n",
    "\n",
    "# Save the cropped image and metadata to a new TIF\n",
    "with rasterio.open('KenaiMountains2009/KM2009_FCC_Trim.TIF', \"w\", **KM2009Trim_profile) as dst:\n",
    "    dst.write(KM2009Trim_Data)\n",
    "\n",
    "# Display the trim so that we can be satisfied that the study area is covered\n",
    "plt.imshow(KM2009Trim_Data.transpose((1, 2, 0)))\n",
    "plt.title(\"Cropped 2009 Kenai Mountains Image\")\n",
    "plt.show()"
   ]
  },
  {
   "cell_type": "code",
   "execution_count": null,
   "id": "abc87ef6-6dd1-49fa-8362-58ffa60129ba",
   "metadata": {},
   "outputs": [],
   "source": [
    "#First we will open the TIF\n",
    "with rasterio.open('KenaiMountains2009/KM2009_FCC_Trim.TIF') as KM2009FCCsrc:\n",
    "    KM2009_Normalised = KM2009FCCsrc.read()\n",
    "    KM2009_profile = KM2009FCCsrc.profile\n",
    "\n",
    "# The Landsat bands are Digitial Numbers so we then will normalize bands from 0-255 (as they are an 8-bit image) to 0-1\n",
    "KM2009_Normalised = KM2009_Normalised.astype(np.float32)\n",
    "KM2009_Normalised /= KM2009_Normalised.max()\n",
    "\n",
    "\n",
    "KM2009_Glacier = (KM2009_Normalised[0] > 0.2) & (KM2009_Normalised[1] > 0.2) & (KM2009_Normalised[2] > 0.3)\n",
    "\n",
    "# We the redefine the new cropped pxiel based classification before we calculate the area\n",
    "# This will save the mask produced by the above code to a new TIF which we will use to calculate the area of Glacier snow and ice\n",
    "KM2009_Glacier = KM2009_Glacier.astype(np.uint8)\n",
    "\n",
    "KM2009_NewProfile = KM2009_profile.copy()\n",
    "KM2009_NewProfile.update(dtype='uint8', count=1)\n",
    "\n",
    "with rasterio.open('KenaiMountains2009/KM2009_GlacierMask.TIF', 'w', **KM2009_NewProfile) as dst:\n",
    "    dst.write(KM2009_Glacier, 1)\n",
    "\n",
    "plt.figure(figsize=(8, 8))\n",
    "plt.imshow(KM2009_Glacier, cmap='gray')\n",
    "plt.title('Kenai Mountains 2009 - Pixel Based of Glacier snow and ice')\n",
    "plt.show()"
   ]
  },
  {
   "cell_type": "code",
   "execution_count": null,
   "id": "f10e502e-3024-4aa4-a39a-1ad9a94653db",
   "metadata": {},
   "outputs": [],
   "source": [
    "# Open the cropped Glacier mask produced in the above step\n",
    "with rasterio.open('KenaiMountains2009/KM2009_GlacierMask.TIF') as KM2009GlacAreasrc:\n",
    "    KM2009_GlacierMask = KM2009GlacAreasrc.read(1)  # Read first band of the Glacier Mask\n",
    "    KM2009_Transfrom = KM2009GlacAreasrc.transform\n",
    "    GlacPixelWidth = KM2009_Transfrom[0]     # pixel width\n",
    "    GlacPixelHeight = -KM2009_Transfrom[4]    # pixel height (The value is negative so we add an \"-\" to make it positive)\n",
    "\n",
    "# Calculate the Area per Pixel for the image\n",
    "KM2009_AreaPP = GlacPixelWidth * GlacPixelHeight  # For Landsat TM it will be 30m x 30m \n",
    "\n",
    "# Calculate how many pixels in the image have been identified as snow as per the Glacier mask above\n",
    "KM2009_GlacPixel = np.sum(KM2009_GlacierMask == 1)\n",
    "\n",
    "# Calculate the estimated area coverage of Glacier Ice and snow\n",
    "TotalGlacArea2009 = (KM2009_GlacPixel * KM2009_AreaPP) / 1e6  # convert to square kilometers\n",
    "\n",
    "print(f\"Estimated 2009 Glacier Area: {TotalGlacArea1995:.2f} km²\")"
   ]
  },
  {
   "cell_type": "markdown",
   "id": "ea766ee5-cc94-4fdf-b8eb-e6698cdc7651",
   "metadata": {},
   "source": [
    "## Downloading and analysing the 2014 Landsat Scene ##"
   ]
  },
  {
   "cell_type": "code",
   "execution_count": null,
   "id": "a92f8f02-2eb1-441e-b8be-37d2d0821641",
   "metadata": {},
   "outputs": [],
   "source": [
    "# In this cell we will use the search function to get the product id of the imager used in the study\n",
    "results_2014 = api.scene_search(\n",
    "    dataset = \"landsat_ot_c2_l1\", #Landsat dataset used for 1986 image\n",
    "    lat = 60.09334, # The latitude of the image\n",
    "    lng = -150.97721, # The longtitude of the image\n",
    "    start_date = \"2014-09-24\", # The start date of the search range\n",
    "    end_date = \"2014-09-26\", # The end date of the search range\n",
    "    api_key=api_key # The Users Api key\n",
    ")\n",
    "#The next lines of script will loop through each 'scene' that appears in the results and will print out the 'entity ID' which will be used in the dataset downlaod.\n",
    "for scene in results_2014['data']['results']:\n",
    "    print(\"The Entity ID of the Landsat scene is\",(scene['entityId'])) "
   ]
  },
  {
   "cell_type": "markdown",
   "id": "fa354ffc-2445-4e22-a11a-80ec1045c7e0",
   "metadata": {},
   "source": [
    "The download for the Landsat 8 image will take a few minutes to download as the image folder and contains larger images. "
   ]
  },
  {
   "cell_type": "code",
   "execution_count": null,
   "id": "0008cd77-1f2a-4901-9475-de754e791ee3",
   "metadata": {},
   "outputs": [],
   "source": [
    "# The below code will download the Landsat Satellite images which we identified in the Scene Search above\n",
    "# We will use the OS module to create a new folder for the Landsat images to be downloaded into\n",
    "# The download url returned in the download_request will be used via the requests module\n",
    "# The images will downloaded as a tar file as this file type is supported by the api\n",
    "\n",
    "os.makedirs(\"KenaiMountains2014\", exist_ok=True) # This will create a new folder for the Kenai Mountains 1986 images\n",
    "\n",
    "KM_2014 = api.download_request( # This functions will return the available download urls for the Landsat scene\n",
    "    dataset=\"landsat_ot_c2_l1\", # Landsat dataset\n",
    "    entity_id=\"LC80690182014268LGN01\", # Landsat scene ID\n",
    "    product_id=\"5e81f14f92acf9ef\", # Product ID (Landsat Band file), this will be the same the 1986 dataset as it also using Landsat TM\n",
    ")\n",
    "\n",
    " # The below code will download the Landsat data using the url provided by the download_request function from the EE node\n",
    "if 'data' in KM_2014 and 'availableDownloads' in KM_2014['data']:\n",
    "    KM_2014Avail = KM_2014['data']['availableDownloads'] # Identifies if the above Landsat is available to be downloaded\n",
    "    if KM_2014Avail:\n",
    "        KM2014downloadurl = KM_2014Avail[0]['url'] # We access the first download url retrieved from download_request\n",
    "        KM_2014File = os.path.join(\"KenaiMountains2014\", f\"LC80690182014268LGN01.tar\") # We set a file pathway for the download into the new Kenai Mountains 1986 folder created above\n",
    "        KM2014url = requests.get(KM2014downloadurl, stream=True) # We use the requests module to request the url stored in the 'KM1986downloadurl' variable\n",
    "        \n",
    "        with open(KM_2014File, \"wb\") as f: # We are telling the code to overwrite or create the file and write it in binary mode to avoid corruption as we are downloading images\n",
    "            for chunk in KM2014url.iter_content(chunk_size=8192): # To avoid causing issues downloading larger sets of data we download the folder in 8 KB Chunks\n",
    "                if chunk:\n",
    "                    f.write(chunk)\n",
    "\n",
    "# The download may take some time but you will see the download progress in the newly creaated 'KenaiMountains2009' folder (click refresh on the folder)\n",
    "print(\"2014 Kenai Mountain images downloaded!\") "
   ]
  },
  {
   "cell_type": "code",
   "execution_count": null,
   "id": "a7c81cc9-f65d-4e04-ad8d-0dfbeec0e547",
   "metadata": {},
   "outputs": [],
   "source": [
    "# We will extract the Landsat images from the scene we have just downloaded into the same folder\n",
    "with tarfile.open('KenaiMountains2014/LC80690182014268LGN01.tar', 'r') as KM2014Tar:\n",
    "    KM2014Tar.extractall('KenaiMountains2014')\n",
    "\n",
    "print(\"Images have been successfully extracted\")"
   ]
  },
  {
   "cell_type": "code",
   "execution_count": null,
   "id": "56751be3-86e3-48fc-b86e-73e3f281dace",
   "metadata": {},
   "outputs": [],
   "source": [
    "# In this cell we will build the False Colour Composite image of the 1986 Landsat scene\n",
    "# The bands we are going to need are B4, B3 and B2 (NIR, Red and Green respectively)\n",
    "# After we build the Landsat scene we are going to save the new image to the 'KenaiMountains1986' folder\n",
    "\n",
    "#First we are going to use the rasterio module to open the paths to the Band TIF files in the folder they are saved to\n",
    "with rasterio.open('KenaiMountains2014/LC08_L1TP_069018_20140925_20200910_02_T1_B5.TIF') as KM2014_B5IMG:\n",
    "    KM14B5 = KM2014_B5IMG.read(1)\n",
    "with rasterio.open('KenaiMountains2014/LC08_L1TP_069018_20140925_20200910_02_T1_B4.TIF') as KM2014_B4IMG:\n",
    "    KM14B4 = KM2014_B4IMG.read(1)\n",
    "with rasterio.open('KenaiMountains2014/LC08_L1TP_069018_20140925_20200910_02_T1_B3.TIF') as KM2014_B3IMG:\n",
    "    KM14B3 = KM2014_B3IMG.read(1)\n",
    "\n",
    "# We will stack the newly defined bands using the NumPy module to create a single 3D Array\n",
    "KM2014_falsecolourstack = np.dstack((KM14B5, KM14B4, KM14B3))\n",
    "\n",
    "KM2014_Normalised = KM2014_falsecolourstack.astype(np.float32)\n",
    "KM2014_Normalised /= KM2014_Normalised.max()\n",
    "\n",
    "# Then the created 3D array will be printed to show the False Colour Composite image of the selected Landsat scene for 1986\n",
    "plt.figure(figsize=(8, 8))\n",
    "plt.imshow(KM2014_Normalised)\n",
    "plt.title(\"Kenai Mountains 2014 False Colour Composite Image\")\n",
    "plt.show()"
   ]
  },
  {
   "cell_type": "code",
   "execution_count": null,
   "id": "ba8617b2-0a43-4ce4-a8c7-e83ce9e3f27a",
   "metadata": {},
   "outputs": [],
   "source": [
    "# Now that the False Colour Composite Image has been created, we will need to save the image  \n",
    "\n",
    "# First we will open one of the bands to get its profile and use it as a source\n",
    "with rasterio.open('KenaiMountains2014/LC08_L1TP_069018_20140925_20200910_02_T1_B5.TIF') as KM2014_source:\n",
    "    KM2014_ImgProfile = KM2014_source.profile\n",
    "\n",
    "# We then update the profile for all of the bands in the False Colour Composite using the source\n",
    "KM2014_ImgProfile.update(\n",
    "    count=3,  # The count is set to 3 as we are using 3 bands (NIR, Red and Green)\n",
    "    dtype=KM2014_Normalised.dtype  # We set that data type to be the same as the created False Colour Composite\n",
    ")\n",
    "\n",
    "# Finally we save the False Colour Composite to the Kenai Mountains folder\n",
    "with rasterio.open('KenaiMountains2014/KM2014_FullFCC.TIF', 'w', **KM2014_ImgProfile) as KM2014_FCCdownload:\n",
    "# We then use the .write function to save the False Colour image to the Kenai Mountains 2009 folder\n",
    "    \n",
    "# We use .transpose to chnage the shape of the array to match the format expected by rasterio when writing/saving the image to the folder (Bands, Rows and Columns respectively) \n",
    "    KM2014_FCCdownload.write(KM2014_Normalised.transpose(2, 0, 1))  \n",
    "print(\"Image has been saved as KM2014_FullFCC.TIF in KenaiMountain2014\")"
   ]
  },
  {
   "cell_type": "code",
   "execution_count": null,
   "id": "c8ff3359-5247-4fb8-800a-5c665c467c06",
   "metadata": {},
   "outputs": [],
   "source": [
    "with rasterio.open('KenaiMountains2014/KM2014_FullFCC.TIF') as KM2014FCCsrc:\n",
    "    print(KM2014FCCsrc.bounds)"
   ]
  },
  {
   "cell_type": "code",
   "execution_count": null,
   "id": "a7c2aed0-6e29-4a35-8d86-b28bb625d65d",
   "metadata": {},
   "outputs": [],
   "source": [
    "### ADJUST BOUNDING BOX DIMENSIONS ####\n",
    "\n",
    "\n",
    "# In order to crop the TIF we are going ot define a new bounding box to highlight only the Kenai Mountains in the Image\n",
    "BoundingBox = {\"left\": 601185.0,\"bottom\": 6551985.0,\"right\": 724815.0,\"top\": 6700615.0}\n",
    "\n",
    "# Open source raster for the crop\n",
    "with rasterio.open('KenaiMountains2014/KM2014_FullFCC.TIF') as KM2014Cropsrc:\n",
    "    # We then define a crop window using the bounding box above\n",
    "    KM2014Trim = from_bounds(BoundingBox[\"left\"], BoundingBox[\"bottom\"], BoundingBox[\"right\"], BoundingBox[\"top\"], transform=KM2014Cropsrc.transform)\n",
    "    \n",
    "    # Read data within the created boudning box window\n",
    "    KM2014Trim_Data = KM2014Cropsrc.read(window=KM2014Trim)\n",
    "    \n",
    "    # Update the profile of the new trimmed image so that it can be saved and used in the data analysis\n",
    "    KM2014Trim_Transform = KM2014Cropsrc.window_transform(KM2014Trim)\n",
    "    KM2014Trim_profile = KM2014Cropsrc.profile.copy()\n",
    "    KM2014Trim_profile.update({\n",
    "        \"height\": KM2014Trim_Data.shape[1],\n",
    "        \"width\": KM2014Trim_Data.shape[2],\n",
    "        \"transform\": KM2014Trim_Transform\n",
    "    })\n",
    "\n",
    "# Save the cropped image and metadata to a new TIF\n",
    "with rasterio.open('KenaiMountains2014/KM2014_FCC_Trim.TIF', \"w\", **KM2014Trim_profile) as dst:\n",
    "    dst.write(KM2014Trim_Data)\n",
    "\n",
    "# Display the trim so that we can be satisfied that the study area is covered\n",
    "plt.imshow(KM2014Trim_Data.transpose((1, 2, 0)))\n",
    "plt.title(\"Cropped 2014 Kenai Mountains Image\")\n",
    "plt.show()"
   ]
  },
  {
   "cell_type": "code",
   "execution_count": null,
   "id": "30933b5e-2cfd-4ea8-b9a8-54f06302d07a",
   "metadata": {},
   "outputs": [],
   "source": [
    "# The KenaiMountains1986 folder is rather full and messy so we will delete all the unneccessary files that we no longer need\n",
    "# The only file we need from here on is the exported False Colour Composite so the rest can be deleted to make the GitHub commits easier\n",
    "# This will be useful when it comes to using more modern Landsat datasets as the files will be over 100mb which causes issues in the GitHub commit\n",
    "\n",
    "for KM2014_filenames in os.listdir('KenaiMountains2014'): \n",
    "    KM2014_FilePath = os.path.join('KenaiMountains2014', KM2014_filenames) # We create a variable that loops through all of the filenames in the KenaiMountains1986 folder\n",
    "    \n",
    "    if os.path.isfile(KM2014_FilePath) and KM2014_filenames !='KM2014_FCC_Trim.TIF':\n",
    "        os.remove(KM2014_FilePath)\n",
    "print(\"Deleted the files that are no longer required (Click Refresh on folder)\")"
   ]
  },
  {
   "cell_type": "code",
   "execution_count": null,
   "id": "5535b739-e9c1-47d6-8a83-e38715389deb",
   "metadata": {},
   "outputs": [],
   "source": [
    "#First we will open the TIF\n",
    "with rasterio.open('KenaiMountains2014/KM2014_FCC_Trim.TIF') as KM2014FCCsrc:\n",
    "    KM2014_Normalised = KM2014FCCsrc.read()\n",
    "    KM2014_profile = KM2014FCCsrc.profile\n",
    "\n",
    "# The Landsat bands are Digitial Numbers so we then will normalize bands from 0-255 (as they are an 8-bit image) to 0-1\n",
    "KM2014_Normalised = KM2014_Normalised.astype(np.float32)\n",
    "KM2014_Normalised /= KM2014_Normalised.max()\n",
    "\n",
    "\n",
    "KM2014_Glacier = (KM2014_Normalised[0] > 0.3) & (KM2014_Normalised[1] > 0.3) & (KM2014_Normalised[2] > 0.3)\n",
    "\n",
    "# We the redefine the new cropped pxiel based classification before we calculate the area\n",
    "# This will save the mask produced by the above code to a new TIF which we will use to calculate the area of Glacier snow and ice\n",
    "KM2014_Glacier = KM2014_Glacier.astype(np.uint8)\n",
    "\n",
    "KM2014_NewProfile = KM2014_profile.copy()\n",
    "KM2014_NewProfile.update(dtype='uint8', count=1)\n",
    "\n",
    "with rasterio.open('KenaiMountains2014/KM2014_GlacierMask.TIF', 'w', **KM2014_NewProfile) as dst:\n",
    "    dst.write(KM2014_Glacier, 1)\n",
    "\n",
    "plt.figure(figsize=(8, 8))\n",
    "plt.imshow(KM2014_Glacier, cmap='gray')\n",
    "plt.title('Kenai Mountains 2014 - Pixel Based of Glacier snow and ice')\n",
    "plt.show()"
   ]
  },
  {
   "cell_type": "code",
   "execution_count": null,
   "id": "0363456a-e82d-468d-a080-8bdd75398ae1",
   "metadata": {},
   "outputs": [],
   "source": [
    "# Open the cropped Glacier mask produced in the above step\n",
    "with rasterio.open('KenaiMountains2014/KM2014_GlacierMask.TIF') as KM2014GlacAreasrc:\n",
    "    KM2014_GlacierMask = KM2014GlacAreasrc.read(1)  # Read first band of the Glacier Mask\n",
    "    KM2014_Transfrom = KM2014GlacAreasrc.transform\n",
    "    GlacPixelWidth = KM2014_Transfrom[0]     # pixel width\n",
    "    GlacPixelHeight = -KM2014_Transfrom[4]    # pixel height (The value is negative so we add an \"-\" to make it positive)\n",
    "\n",
    "# Calculate the Area per Pixel for the image\n",
    "KM2014_AreaPP = GlacPixelWidth * GlacPixelHeight  # For Landsat TM it will be 30m x 30m \n",
    "\n",
    "# Calculate how many pixels in the image have been identified as snow as per the Glacier mask above\n",
    "KM2014_GlacPixel = np.sum(KM2014_GlacierMask == 1)\n",
    "\n",
    "# Calculate the estimated area coverage of Glacier Ice and snow\n",
    "TotalGlacArea2014 = (KM2014_GlacPixel * KM2014_AreaPP) / 1e6  # convert to square kilometers\n",
    "\n",
    "print(f\"Estimated 2014 Glacier Area: {TotalGlacArea2014:.2f} km²\")"
   ]
  },
  {
   "cell_type": "markdown",
   "id": "5556dba6-8c27-4506-9951-fc2ae8f71080",
   "metadata": {},
   "source": [
    "## Downloading and analysing the 2014 Landsat Scene ##"
   ]
  },
  {
   "cell_type": "code",
   "execution_count": null,
   "id": "24732f02-fe9f-475f-b32f-dacc15e14099",
   "metadata": {},
   "outputs": [],
   "source": [
    "# In this cell we will use the search function to get the product id of the imager used in the study\n",
    "results_2024 = api.scene_search(\n",
    "    dataset = \"landsat_ot_c2_l1\", #Landsat dataset used for 1986 image\n",
    "    lat = 60.09328, # The latitude of the image\n",
    "    lng = -149.48212, # The longtitude of the image\n",
    "    start_date = \"2024-08-20\", # The start date of the search range\n",
    "    end_date = \"2024-08-20\", # The end date of the search range\n",
    "    api_key=api_key # The Users Api key\n",
    ")\n",
    "#The next lines of script will loop through each 'scene' that appears in the results and will print out the 'entity ID' which will be used in the dataset downlaod.\n",
    "for scene in results_2024['data']['results']:\n",
    "    print(\"The Entity ID of the Landsat scene is\",(scene['entityId'])) "
   ]
  },
  {
   "cell_type": "code",
   "execution_count": null,
   "id": "9ea0dde2-3d8d-4f48-8744-723df9aa780d",
   "metadata": {},
   "outputs": [],
   "source": [
    "# The below code will download the Landsat Satellite images which we identified in the Scene Search above\n",
    "# We will use the OS module to create a new folder for the Landsat images to be downloaded into\n",
    "# The download url returned in the download_request will be used via the requests module\n",
    "# The images will downloaded as a tar file as this file type is supported by the api\n",
    "\n",
    "os.makedirs(\"KenaiMountains2024\", exist_ok=True) # This will create a new folder for the Kenai Mountains 1986 images\n",
    "\n",
    "KM_2024 = api.download_request( # This functions will return the available download urls for the Landsat scene\n",
    "    dataset=\"landsat_ot_c2_l1\", # Landsat dataset\n",
    "    entity_id=\"LC90680182024233LGN00\", # Landsat scene ID\n",
    "    product_id=\"5e81f14f92acf9ef\", # Product ID (Landsat Band file), this will be the same the 2017 dataset as it also using Landsat OT\n",
    ")\n",
    "\n",
    " # The below code will download the Landsat data using the url provided by the download_request function from the EE node\n",
    "if 'data' in KM_2024 and 'availableDownloads' in KM_2024['data']:\n",
    "    KM_2024Avail = KM_2024['data']['availableDownloads'] # Identifies if the above Landsat is available to be downloaded\n",
    "    if KM_2024Avail:\n",
    "        KM2024downloadurl = KM_2024Avail[0]['url'] # We access the first download url retrieved from download_request\n",
    "        KM_2024File = os.path.join(\"KenaiMountains2024\", f\"LC90680182024233LGN00.tar\") # We set a file pathway for the download into the new Kenai Mountains 1986 folder created above\n",
    "        KM2024url = requests.get(KM2024downloadurl, stream=True) # We use the requests module to request the url stored in the 'KM1986downloadurl' variable\n",
    "        \n",
    "        with open(KM_2024File, \"wb\") as f: # We are telling the code to overwrite or create the file and write it in binary mode to avoid corruption as we are downloading images\n",
    "            for chunk in KM2024url.iter_content(chunk_size=8192): # To avoid causing issues downloading larger sets of data we download the folder in 8 KB Chunks\n",
    "                if chunk:\n",
    "                    f.write(chunk)\n",
    "\n",
    "# The download may take some time but you will see the download progress in the newly creaated 'KenaiMountains2009' folder (click refresh on the folder)\n",
    "print(\"2024 Kenai Mountain images downloaded!\") "
   ]
  },
  {
   "cell_type": "code",
   "execution_count": null,
   "id": "4750c249-ec2c-4170-9c9a-ca41cac624b2",
   "metadata": {},
   "outputs": [],
   "source": [
    "# We will extract the Landsat images from the scene we have just downloaded into the same folder\n",
    "with tarfile.open('KenaiMountains2024/LC90680182024233LGN00.tar', 'r') as KM2024Tar:\n",
    "    KM2024Tar.extractall('KenaiMountains2024')\n",
    "\n",
    "print(\"Images have been successfully extracted\")"
   ]
  },
  {
   "cell_type": "code",
   "execution_count": null,
   "id": "aa0217a0-c76e-4ce7-a34a-2cf035f1df98",
   "metadata": {},
   "outputs": [],
   "source": [
    "# In this cell we will build the False Colour Composite image of the 1986 Landsat scene\n",
    "# The bands we are going to need are B4, B3 and B2 (NIR, Red and Green respectively)\n",
    "# After we build the Landsat scene we are going to save the new image to the 'KenaiMountains1986' folder\n",
    "\n",
    "#First we are going to use the rasterio module to open the paths to the Band TIF files in the folder they are saved to\n",
    "with rasterio.open('KenaiMountains2024/LC09_L1TP_068018_20240820_20240820_02_T1_B5.TIF') as KM2024_B5IMG:\n",
    "    KM24B5 = KM2024_B5IMG.read(1)\n",
    "with rasterio.open('KenaiMountains2024/LC09_L1TP_068018_20240820_20240820_02_T1_B4.TIF') as KM2024_B4IMG:\n",
    "    KM24B4 = KM2024_B4IMG.read(1)\n",
    "with rasterio.open('KenaiMountains2024/LC09_L1TP_068018_20240820_20240820_02_T1_B3.TIF') as KM2024_B3IMG:\n",
    "    KM24B3 = KM2024_B3IMG.read(1)\n",
    "\n",
    "# We will stack the newly defined bands using the NumPy module to create a single 3D Array\n",
    "KM2024_falsecolourstack = np.dstack((KM24B5, KM24B4, KM24B3))\n",
    "\n",
    "KM2024_Normalised = KM2024_falsecolourstack.astype(np.float32)\n",
    "KM2024_Normalised /= KM2024_Normalised.max()\n",
    "\n",
    "# Then the created 3D array will be printed to show the False Colour Composite image of the selected Landsat scene for 1986\n",
    "plt.figure(figsize=(8, 8))\n",
    "plt.imshow(KM2024_Normalised)\n",
    "plt.title(\"Kenai Mountains 2024 False Colour Composite Image\")\n",
    "plt.show()"
   ]
  },
  {
   "cell_type": "code",
   "execution_count": null,
   "id": "930e2ecc-2f21-4223-8b54-d63b80178448",
   "metadata": {},
   "outputs": [],
   "source": [
    "# Now that the False Colour Composite Image has been created, we will need to save the image  \n",
    "\n",
    "# First we will open one of the bands to get its profile and use it as a source\n",
    "with rasterio.open('KenaiMountains2024/LC09_L1TP_068018_20240820_20240820_02_T1_B5.TIF') as KM2024_source:\n",
    "    KM2024_ImgProfile = KM2024_source.profile\n",
    "\n",
    "# We then update the profile for all of the bands in the False Colour Composite using the source\n",
    "KM2024_ImgProfile.update(\n",
    "    count=3,  # The count is set to 3 as we are using 3 bands (NIR, Red and Green)\n",
    "    dtype=KM2024_Normalised.dtype  # We set that data type to be the same as the created False Colour Composite\n",
    ")\n",
    "\n",
    "# Finally we save the False Colour Composite to the Kenai Mountains folder\n",
    "with rasterio.open('KenaiMountains2024/KM2024_FullFCC.TIF', 'w', **KM2024_ImgProfile) as KM2024_FCCdownload:\n",
    "# We then use the .write function to save the False Colour image to the Kenai Mountains 2009 folder\n",
    "    \n",
    "# We use .transpose to chnage the shape of the array to match the format expected by rasterio when writing/saving the image to the folder (Bands, Rows and Columns respectively) \n",
    "    KM2024_FCCdownload.write(KM2024_Normalised.transpose(2, 0, 1))  \n",
    "print(\"Image has been saved as KM2024_FullFCC.TIF in KenaiMountain2014\")"
   ]
  },
  {
   "cell_type": "code",
   "execution_count": null,
   "id": "ab98addd-a1b7-4f3d-aab8-9da5ca9f425a",
   "metadata": {},
   "outputs": [],
   "source": [
    "with rasterio.open('KenaiMountains2024/KM2024_FullFCC.TIF') as KM2024FCCsrc:\n",
    "    print(KM2024FCCsrc.bounds)"
   ]
  },
  {
   "cell_type": "code",
   "execution_count": null,
   "id": "29b00ed0-3e16-4812-9bdf-fd0a0a81dc04",
   "metadata": {},
   "outputs": [],
   "source": [
    "### ADJUST BOUNDING BOX DIMENSIONS ####\n",
    "\n",
    "\n",
    "# In order to crop the TIF we are going ot define a new bounding box to highlight only the Kenai Mountains in the Image\n",
    "BoundingBox = {\"left\": 181185.0,\"bottom\": 6551985.0,\"right\": 374815.0,\"top\": 6690615.0}\n",
    "\n",
    "# Open source raster for the crop\n",
    "with rasterio.open('KenaiMountains2024/KM2024_FullFCC.TIF') as KM2024Cropsrc:\n",
    "    # We then define a crop window using the bounding box above\n",
    "    KM2024Trim = from_bounds(BoundingBox[\"left\"], BoundingBox[\"bottom\"], BoundingBox[\"right\"], BoundingBox[\"top\"], transform=KM2024Cropsrc.transform)\n",
    "    \n",
    "    # Read data within the created boudning box window\n",
    "    KM2024Trim_Data = KM2024Cropsrc.read(window=KM2024Trim)\n",
    "    \n",
    "    # Update the profile of the new trimmed image so that it can be saved and used in the data analysis\n",
    "    KM2024Trim_Transform = KM2024Cropsrc.window_transform(KM2024Trim)\n",
    "    KM2024Trim_profile = KM2024Cropsrc.profile.copy()\n",
    "    KM2024Trim_profile.update({\n",
    "        \"height\": KM2024Trim_Data.shape[1],\n",
    "        \"width\": KM2024Trim_Data.shape[2],\n",
    "        \"transform\": KM2024Trim_Transform\n",
    "    })\n",
    "\n",
    "# Save the cropped image and metadata to a new TIF\n",
    "with rasterio.open('KenaiMountains2024/KM2024_FCC_Trim.TIF', \"w\", **KM2024Trim_profile) as dst:\n",
    "    dst.write(KM2024Trim_Data)\n",
    "\n",
    "# Display the trim so that we can be satisfied that the study area is covered\n",
    "plt.imshow(KM2024Trim_Data.transpose((1, 2, 0)))\n",
    "plt.title(\"Cropped 2024 Kenai Mountains Image\")\n",
    "plt.show()"
   ]
  },
  {
   "cell_type": "code",
   "execution_count": null,
   "id": "0f0462d3-ffca-4d4e-a008-7a08c55f66d3",
   "metadata": {},
   "outputs": [],
   "source": [
    "# The KenaiMountains1986 folder is rather full and messy so we will delete all the unneccessary files that we no longer need\n",
    "# The only file we need from here on is the exported False Colour Composite so the rest can be deleted to make the GitHub commits easier\n",
    "# This will be useful when it comes to using more modern Landsat datasets as the files will be over 100mb which causes issues in the GitHub commit\n",
    "\n",
    "for KM2024_filenames in os.listdir('KenaiMountains2024'): \n",
    "    KM2024_FilePath = os.path.join('KenaiMountains2024', KM2024_filenames) # We create a variable that loops through all of the filenames in the KenaiMountains1986 folder\n",
    "    \n",
    "    if os.path.isfile(KM2024_FilePath) and KM2024_filenames !='KM2024_FCC_Trim.TIF':\n",
    "        os.remove(KM2024_FilePath)\n",
    "print(\"Deleted the files that are no longer required (Click Refresh on folder)\")"
   ]
  },
  {
   "cell_type": "code",
   "execution_count": null,
   "id": "32bd8c0b-9e31-43de-bba2-7488cead16ca",
   "metadata": {},
   "outputs": [],
   "source": [
    "#First we will open the TIF\n",
    "with rasterio.open('KenaiMountains2024/KM2024_FCC_Trim.TIF') as KM2024FCCsrc:\n",
    "    KM2024_Normalised = KM2024FCCsrc.read()\n",
    "    KM2024_profile = KM2024FCCsrc.profile\n",
    "\n",
    "# The Landsat bands are Digitial Numbers so we then will normalize bands from 0-255 (as they are an 8-bit image) to 0-1\n",
    "KM2024_Normalised = KM2024_Normalised.astype(np.float32)\n",
    "KM2024_Normalised /= KM2024_Normalised.max()\n",
    "\n",
    "\n",
    "KM2024_Glacier = (KM2024_Normalised[0] > 0.3) & (KM2024_Normalised[1] > 0.3) & (KM2024_Normalised[2] > 0.3)\n",
    "\n",
    "# We the redefine the new cropped pxiel based classification before we calculate the area\n",
    "# This will save the mask produced by the above code to a new TIF which we will use to calculate the area of Glacier snow and ice\n",
    "KM2024_Glacier = KM2024_Glacier.astype(np.uint8)\n",
    "\n",
    "KM2024_NewProfile = KM2024_profile.copy()\n",
    "KM2024_NewProfile.update(dtype='uint8', count=1)\n",
    "\n",
    "with rasterio.open('KenaiMountains2024/KM2024_GlacierMask.TIF', 'w', **KM2024_NewProfile) as dst:\n",
    "    dst.write(KM2024_Glacier, 1)\n",
    "\n",
    "plt.figure(figsize=(8, 8))\n",
    "plt.imshow(KM2024_Glacier, cmap='gray')\n",
    "plt.title('Kenai Mountains 2024 - Pixel Based of Glacier snow and ice')\n",
    "plt.show()"
   ]
  },
  {
   "cell_type": "code",
   "execution_count": null,
   "id": "a173697d-e874-462f-b6f0-f3b23f24d30f",
   "metadata": {},
   "outputs": [],
   "source": [
    "# Open the cropped Glacier mask produced in the above step\n",
    "with rasterio.open('KenaiMountains2024/KM2024_GlacierMask.TIF') as KM2024GlacAreasrc:\n",
    "    KM2024_GlacierMask = KM2024GlacAreasrc.read(1)  # Read first band of the Glacier Mask\n",
    "    KM2024_Transfrom = KM2024GlacAreasrc.transform\n",
    "    GlacPixelWidth = KM2024_Transfrom[0]     # pixel width\n",
    "    GlacPixelHeight = -KM2024_Transfrom[4]    # pixel height (The value is negative so we add an \"-\" to make it positive)\n",
    "\n",
    "# Calculate the Area per Pixel for the image\n",
    "KM2024_AreaPP = GlacPixelWidth * GlacPixelHeight  # For Landsat TM it will be 30m x 30m \n",
    "\n",
    "# Calculate how many pixels in the image have been identified as snow as per the Glacier mask above\n",
    "KM2024_GlacPixel = np.sum(KM2024_GlacierMask == 1)\n",
    "\n",
    "# Calculate the estimated area coverage of Glacier Ice and snow\n",
    "TotalGlacArea2024 = (KM2024_GlacPixel * KM2024_AreaPP) / 1e6  # convert to square kilometers\n",
    "\n",
    "print(f\"Estimated 201#24 Glacier Area: {TotalGlacArea2024:.2f} km²\")"
   ]
  },
  {
   "cell_type": "code",
   "execution_count": 31,
   "id": "698529b7-ce26-4c4a-8b3f-a60c2d2e5928",
   "metadata": {},
   "outputs": [
    {
     "name": "stdout",
     "output_type": "stream",
     "text": [
      "Log out successfull!\n"
     ]
    }
   ],
   "source": [
    "# Logs out the existing USGS account for the script\n",
    "# Ensure you log out using this cell whenever you are finished to prevent any issues revisiting or adapting the script\n",
    "api.logout()\n",
    "print(\"Log out successfull!\")"
   ]
  },
  {
   "cell_type": "code",
   "execution_count": null,
   "id": "4d19abfe-e88a-474a-ba4e-0c6acf75e9d7",
   "metadata": {},
   "outputs": [],
   "source": []
  }
 ],
 "metadata": {
  "kernelspec": {
   "display_name": "Python 3 (ipykernel)",
   "language": "python",
   "name": "python3"
  },
  "language_info": {
   "codemirror_mode": {
    "name": "ipython",
    "version": 3
   },
   "file_extension": ".py",
   "mimetype": "text/x-python",
   "name": "python",
   "nbconvert_exporter": "python",
   "pygments_lexer": "ipython3",
   "version": "3.9.22"
  }
 },
 "nbformat": 4,
 "nbformat_minor": 5
}
