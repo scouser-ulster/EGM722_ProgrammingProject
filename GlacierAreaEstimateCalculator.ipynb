{
 "cells": [
  {
   "cell_type": "markdown",
   "id": "91617b2a-b65e-4b09-9cd2-ce8b4de080f6",
   "metadata": {},
   "source": [
    "## GLACIER AREA CALCULATOR ### \n",
    "\n",
    "This project will primarily use the USGS Python Package to identify, download and present Landsat imagery from 1985, 2005 and 2025 across several glacier mountain ranges across the world. \n",
    "The mountain ranges will include:\n",
    "- Kenai Mountains (Alaska)\n",
    "- Swiss Alps\n",
    "- *Insert Greenland/Himalayas maybe?*\n",
    "This script will download and present the images in False Colour Composite, then will generate a classification to identify the ice area on the images and this classification will be used in each image to calculate the change in glacier area across glaciated areas on a global scale."
   ]
  },
  {
   "cell_type": "markdown",
   "id": "c614b627-b149-4f9b-b677-855a44f7bf72",
   "metadata": {},
   "source": [
    "##TO DO LIST FOR THE STUDY## \n",
    "\n",
    "\n",
    "----KENAI MOUNTAINS----\n",
    "- Identify Landsat information on the USGS EE site and get the correct WRS path, etc.\n",
    "- Download Landsat Images for Kenai Mountains first\n",
    "- Clasification\n",
    "- Area change calculation\n",
    "- See if you can edit the image to show only the selected mountain range (Crop Stacked Landsat TIF)\n",
    "- Maybe include some help() but ask Bob if it is something that is expected or required\n",
    "\n",
    "----Swiss Alps-----\n",
    "- Same as above\n",
    "- Try to select area with Alestchgletscher\n",
    "\n",
    "----GREENLAND/HIMALAYAS----\n",
    "- Same as above\n",
    "\n",
    "\n",
    "---AFTER LANDSAT DONE-----\n",
    "- Generate a comparison Table/Template for all results acquired\n",
    "- IF YOU HAVE TIME, maybe do a couple more glacier mountains\n",
    "- Keep it that the script can be used to generate area as long as the correct info is input (ID, WRS, ETC..)\n",
    "- Ask if an ArcGIS element is expected for the assignment\n",
    "- Ask/Check how the how-to-guide is to be formatted (separate word doc in Git Repos/in the README/....\n",
    "- Check how the final repos is to be submitted\n",
    "\n"
   ]
  },
  {
   "cell_type": "code",
   "execution_count": null,
   "id": "7b030732-c4ea-4001-8c2f-b27816d32d24",
   "metadata": {},
   "outputs": [],
   "source": [
    "import usgs\n",
    "import os\n",
    "import requests"
   ]
  },
  {
   "cell_type": "code",
   "execution_count": null,
   "id": "9776fd66-36ca-471d-a2ba-75fb59e82ea0",
   "metadata": {},
   "outputs": [],
   "source": [
    "from usgs import api"
   ]
  },
  {
   "cell_type": "code",
   "execution_count": null,
   "id": "e34fb1c7-40d7-4863-aed3-8284108cf66d",
   "metadata": {},
   "outputs": [],
   "source": [
    "# Open and read the Username and Api Key/Token for the USGS account\n",
    "with open('C:/Users/couse/.usgs_user', 'r') as usertext:\n",
    "    username = usertext.read()\n",
    "with open('C:/Users/couse/.usgs_token', 'r') as tokentext:\n",
    "    password = tokentext.read()\n",
    "    \n",
    "# Log in using the above information in the script attached below\n",
    "login = api.login(username, password, save=True)\n",
    "\n",
    "#The API Key (token) is extracted separately as it will be used in the script to search for and download Landsat imagery\n",
    "api_key = login['data']"
   ]
  },
  {
   "cell_type": "markdown",
   "id": "8fdd68c0-3912-4e0e-985d-248b45b085cd",
   "metadata": {},
   "source": [
    "To identify and search for the required Landsat scenes in this study we are going to use the api.scene_search() function as this will be the primary method for getting the correct images before we download them. Below is some of the information we will need for the search"
   ]
  },
  {
   "cell_type": "code",
   "execution_count": null,
   "id": "fc7dc9bf-dc07-4847-bff9-bf5737a260ed",
   "metadata": {},
   "outputs": [],
   "source": [
    "help(api.scene_search)"
   ]
  },
  {
   "cell_type": "markdown",
   "id": "dbb61ef7-5073-435b-86aa-0b29958ab6d7",
   "metadata": {},
   "source": [
    "For the scene searches in this study we are going to need the following:\n",
    "- Dataset ID (dataset)\n",
    "- Latitude and Longitude (lat and lng)\n",
    "- Earth Explorer allows us to create a bounding box to get available images that cover those areas (ll and ur - Lower left corner and Upper Right corner for the bounding box respectively)\n",
    "- Start and End date (start_date and end_date)\n",
    "- Filters to get the correct images (where) (WRS Path, Cloud Cover, etc.)\n",
    "- Max Results incase there are multiple available images (max_results)\n",
    "- The extracted Api key (api_key)\n",
    "\n",
    "Future adaptations could include filtering image selection based on cloud coverage to ensure that images used are cloud free."
   ]
  },
  {
   "cell_type": "markdown",
   "id": "da245fc5-9ae6-49b5-bb02-fc13ed3f74be",
   "metadata": {},
   "source": [
    "We are going to use dataset_search to identify what Landsat datasets are available and importantly the exact 'dataset' which we will use to download and extract the specific scenes needed for this study"
   ]
  },
  {
   "cell_type": "code",
   "execution_count": null,
   "id": "754893d4-0e23-4b73-900d-e891100fa5f2",
   "metadata": {},
   "outputs": [],
   "source": [
    "# Landsat imagery comes from the EarthExplorer dataset (node), we will do a search and print out all Landsat datasets in the Earth Explorer node\n",
    "satellite_avail = api.dataset_search(\"landsat\", \"EE\")\n",
    "for dataset in satellite_avail['data']:\n",
    "        print(dataset['datasetAlias']) #Prints out names of all available datasets"
   ]
  },
  {
   "cell_type": "markdown",
   "id": "ec40fd37-86bc-4fff-bc5c-f6c72781e9a0",
   "metadata": {},
   "source": [
    "All available scenes are printed above. In this project we are going to use the 'landsat_tm_c2_l1' (~1985 and ~2004) and the 'landsat_ot_c2_l1' (2024) datasets to acquire imagery of the selected glacier mountainscapes. The next step is to search for the Landsat images that will be used for the study. You can get the Bounding box coordinates and landsat image information on the USGS Earth Explorer website = https://earthexplorer.usgs.gov/. In this study, a set date has been used to get the exact image required, however the date range can be adjusted to get see the available products ether across a range of dates or on different days."
   ]
  },
  {
   "cell_type": "code",
   "execution_count": null,
   "id": "a783f766-4aa3-4e0d-be1f-c857219a618a",
   "metadata": {},
   "outputs": [],
   "source": [
    "help(api.scene_search)\n"
   ]
  },
  {
   "cell_type": "code",
   "execution_count": null,
   "id": "2e183f17-d2f9-444f-a882-4f5009c98be6",
   "metadata": {},
   "outputs": [],
   "source": [
    "# In this cell we will use the search function to get the product id of the imager used in the study\n",
    "results = api.scene_search(\n",
    "    dataset = \"landsat_tm_c2_l1\", #Landsat dataset used for 1986 image\n",
    "    lat = 60.09345, # The latitude of the image\n",
    "    lng = -151.07395, # The longtitude of the image\n",
    "    ll = {\"longitude\" : -151.7075, \"latitude\" : 59.1140}, # The Latitude and Longtitude of the Lower left corner of the Bounding Box in EE\n",
    "    ur = {\"longitude\" : -150.1913, \"latitude\" : 59.9276}, # The Latitude and Longtitude of the Upper Right corner of the Bounding Box in EE\n",
    "    start_date = \"1986-09-11\", # The start date of the search range\n",
    "    end_date = \"1986-09-13\", # The end date of the search range\n",
    "    api_key=api_key # The Users Api key\n",
    ")\n",
    "#The next lines of script will loop through each 'scene' that appears in the results and will print out the 'entity ID' which will be used in the dataset downlaod.\n",
    "for scene in results['data']['results']:\n",
    "    print(\"The Entity ID of the Landsat scene is\",(scene['entityId'])) "
   ]
  },
  {
   "cell_type": "markdown",
   "id": "bc3a80b9-53d9-4d85-807a-22cc08cca1ae",
   "metadata": {},
   "source": [
    "Now that the Entity ID is known we can now download the Band files which we will use to build a false colour composite image of the Kenai Mountains."
   ]
  },
  {
   "cell_type": "code",
   "execution_count": null,
   "id": "96eba491-ffbe-4638-b4f4-95dd69c70c61",
   "metadata": {},
   "outputs": [],
   "source": [
    "#This cell will provide the different download options for the Landsat dataset\n",
    "api.dataset_download_options(\"landsat_tm_c2_l1\")                             "
   ]
  },
  {
   "cell_type": "markdown",
   "id": "f279fde6-3acc-46ab-be3f-323088bb53d6",
   "metadata": {},
   "source": [
    "In this study we are going to use the 'Landsat Collection 2 Level-1 Product Bundle' to download all the different bands. The product ID code with the downlaod option will be used in the download request to download zip file into the repository."
   ]
  },
  {
   "cell_type": "code",
   "execution_count": null,
   "id": "d595a472-00ed-44bf-9736-64e8191816e0",
   "metadata": {},
   "outputs": [],
   "source": [
    "help(api.dataset_download_options)"
   ]
  },
  {
   "cell_type": "code",
   "execution_count": null,
   "id": "c21b228a-2a2a-499e-9bc9-348867d92f02",
   "metadata": {},
   "outputs": [],
   "source": [
    "help(api.download_request)"
   ]
  },
  {
   "cell_type": "code",
   "execution_count": null,
   "id": "f926c7bb-2b14-43ce-8c3b-39e0a9dc19bf",
   "metadata": {},
   "outputs": [],
   "source": [
    "# ADD DOCSTRINGS FOR THIS CELL\n",
    "\n",
    "os.makedirs(\"KenaiMountains1986\", exist_ok=True) # Creates a new folder for the downloaded Landsat images folder\n",
    "\n",
    "KM_1986 = api.download_request(\n",
    "    dataset=\"landsat_tm_c2_l1\",\n",
    "    entity_id=\"LT50690181986255XXX05\",\n",
    "    product_id=\"5e83d0a0f94d7d8d\",\n",
    ")\n",
    "\n",
    " # Download the first file\n",
    "if 'data' in KM_1986 and 'availableDownloads' in KM_1986['data']:\n",
    "    KM_1986Avail = KM_1986['data']['availableDownloads']\n",
    "    if KM_1986Avail:\n",
    "        KM1986downloadurl = KM_1986Avail[0]['url']\n",
    "        KM_1986File = os.path.join(\"KenaiMountains1986\", f\"LT50690181986255XXX05.tar\")\n",
    "        KM1986url = requests.get(KM1986downloadurl, stream=True)\n",
    "        \n",
    "        with open(KM_1986File, \"wb\") as f:\n",
    "            for chunk in KM1986url.iter_content(chunk_size=8192):\n",
    "                if chunk:\n",
    "                    f.write(chunk)\n",
    "                    \n",
    "print(\"Landsat download complete!\")"
   ]
  },
  {
   "cell_type": "code",
   "execution_count": null,
   "id": "288a90c7-fc67-44cb-a513-335cbe99ca57",
   "metadata": {},
   "outputs": [],
   "source": [
    "help(requests.get)"
   ]
  },
  {
   "cell_type": "code",
   "execution_count": null,
   "id": "6746db6a-8a7f-4d09-8eb3-8516e975c0a9",
   "metadata": {},
   "outputs": [],
   "source": [
    "api.download_options(\n",
    "    dataset=\"landsat_tm_c2_l1\",\n",
    "    entity_ids=\"LT50690181986255XXX05\"\n",
    ")\n"
   ]
  },
  {
   "cell_type": "code",
   "execution_count": null,
   "id": "698529b7-ce26-4c4a-8b3f-a60c2d2e5928",
   "metadata": {},
   "outputs": [],
   "source": [
    "# Logs out the existing USGS account for the script\n",
    "api.logout()"
   ]
  },
  {
   "cell_type": "code",
   "execution_count": null,
   "id": "4d19abfe-e88a-474a-ba4e-0c6acf75e9d7",
   "metadata": {},
   "outputs": [],
   "source": []
  }
 ],
 "metadata": {
  "kernelspec": {
   "display_name": "Python 3 (ipykernel)",
   "language": "python",
   "name": "python3"
  },
  "language_info": {
   "codemirror_mode": {
    "name": "ipython",
    "version": 3
   },
   "file_extension": ".py",
   "mimetype": "text/x-python",
   "name": "python",
   "nbconvert_exporter": "python",
   "pygments_lexer": "ipython3",
   "version": "3.9.22"
  }
 },
 "nbformat": 4,
 "nbformat_minor": 5
}
