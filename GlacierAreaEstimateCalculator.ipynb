{
 "cells": [
  {
   "cell_type": "code",
   "execution_count": 1,
   "id": "7b030732-c4ea-4001-8c2f-b27816d32d24",
   "metadata": {},
   "outputs": [],
   "source": [
    "import usgs"
   ]
  },
  {
   "cell_type": "code",
   "execution_count": 2,
   "id": "9776fd66-36ca-471d-a2ba-75fb59e82ea0",
   "metadata": {},
   "outputs": [],
   "source": [
    "from usgs import api"
   ]
  },
  {
   "cell_type": "code",
   "execution_count": 5,
   "id": "e34fb1c7-40d7-4863-aed3-8284108cf66d",
   "metadata": {},
   "outputs": [
    {
     "ename": "USGSError",
     "evalue": "NOT_FOUND: Invalid Endpoint",
     "output_type": "error",
     "traceback": [
      "\u001b[1;31m---------------------------------------------------------------------------\u001b[0m",
      "\u001b[1;31mUSGSError\u001b[0m                                 Traceback (most recent call last)",
      "Cell \u001b[1;32mIn[5], line 10\u001b[0m\n\u001b[0;32m      7\u001b[0m     password \u001b[38;5;241m=\u001b[39m tokentext\u001b[38;5;241m.\u001b[39mread()\n\u001b[0;32m      9\u001b[0m \u001b[38;5;66;03m# Login to the API using the username and the token(API_KEY provided by the USGS) as password\u001b[39;00m\n\u001b[1;32m---> 10\u001b[0m login \u001b[38;5;241m=\u001b[39m \u001b[43mapi\u001b[49m\u001b[38;5;241;43m.\u001b[39;49m\u001b[43mlogin\u001b[49m\u001b[43m(\u001b[49m\u001b[43musername\u001b[49m\u001b[43m,\u001b[49m\u001b[43m \u001b[49m\u001b[43mpassword\u001b[49m\u001b[43m,\u001b[49m\u001b[43m \u001b[49m\u001b[43msave\u001b[49m\u001b[38;5;241;43m=\u001b[39;49m\u001b[38;5;28;43;01mTrue\u001b[39;49;00m\u001b[43m)\u001b[49m\n\u001b[0;32m     12\u001b[0m \u001b[38;5;66;03m#Below the API Key (token) is extracted separately as it will be used for the functions later in the script\u001b[39;00m\n\u001b[0;32m     13\u001b[0m api_key \u001b[38;5;241m=\u001b[39m login[\u001b[38;5;124m'\u001b[39m\u001b[38;5;124mdata\u001b[39m\u001b[38;5;124m'\u001b[39m]\n",
      "File \u001b[1;32m~\\anaconda3\\envs\\EGM722_ProgrammingProject\\lib\\site-packages\\usgs\\api.py:159\u001b[0m, in \u001b[0;36mlogin\u001b[1;34m(username, password, save)\u001b[0m\n\u001b[0;32m    155\u001b[0m     r \u001b[38;5;241m=\u001b[39m session\u001b[38;5;241m.\u001b[39mpost(url, payload)\n\u001b[0;32m    157\u001b[0m response \u001b[38;5;241m=\u001b[39m r\u001b[38;5;241m.\u001b[39mjson()\n\u001b[1;32m--> 159\u001b[0m \u001b[43m_check_for_usgs_error\u001b[49m\u001b[43m(\u001b[49m\u001b[43mresponse\u001b[49m\u001b[43m)\u001b[49m\n\u001b[0;32m    161\u001b[0m api_key \u001b[38;5;241m=\u001b[39m response[\u001b[38;5;124m\"\u001b[39m\u001b[38;5;124mdata\u001b[39m\u001b[38;5;124m\"\u001b[39m]\n\u001b[0;32m    163\u001b[0m \u001b[38;5;28;01mif\u001b[39;00m api_key \u001b[38;5;129;01mis\u001b[39;00m \u001b[38;5;28;01mNone\u001b[39;00m:\n",
      "File \u001b[1;32m~\\anaconda3\\envs\\EGM722_ProgrammingProject\\lib\\site-packages\\usgs\\api.py:38\u001b[0m, in \u001b[0;36m_check_for_usgs_error\u001b[1;34m(data)\u001b[0m\n\u001b[0;32m     35\u001b[0m \u001b[38;5;28;01mif\u001b[39;00m error_code \u001b[38;5;241m==\u001b[39m \u001b[38;5;124m'\u001b[39m\u001b[38;5;124mAUTH_EXPIRED\u001b[39m\u001b[38;5;124m'\u001b[39m:\n\u001b[0;32m     36\u001b[0m     \u001b[38;5;28;01mraise\u001b[39;00m USGSAuthExpiredError(\u001b[38;5;124m\"\u001b[39m\u001b[38;5;124mAPI key has expired. Try logging out and logging back in.\u001b[39m\u001b[38;5;124m\"\u001b[39m)\n\u001b[1;32m---> 38\u001b[0m \u001b[38;5;28;01mraise\u001b[39;00m USGSError(\u001b[38;5;124m'\u001b[39m\u001b[38;5;132;01m%s\u001b[39;00m\u001b[38;5;124m: \u001b[39m\u001b[38;5;132;01m%s\u001b[39;00m\u001b[38;5;124m'\u001b[39m \u001b[38;5;241m%\u001b[39m (error_code, error))\n",
      "\u001b[1;31mUSGSError\u001b[0m: NOT_FOUND: Invalid Endpoint"
     ]
    }
   ],
   "source": [
    "# Open and manually read the username from the .usgs_user file in the home directory\n",
    "with open('C:/Users/couse/.usgs_user', 'r') as usertext:\n",
    "    username = usertext.read()\n",
    "\n",
    "#Open and manually read the password/token from the.usgs_token in the home directory\n",
    "with open('C:/Users/couse/.usgs_token', 'r') as tokentext:\n",
    "    password = tokentext.read()\n",
    "    \n",
    "# Login to the API using the username and the token(API_KEY provided by the USGS) as password\n",
    "login = api.login(username, password, save=True)\n",
    "\n",
    "#Below the API Key (token) is extracted separately as it will be used for the functions later in the script\n",
    "api_key = login['data']"
   ]
  },
  {
   "cell_type": "code",
   "execution_count": 4,
   "id": "698529b7-ce26-4c4a-8b3f-a60c2d2e5928",
   "metadata": {},
   "outputs": [],
   "source": [
    "api.logout()"
   ]
  }
 ],
 "metadata": {
  "kernelspec": {
   "display_name": "Python 3 (ipykernel)",
   "language": "python",
   "name": "python3"
  },
  "language_info": {
   "codemirror_mode": {
    "name": "ipython",
    "version": 3
   },
   "file_extension": ".py",
   "mimetype": "text/x-python",
   "name": "python",
   "nbconvert_exporter": "python",
   "pygments_lexer": "ipython3",
   "version": "3.9.22"
  }
 },
 "nbformat": 4,
 "nbformat_minor": 5
}
