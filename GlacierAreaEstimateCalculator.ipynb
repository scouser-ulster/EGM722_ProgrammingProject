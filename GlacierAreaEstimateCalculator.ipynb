{
 "cells": [
  {
   "cell_type": "markdown",
   "id": "91617b2a-b65e-4b09-9cd2-ce8b4de080f6",
   "metadata": {},
   "source": [
    "## GLACIER AREA CALCULATOR ### \n",
    "\n",
    "This project will primarily use the USGS Python Package to identify, download and present Landsat imagery from 1985, 2005 and 2025 across several glacier mountain ranges across the world. \n",
    "The mountain ranges will include:\n",
    "- Kenai Mountains (Alaska)\n",
    "- Swiss Alps\n",
    "- *Insert Greenland/Himalayas maybe?*\n",
    "This script will download and present the images in False Colour Composite, then will generate a classification to identify the ice area on the images and this classification will be used in each image to calculate the change in glacier area across glaciated areas on a global scale."
   ]
  },
  {
   "cell_type": "markdown",
   "id": "c614b627-b149-4f9b-b677-855a44f7bf72",
   "metadata": {},
   "source": [
    "##TO DO LIST FOR THE STUDY## \n",
    "\n",
    "\n",
    "----KENAI MOUNTAINS----\n",
    "- Identify Landsat information on the USGS EE site and get the correct WRS path, etc.\n",
    "- Download Landsat Images for Kenai Mountains first\n",
    "- Clasification\n",
    "- Area change calculation\n",
    "- See if you can edit the image to show only the selected mountain range (Crop Stacked Landsat TIF)\n",
    "- Maybe include some help() but ask Bob if it is something that is expected or required\n",
    "\n",
    "----Swiss Alps-----\n",
    "- Same as above\n",
    "- Try to select area with Alestchgletscher\n",
    "\n",
    "----GREENLAND/HIMALAYAS----\n",
    "- Same as above\n",
    "\n",
    "\n",
    "---AFTER LANDSAT DONE-----\n",
    "- Generate a comparison Table/Template for all results acquired\n",
    "- IF YOU HAVE TIME, maybe do a couple more glacier mountains\n",
    "- Keep it that the script can be used to generate area as long as the correct info is input (ID, WRS, ETC..)\n",
    "- Ask if an ArcGIS element is expected for the assignment\n",
    "- Ask/Check how the how-to-guide is to be formatted (separate word doc in Git Repos/in the README/....\n",
    "- Check how the final repos is to be submitted\n",
    "\n"
   ]
  },
  {
   "cell_type": "code",
   "execution_count": 1,
   "id": "7b030732-c4ea-4001-8c2f-b27816d32d24",
   "metadata": {},
   "outputs": [],
   "source": [
    "import usgs"
   ]
  },
  {
   "cell_type": "code",
   "execution_count": 2,
   "id": "9776fd66-36ca-471d-a2ba-75fb59e82ea0",
   "metadata": {},
   "outputs": [],
   "source": [
    "from usgs import api"
   ]
  },
  {
   "cell_type": "code",
   "execution_count": 3,
   "id": "e34fb1c7-40d7-4863-aed3-8284108cf66d",
   "metadata": {},
   "outputs": [],
   "source": [
    "# Open and manually read the username from the .usgs_user file in the home directory\n",
    "with open('C:/Users/couse/.usgs_user', 'r') as usertext:\n",
    "    username = usertext.read()\n",
    "\n",
    "#Open and manually read the password/token from the.usgs_token in the home directory\n",
    "with open('C:/Users/couse/.usgs_token', 'r') as tokentext:\n",
    "    password = tokentext.read()\n",
    "    \n",
    "# Login to the API using the username and the token(API_KEY provided by the USGS) as password\n",
    "login = api.login(username, password, save=True)\n",
    "\n",
    "#Below the API Key (token) is extracted separately as it will be used for the functions later in the script\n",
    "api_key = login['data']"
   ]
  },
  {
   "cell_type": "code",
   "execution_count": 4,
   "id": "698529b7-ce26-4c4a-8b3f-a60c2d2e5928",
   "metadata": {},
   "outputs": [
    {
     "data": {
      "text/plain": [
       "{'requestId': 1982787590,\n",
       " 'version': 'stable',\n",
       " 'sessionId': 314954733,\n",
       " 'data': None,\n",
       " 'errorCode': None,\n",
       " 'errorMessage': None}"
      ]
     },
     "execution_count": 4,
     "metadata": {},
     "output_type": "execute_result"
    }
   ],
   "source": [
    "api.logout()"
   ]
  }
 ],
 "metadata": {
  "kernelspec": {
   "display_name": "Python 3 (ipykernel)",
   "language": "python",
   "name": "python3"
  },
  "language_info": {
   "codemirror_mode": {
    "name": "ipython",
    "version": 3
   },
   "file_extension": ".py",
   "mimetype": "text/x-python",
   "name": "python",
   "nbconvert_exporter": "python",
   "pygments_lexer": "ipython3",
   "version": "3.9.22"
  }
 },
 "nbformat": 4,
 "nbformat_minor": 5
}
