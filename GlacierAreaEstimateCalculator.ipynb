{
 "cells": [
  {
   "cell_type": "markdown",
   "id": "91617b2a-b65e-4b09-9cd2-ce8b4de080f6",
   "metadata": {},
   "source": [
    "## GLACIER AREA CALCULATOR ### \n",
    "\n",
    "This project will primarily use the USGS Python Package to identify, download and present Landsat imagery from 1985, 2005 and 2025 across several glacier mountain ranges across the world. \n",
    "The mountain ranges will include:\n",
    "- Kenai Mountains (Alaska)\n",
    "- Swiss Alps\n",
    "- *Insert Greenland/Himalayas maybe?*\n",
    "This script will download and present the images in False Colour Composite, then will generate a classification to identify the ice area on the images and this classification will be used in each image to calculate the change in glacier area across glaciated areas on a global scale."
   ]
  },
  {
   "cell_type": "markdown",
   "id": "c614b627-b149-4f9b-b677-855a44f7bf72",
   "metadata": {},
   "source": [
    "##TO DO LIST FOR THE STUDY## \n",
    "\n",
    "\n",
    "----KENAI MOUNTAINS----\n",
    "- Identify Landsat information on the USGS EE site and get the correct WRS path, etc.\n",
    "- Download Landsat Images for Kenai Mountains first\n",
    "- Clasification\n",
    "- Area change calculation\n",
    "- See if you can edit the image to show only the selected mountain range (Crop Stacked Landsat TIF)\n",
    "- Maybe include some help() but ask Bob if it is something that is expected or required\n",
    "\n",
    "----Swiss Alps-----\n",
    "- Same as above\n",
    "- Try to select area with Alestchgletscher\n",
    "\n",
    "----GREENLAND/HIMALAYAS----\n",
    "- Same as above\n",
    "\n",
    "\n",
    "---AFTER LANDSAT DONE-----\n",
    "- Generate a comparison Table/Template for all results acquired\n",
    "- IF YOU HAVE TIME, maybe do a couple more glacier mountains\n",
    "- Keep it that the script can be used to generate area as long as the correct info is input (ID, WRS, ETC..)\n",
    "- Ask if an ArcGIS element is expected for the assignment\n",
    "- Ask/Check how the how-to-guide is to be formatted (separate word doc in Git Repos/in the README/....\n",
    "- Check how the final repos is to be submitted\n",
    "\n"
   ]
  },
  {
   "cell_type": "code",
   "execution_count": 1,
   "id": "7b030732-c4ea-4001-8c2f-b27816d32d24",
   "metadata": {},
   "outputs": [],
   "source": [
    "import usgs"
   ]
  },
  {
   "cell_type": "code",
   "execution_count": 2,
   "id": "9776fd66-36ca-471d-a2ba-75fb59e82ea0",
   "metadata": {},
   "outputs": [],
   "source": [
    "from usgs import api"
   ]
  },
  {
   "cell_type": "code",
   "execution_count": 6,
   "id": "e34fb1c7-40d7-4863-aed3-8284108cf66d",
   "metadata": {},
   "outputs": [],
   "source": [
    "# Open and read the Username and Api Key/Token for the USGS account\n",
    "with open('C:/Users/couse/.usgs_user', 'r') as usertext:\n",
    "    username = usertext.read()\n",
    "with open('C:/Users/couse/.usgs_token', 'r') as tokentext:\n",
    "    password = tokentext.read()\n",
    "    \n",
    "# Log in using the above information in the script attached below\n",
    "login = api.login(username, password, save=True)\n",
    "\n",
    "#The API Key (token) is extracted separately as it will be used in the script to search for and download Landsat imagery\n",
    "api_key = login['data']"
   ]
  },
  {
   "cell_type": "markdown",
   "id": "8fdd68c0-3912-4e0e-985d-248b45b085cd",
   "metadata": {},
   "source": [
    "To identify and search for the required Landsat scenes in this study we are going to use the api.scene_search() function as this will be the primary method for getting the correct images before we download them. Below is some of the information we will need for the search"
   ]
  },
  {
   "cell_type": "code",
   "execution_count": 10,
   "id": "fc7dc9bf-dc07-4847-bff9-bf5737a260ed",
   "metadata": {},
   "outputs": [
    {
     "name": "stdout",
     "output_type": "stream",
     "text": [
      "Help on function scene_search in module usgs.api:\n",
      "\n",
      "scene_search(dataset, max_results=5000, metadata_type=None, start_date=None, end_date=None, ll=None, ur=None, lat=None, lng=None, distance=100, where=None, starting_number=1, sort_order='DESC', api_key=None)\n",
      "    :param dataset:\n",
      "        USGS dataset (e.g. EO1_HYP_PUB, LANDSAT_8)\n",
      "    :param lat:\n",
      "        Latitude\n",
      "    :param lng:\n",
      "        Longitude\n",
      "    :param distance:\n",
      "        Distance in meters used to for a radial search\n",
      "    :param ll:\n",
      "        Dictionary of longitude/latitude coordinates for the lower left corner\n",
      "        of a bounding box search. e.g. { \"longitude\": 0.0, \"latitude\": 0.0 }\n",
      "    :param ur:\n",
      "        Dictionary of longitude/latitude coordinates for the upper right corner\n",
      "        of a bounding box search. e.g. { \"longitude\": 0.0, \"latitude\": 0.0 }\n",
      "    :param start_date:\n",
      "        Start date for when a scene has been acquired\n",
      "    :param end_date:\n",
      "        End date for when a scene has been acquired\n",
      "    :where:\n",
      "        Dictionary representing key/values for finer grained conditional\n",
      "        queries. Only a subset of metadata fields are supported. Available\n",
      "        fields depend on the value of `dataset`, and maybe be found by\n",
      "        submitting a dataset_filters query.\n",
      "    :max_results:\n",
      "        Maximum results returned by the server\n",
      "    :starting_number:\n",
      "        Starting offset for results of a query.\n",
      "    :sort_order:\n",
      "        Order in which results are sorted. Ascending or descending w.r.t the acquisition date.\n",
      "    :api_key:\n",
      "        API key for EROS. Required for searching.\n",
      "\n"
     ]
    }
   ],
   "source": [
    "help(api.scene_search)"
   ]
  },
  {
   "cell_type": "markdown",
   "id": "dbb61ef7-5073-435b-86aa-0b29958ab6d7",
   "metadata": {},
   "source": [
    "For the scene searches in this study we are going to need the following:\n",
    "- Dataset ID (dataset)\n",
    "- Latitude and Longitude (lat and lng)\n",
    "- Earth Explorer allows us to create a bounding box to get available images that cover those areas (ll and ur - Lower left corner and Upper Right corner for the bounding box respectively)\n",
    "- Start and End date (start_date and end_date)\n",
    "- Max Results incase there are multiple available images (max_results)\n",
    "- The extracted Api key (api_key)\n",
    "\n",
    "Future adaptations could include filtering image selection based on cloud coverage to ensure that images used are cloud free."
   ]
  },
  {
   "cell_type": "markdown",
   "id": "da245fc5-9ae6-49b5-bb02-fc13ed3f74be",
   "metadata": {},
   "source": [
    "We are going to use dataset_search to identify what Landsat datasets are available and importantly the exact 'dataset' which we will use to download and extract the specific scenes needed for this study"
   ]
  },
  {
   "cell_type": "code",
   "execution_count": 7,
   "id": "754893d4-0e23-4b73-900d-e891100fa5f2",
   "metadata": {},
   "outputs": [
    {
     "name": "stdout",
     "output_type": "stream",
     "text": [
      "esat_etm_nopan\n",
      "esat_etm_pan\n",
      "ortho_mosaic_etm\n",
      "geos_5_fp_it\n",
      "geos_5_it\n",
      "lima\n",
      "landsat_mss_c2_l1\n",
      "landsat_tm_c2_l1\n",
      "landsat_tm_c2_l2\n",
      "landsat_ba_tile_c2\n",
      "landsat_dswe_tile_c2\n",
      "landsat_fsca_tile_c2\n",
      "landsat_fsca_tile_stat_c2\n",
      "landsat_ard_tile_c2\n",
      "landsat_etm_c2_l1\n",
      "landsat_etm_c2_l2\n",
      "landsat_ot_c2_l1\n",
      "landsat_ot_c2_l2\n",
      "landsat_band_files_c2_l1\n",
      "landsat_band_files_c2_l2\n",
      "lima_mosaic\n",
      "merra_2_c2\n",
      "ortho_mss_scene\n",
      "mss_film\n",
      "rbv_film\n",
      "sys_etm\n",
      "esat_tm\n",
      "tm_film\n",
      "ortho_mosaic\n",
      "viirs_atmos\n"
     ]
    }
   ],
   "source": [
    "# Landsat imagery comes from the EarthExplorer dataset (node), we will do a search and print out all Landsat datasets in the Earth Explorer node\n",
    "satellite_avail = api.dataset_search(\"landsat\", \"EE\", api_key=api_key)\n",
    "for dataset in satellite_avail['data']:\n",
    "        print(dataset['datasetAlias'])"
   ]
  },
  {
   "cell_type": "markdown",
   "id": "ec40fd37-86bc-4fff-bc5c-f6c72781e9a0",
   "metadata": {},
   "source": [
    "All available scenes are printed above. In this project we are going to use the 'landsat_mss_c2_l1' (1985), 'landsat_tm_c2_l1' (~2004) and the 'landsat_ot_c2_l1' (2024) datasets to acquire imagery of the selected glacier mountainscapes."
   ]
  },
  {
   "cell_type": "code",
   "execution_count": 11,
   "id": "698529b7-ce26-4c4a-8b3f-a60c2d2e5928",
   "metadata": {},
   "outputs": [
    {
     "data": {
      "text/plain": [
       "{'requestId': 1984598599,\n",
       " 'version': 'stable',\n",
       " 'sessionId': 315040452,\n",
       " 'data': None,\n",
       " 'errorCode': None,\n",
       " 'errorMessage': None}"
      ]
     },
     "execution_count": 11,
     "metadata": {},
     "output_type": "execute_result"
    }
   ],
   "source": [
    "# Logs out the existing USGS account for the script\n",
    "api.logout()"
   ]
  },
  {
   "cell_type": "code",
   "execution_count": null,
   "id": "4d19abfe-e88a-474a-ba4e-0c6acf75e9d7",
   "metadata": {},
   "outputs": [],
   "source": []
  }
 ],
 "metadata": {
  "kernelspec": {
   "display_name": "Python 3 (ipykernel)",
   "language": "python",
   "name": "python3"
  },
  "language_info": {
   "codemirror_mode": {
    "name": "ipython",
    "version": 3
   },
   "file_extension": ".py",
   "mimetype": "text/x-python",
   "name": "python",
   "nbconvert_exporter": "python",
   "pygments_lexer": "ipython3",
   "version": "3.9.22"
  }
 },
 "nbformat": 4,
 "nbformat_minor": 5
}
